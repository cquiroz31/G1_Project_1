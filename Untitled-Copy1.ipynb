{
 "cells": [
  {
   "cell_type": "code",
   "execution_count": 1,
   "metadata": {},
   "outputs": [],
   "source": [
    "import matplotlib.pyplot as plt\n",
    "import pandas as pd\n",
    "import numpy as np\n",
    "from scipy.stats import linregress\n",
    "import seaborn as sn\n",
    "from collections import Counter \n"
   ]
  },
  {
   "cell_type": "code",
   "execution_count": 3,
   "metadata": {},
   "outputs": [],
   "source": [
    "\n",
    "file = \"csv_data/2015.csv\"\n",
    "file1 = \"csv_data/2016.csv\"\n",
    "file2 = \"csv_data/2017.csv\"\n",
    "file3 = \"csv_data/2018.csv\"\n",
    "file4 = \"csv_data/2019.csv\""
   ]
  },
  {
   "cell_type": "code",
   "execution_count": 4,
   "metadata": {},
   "outputs": [],
   "source": [
    "# Dataframes by year\n",
    "\n",
    "df_2015 = pd.read_csv(file)\n",
    "df_2016 = pd.read_csv(file1)\n",
    "df_2017 = pd.read_csv(file2)\n",
    "df_2018 = pd.read_csv(file3)\n",
    "df_2019 = pd.read_csv(file4)"
   ]
  },
  {
   "cell_type": "code",
   "execution_count": 5,
   "metadata": {},
   "outputs": [
    {
     "name": "stdout",
     "output_type": "stream",
     "text": [
      "2015:  (158, 12)\n",
      "2016:  (157, 13)\n",
      "2017:  (155, 12)\n",
      "2018:  (156, 9)\n",
      "2019:  (156, 9)\n"
     ]
    }
   ],
   "source": [
    "#checks number of rows and columns \n",
    "print(\"2015: \", df_2015.shape)\n",
    "print(\"2016: \", df_2016.shape)\n",
    "print(\"2017: \", df_2017.shape)\n",
    "print(\"2018: \", df_2018.shape)\n",
    "print(\"2019: \", df_2019.shape)"
   ]
  },
  {
   "cell_type": "code",
   "execution_count": 6,
   "metadata": {},
   "outputs": [
    {
     "data": {
      "text/plain": [
       "Country                          0\n",
       "Region                           0\n",
       "Happiness Rank                   0\n",
       "Happiness Score                  0\n",
       "Standard Error                   0\n",
       "Economy (GDP per Capita)         0\n",
       "Family                           0\n",
       "Health (Life Expectancy)         0\n",
       "Freedom                          0\n",
       "Trust (Government Corruption)    0\n",
       "Generosity                       0\n",
       "Dystopia Residual                0\n",
       "dtype: int64"
      ]
     },
     "execution_count": 6,
     "metadata": {},
     "output_type": "execute_result"
    }
   ],
   "source": [
    "df_2015.isna().sum()"
   ]
  },
  {
   "cell_type": "code",
   "execution_count": 7,
   "metadata": {},
   "outputs": [
    {
     "data": {
      "text/plain": [
       "Index(['country', 'region', 'rank', 'score', 'standard error', 'gdp', 'family',\n",
       "       'health', 'freedom', 'corruption', 'generosity', 'dystopia'],\n",
       "      dtype='object')"
      ]
     },
     "execution_count": 7,
     "metadata": {},
     "output_type": "execute_result"
    }
   ],
   "source": [
    "df_2015.rename(columns={'Happiness Rank':'rank', 'Happiness Score':'score', 'Economy (GDP per Capita)': 'gdp',\n",
    "                      'Health (Life Expectancy)': 'health', 'Trust (Government Corruption)': 'corruption',\n",
    "                      \"Dystopia Residual\": \"dystopia\"},\n",
    "                        inplace = True)\n",
    "df_2015.columns = df_2015.columns.str.lower()\n",
    "df_2015.columns"
   ]
  },
  {
   "cell_type": "code",
   "execution_count": 8,
   "metadata": {},
   "outputs": [
    {
     "data": {
      "text/html": [
       "<div>\n",
       "<style scoped>\n",
       "    .dataframe tbody tr th:only-of-type {\n",
       "        vertical-align: middle;\n",
       "    }\n",
       "\n",
       "    .dataframe tbody tr th {\n",
       "        vertical-align: top;\n",
       "    }\n",
       "\n",
       "    .dataframe thead th {\n",
       "        text-align: right;\n",
       "    }\n",
       "</style>\n",
       "<table border=\"1\" class=\"dataframe\">\n",
       "  <thead>\n",
       "    <tr style=\"text-align: right;\">\n",
       "      <th></th>\n",
       "      <th>country</th>\n",
       "      <th>rank</th>\n",
       "      <th>score</th>\n",
       "      <th>gdp</th>\n",
       "      <th>family</th>\n",
       "      <th>health</th>\n",
       "      <th>freedom</th>\n",
       "      <th>corruption</th>\n",
       "      <th>generosity</th>\n",
       "      <th>dystopia</th>\n",
       "    </tr>\n",
       "  </thead>\n",
       "  <tbody>\n",
       "    <tr>\n",
       "      <th>81</th>\n",
       "      <td>Jordan</td>\n",
       "      <td>82</td>\n",
       "      <td>5.192</td>\n",
       "      <td>0.90198</td>\n",
       "      <td>1.05392</td>\n",
       "      <td>0.69639</td>\n",
       "      <td>0.40661</td>\n",
       "      <td>0.14293</td>\n",
       "      <td>0.11053</td>\n",
       "      <td>1.87996</td>\n",
       "    </tr>\n",
       "    <tr>\n",
       "      <th>143</th>\n",
       "      <td>Niger</td>\n",
       "      <td>144</td>\n",
       "      <td>3.845</td>\n",
       "      <td>0.06940</td>\n",
       "      <td>0.77265</td>\n",
       "      <td>0.29707</td>\n",
       "      <td>0.47692</td>\n",
       "      <td>0.15639</td>\n",
       "      <td>0.19387</td>\n",
       "      <td>1.87877</td>\n",
       "    </tr>\n",
       "    <tr>\n",
       "      <th>140</th>\n",
       "      <td>Uganda</td>\n",
       "      <td>141</td>\n",
       "      <td>3.931</td>\n",
       "      <td>0.21102</td>\n",
       "      <td>1.13299</td>\n",
       "      <td>0.33861</td>\n",
       "      <td>0.45727</td>\n",
       "      <td>0.07267</td>\n",
       "      <td>0.29066</td>\n",
       "      <td>1.42766</td>\n",
       "    </tr>\n",
       "    <tr>\n",
       "      <th>123</th>\n",
       "      <td>Mauritania</td>\n",
       "      <td>124</td>\n",
       "      <td>4.436</td>\n",
       "      <td>0.45407</td>\n",
       "      <td>0.86908</td>\n",
       "      <td>0.35874</td>\n",
       "      <td>0.24232</td>\n",
       "      <td>0.17461</td>\n",
       "      <td>0.21900</td>\n",
       "      <td>2.11773</td>\n",
       "    </tr>\n",
       "    <tr>\n",
       "      <th>146</th>\n",
       "      <td>Madagascar</td>\n",
       "      <td>147</td>\n",
       "      <td>3.681</td>\n",
       "      <td>0.20824</td>\n",
       "      <td>0.66801</td>\n",
       "      <td>0.46721</td>\n",
       "      <td>0.19184</td>\n",
       "      <td>0.08124</td>\n",
       "      <td>0.21333</td>\n",
       "      <td>1.85100</td>\n",
       "    </tr>\n",
       "  </tbody>\n",
       "</table>\n",
       "</div>"
      ],
      "text/plain": [
       "        country  rank  score      gdp   family   health  freedom  corruption  \\\n",
       "81       Jordan    82  5.192  0.90198  1.05392  0.69639  0.40661     0.14293   \n",
       "143       Niger   144  3.845  0.06940  0.77265  0.29707  0.47692     0.15639   \n",
       "140      Uganda   141  3.931  0.21102  1.13299  0.33861  0.45727     0.07267   \n",
       "123  Mauritania   124  4.436  0.45407  0.86908  0.35874  0.24232     0.17461   \n",
       "146  Madagascar   147  3.681  0.20824  0.66801  0.46721  0.19184     0.08124   \n",
       "\n",
       "     generosity  dystopia  \n",
       "81      0.11053   1.87996  \n",
       "143     0.19387   1.87877  \n",
       "140     0.29066   1.42766  \n",
       "123     0.21900   2.11773  \n",
       "146     0.21333   1.85100  "
      ]
     },
     "execution_count": 8,
     "metadata": {},
     "output_type": "execute_result"
    }
   ],
   "source": [
    "df_2015.drop(columns = ['region', 'standard error'], inplace = True)\n",
    "df_2015.sample(5)"
   ]
  },
  {
   "cell_type": "code",
   "execution_count": 9,
   "metadata": {},
   "outputs": [
    {
     "data": {
      "text/plain": [
       "Country                          0\n",
       "Region                           0\n",
       "Happiness Rank                   0\n",
       "Happiness Score                  0\n",
       "Lower Confidence Interval        0\n",
       "Upper Confidence Interval        0\n",
       "Economy (GDP per Capita)         0\n",
       "Family                           0\n",
       "Health (Life Expectancy)         0\n",
       "Freedom                          0\n",
       "Trust (Government Corruption)    0\n",
       "Generosity                       0\n",
       "Dystopia Residual                0\n",
       "dtype: int64"
      ]
     },
     "execution_count": 9,
     "metadata": {},
     "output_type": "execute_result"
    }
   ],
   "source": [
    "df_2016.isna().sum()"
   ]
  },
  {
   "cell_type": "code",
   "execution_count": 10,
   "metadata": {},
   "outputs": [
    {
     "data": {
      "text/plain": [
       "Index(['country', 'region', 'rank', 'score', 'lower confidence interval',\n",
       "       'upper confidence interval', 'gdp', 'family', 'health', 'freedom',\n",
       "       'corruption', 'generosity', 'dystopia'],\n",
       "      dtype='object')"
      ]
     },
     "execution_count": 10,
     "metadata": {},
     "output_type": "execute_result"
    }
   ],
   "source": [
    "df_2016.columns = df_2016.columns.str.lower()\n",
    "df_2016.rename(columns={'happiness rank':'rank', 'happiness score':'score', 'economy (gdp per capita)': 'gdp',\n",
    "                      'health (life expectancy)':'health', 'trust (government corruption)': 'corruption',\n",
    "                      \"dystopia residual\": \"dystopia\"},\n",
    "                       inplace = True)\n",
    "df_2016.columns"
   ]
  },
  {
   "cell_type": "code",
   "execution_count": 11,
   "metadata": {},
   "outputs": [
    {
     "data": {
      "text/html": [
       "<div>\n",
       "<style scoped>\n",
       "    .dataframe tbody tr th:only-of-type {\n",
       "        vertical-align: middle;\n",
       "    }\n",
       "\n",
       "    .dataframe tbody tr th {\n",
       "        vertical-align: top;\n",
       "    }\n",
       "\n",
       "    .dataframe thead th {\n",
       "        text-align: right;\n",
       "    }\n",
       "</style>\n",
       "<table border=\"1\" class=\"dataframe\">\n",
       "  <thead>\n",
       "    <tr style=\"text-align: right;\">\n",
       "      <th></th>\n",
       "      <th>country</th>\n",
       "      <th>rank</th>\n",
       "      <th>score</th>\n",
       "      <th>gdp</th>\n",
       "      <th>family</th>\n",
       "      <th>health</th>\n",
       "      <th>freedom</th>\n",
       "      <th>corruption</th>\n",
       "      <th>generosity</th>\n",
       "      <th>dystopia</th>\n",
       "    </tr>\n",
       "  </thead>\n",
       "  <tbody>\n",
       "    <tr>\n",
       "      <th>78</th>\n",
       "      <td>Indonesia</td>\n",
       "      <td>79</td>\n",
       "      <td>5.314</td>\n",
       "      <td>0.95104</td>\n",
       "      <td>0.87625</td>\n",
       "      <td>0.49374</td>\n",
       "      <td>0.39237</td>\n",
       "      <td>0.00322</td>\n",
       "      <td>0.56521</td>\n",
       "      <td>2.03171</td>\n",
       "    </tr>\n",
       "    <tr>\n",
       "      <th>54</th>\n",
       "      <td>Moldova</td>\n",
       "      <td>55</td>\n",
       "      <td>5.897</td>\n",
       "      <td>0.69177</td>\n",
       "      <td>0.83132</td>\n",
       "      <td>0.52309</td>\n",
       "      <td>0.25202</td>\n",
       "      <td>0.01903</td>\n",
       "      <td>0.19997</td>\n",
       "      <td>3.38007</td>\n",
       "    </tr>\n",
       "    <tr>\n",
       "      <th>94</th>\n",
       "      <td>Macedonia</td>\n",
       "      <td>95</td>\n",
       "      <td>5.121</td>\n",
       "      <td>1.01930</td>\n",
       "      <td>0.78236</td>\n",
       "      <td>0.64738</td>\n",
       "      <td>0.27668</td>\n",
       "      <td>0.07047</td>\n",
       "      <td>0.23507</td>\n",
       "      <td>2.08947</td>\n",
       "    </tr>\n",
       "    <tr>\n",
       "      <th>26</th>\n",
       "      <td>Czech Republic</td>\n",
       "      <td>27</td>\n",
       "      <td>6.596</td>\n",
       "      <td>1.30915</td>\n",
       "      <td>1.00793</td>\n",
       "      <td>0.76376</td>\n",
       "      <td>0.41418</td>\n",
       "      <td>0.03986</td>\n",
       "      <td>0.09929</td>\n",
       "      <td>2.96211</td>\n",
       "    </tr>\n",
       "    <tr>\n",
       "      <th>148</th>\n",
       "      <td>Tanzania</td>\n",
       "      <td>149</td>\n",
       "      <td>3.666</td>\n",
       "      <td>0.47155</td>\n",
       "      <td>0.77623</td>\n",
       "      <td>0.35700</td>\n",
       "      <td>0.31760</td>\n",
       "      <td>0.05099</td>\n",
       "      <td>0.31472</td>\n",
       "      <td>1.37769</td>\n",
       "    </tr>\n",
       "  </tbody>\n",
       "</table>\n",
       "</div>"
      ],
      "text/plain": [
       "            country  rank  score      gdp   family   health  freedom  \\\n",
       "78        Indonesia    79  5.314  0.95104  0.87625  0.49374  0.39237   \n",
       "54          Moldova    55  5.897  0.69177  0.83132  0.52309  0.25202   \n",
       "94        Macedonia    95  5.121  1.01930  0.78236  0.64738  0.27668   \n",
       "26   Czech Republic    27  6.596  1.30915  1.00793  0.76376  0.41418   \n",
       "148        Tanzania   149  3.666  0.47155  0.77623  0.35700  0.31760   \n",
       "\n",
       "     corruption  generosity  dystopia  \n",
       "78      0.00322     0.56521   2.03171  \n",
       "54      0.01903     0.19997   3.38007  \n",
       "94      0.07047     0.23507   2.08947  \n",
       "26      0.03986     0.09929   2.96211  \n",
       "148     0.05099     0.31472   1.37769  "
      ]
     },
     "execution_count": 11,
     "metadata": {},
     "output_type": "execute_result"
    }
   ],
   "source": [
    "df_2016.drop(columns = ['lower confidence interval','upper confidence interval',\n",
    "                      'region'],\n",
    "           inplace = True)\n",
    "df_2016.sample(5)"
   ]
  },
  {
   "cell_type": "code",
   "execution_count": 12,
   "metadata": {},
   "outputs": [
    {
     "data": {
      "text/plain": [
       "Country                          0\n",
       "Happiness.Rank                   0\n",
       "Happiness.Score                  0\n",
       "Whisker.high                     0\n",
       "Whisker.low                      0\n",
       "Economy..GDP.per.Capita.         0\n",
       "Family                           0\n",
       "Health..Life.Expectancy.         0\n",
       "Freedom                          0\n",
       "Generosity                       0\n",
       "Trust..Government.Corruption.    0\n",
       "Dystopia.Residual                0\n",
       "dtype: int64"
      ]
     },
     "execution_count": 12,
     "metadata": {},
     "output_type": "execute_result"
    }
   ],
   "source": [
    "df_2017.isna().sum()"
   ]
  },
  {
   "cell_type": "code",
   "execution_count": 13,
   "metadata": {},
   "outputs": [
    {
     "data": {
      "text/plain": [
       "Index(['country', 'rank', 'score', 'whiskerhigh', 'whiskerlow', 'gdp',\n",
       "       'family', 'health', 'freedom', 'generosity', 'corruption', 'dystopia'],\n",
       "      dtype='object')"
      ]
     },
     "execution_count": 13,
     "metadata": {},
     "output_type": "execute_result"
    }
   ],
   "source": [
    "df_2017.columns = df_2017.columns.str.replace(\".\", \"\")\n",
    "# let's convert into lower case\n",
    "df_2017.columns = df_2017.columns.str.lower()\n",
    "df_2017.rename(columns = {\"happinessrank\": \"rank\", \"happinessscore\": \"score\", \"healthlifeexpectancy\": \"health\",\n",
    "                        \"economygdppercapita\": \"gdp\", \"trustgovernmentcorruption\": \"corruption\",\n",
    "                        \"dystopiaresidual\": \"dystopia\"}, inplace = True)\n",
    "df_2017.columns"
   ]
  },
  {
   "cell_type": "code",
   "execution_count": 14,
   "metadata": {},
   "outputs": [
    {
     "data": {
      "text/html": [
       "<div>\n",
       "<style scoped>\n",
       "    .dataframe tbody tr th:only-of-type {\n",
       "        vertical-align: middle;\n",
       "    }\n",
       "\n",
       "    .dataframe tbody tr th {\n",
       "        vertical-align: top;\n",
       "    }\n",
       "\n",
       "    .dataframe thead th {\n",
       "        text-align: right;\n",
       "    }\n",
       "</style>\n",
       "<table border=\"1\" class=\"dataframe\">\n",
       "  <thead>\n",
       "    <tr style=\"text-align: right;\">\n",
       "      <th></th>\n",
       "      <th>country</th>\n",
       "      <th>rank</th>\n",
       "      <th>score</th>\n",
       "      <th>gdp</th>\n",
       "      <th>family</th>\n",
       "      <th>health</th>\n",
       "      <th>freedom</th>\n",
       "      <th>generosity</th>\n",
       "      <th>corruption</th>\n",
       "      <th>dystopia</th>\n",
       "    </tr>\n",
       "  </thead>\n",
       "  <tbody>\n",
       "    <tr>\n",
       "      <th>122</th>\n",
       "      <td>Mauritania</td>\n",
       "      <td>123</td>\n",
       "      <td>4.292</td>\n",
       "      <td>0.648457</td>\n",
       "      <td>1.272031</td>\n",
       "      <td>0.285349</td>\n",
       "      <td>0.096098</td>\n",
       "      <td>0.201870</td>\n",
       "      <td>0.136957</td>\n",
       "      <td>1.651637</td>\n",
       "    </tr>\n",
       "    <tr>\n",
       "      <th>64</th>\n",
       "      <td>Cyprus</td>\n",
       "      <td>65</td>\n",
       "      <td>5.621</td>\n",
       "      <td>1.355938</td>\n",
       "      <td>1.131363</td>\n",
       "      <td>0.844715</td>\n",
       "      <td>0.355112</td>\n",
       "      <td>0.271254</td>\n",
       "      <td>0.041238</td>\n",
       "      <td>1.621249</td>\n",
       "    </tr>\n",
       "    <tr>\n",
       "      <th>86</th>\n",
       "      <td>Greece</td>\n",
       "      <td>87</td>\n",
       "      <td>5.227</td>\n",
       "      <td>1.289487</td>\n",
       "      <td>1.239415</td>\n",
       "      <td>0.810199</td>\n",
       "      <td>0.095731</td>\n",
       "      <td>0.000000</td>\n",
       "      <td>0.043290</td>\n",
       "      <td>1.749222</td>\n",
       "    </tr>\n",
       "    <tr>\n",
       "      <th>149</th>\n",
       "      <td>Togo</td>\n",
       "      <td>150</td>\n",
       "      <td>3.495</td>\n",
       "      <td>0.305445</td>\n",
       "      <td>0.431883</td>\n",
       "      <td>0.247106</td>\n",
       "      <td>0.380426</td>\n",
       "      <td>0.196896</td>\n",
       "      <td>0.095665</td>\n",
       "      <td>1.837229</td>\n",
       "    </tr>\n",
       "    <tr>\n",
       "      <th>2</th>\n",
       "      <td>Iceland</td>\n",
       "      <td>3</td>\n",
       "      <td>7.504</td>\n",
       "      <td>1.480633</td>\n",
       "      <td>1.610574</td>\n",
       "      <td>0.833552</td>\n",
       "      <td>0.627163</td>\n",
       "      <td>0.475540</td>\n",
       "      <td>0.153527</td>\n",
       "      <td>2.322715</td>\n",
       "    </tr>\n",
       "  </tbody>\n",
       "</table>\n",
       "</div>"
      ],
      "text/plain": [
       "        country  rank  score       gdp    family    health   freedom  \\\n",
       "122  Mauritania   123  4.292  0.648457  1.272031  0.285349  0.096098   \n",
       "64       Cyprus    65  5.621  1.355938  1.131363  0.844715  0.355112   \n",
       "86       Greece    87  5.227  1.289487  1.239415  0.810199  0.095731   \n",
       "149        Togo   150  3.495  0.305445  0.431883  0.247106  0.380426   \n",
       "2       Iceland     3  7.504  1.480633  1.610574  0.833552  0.627163   \n",
       "\n",
       "     generosity  corruption  dystopia  \n",
       "122    0.201870    0.136957  1.651637  \n",
       "64     0.271254    0.041238  1.621249  \n",
       "86     0.000000    0.043290  1.749222  \n",
       "149    0.196896    0.095665  1.837229  \n",
       "2      0.475540    0.153527  2.322715  "
      ]
     },
     "execution_count": 14,
     "metadata": {},
     "output_type": "execute_result"
    }
   ],
   "source": [
    "df_2017.drop(columns = ['whiskerhigh', 'whiskerlow'], inplace = True)\n",
    "df_2017.sample(5)"
   ]
  },
  {
   "cell_type": "code",
   "execution_count": 15,
   "metadata": {},
   "outputs": [
    {
     "data": {
      "text/plain": [
       "Overall rank                    0\n",
       "Country or region               0\n",
       "Score                           0\n",
       "GDP per capita                  0\n",
       "Social support                  0\n",
       "Healthy life expectancy         0\n",
       "Freedom to make life choices    0\n",
       "Generosity                      0\n",
       "Perceptions of corruption       1\n",
       "dtype: int64"
      ]
     },
     "execution_count": 15,
     "metadata": {},
     "output_type": "execute_result"
    }
   ],
   "source": [
    "df_2018.isna().sum()"
   ]
  },
  {
   "cell_type": "code",
   "execution_count": 16,
   "metadata": {},
   "outputs": [
    {
     "data": {
      "text/plain": [
       "Index(['rank', 'country', 'score', 'gdp', 'family', 'health', 'freedom',\n",
       "       'generosity', 'corruption'],\n",
       "      dtype='object')"
      ]
     },
     "execution_count": 16,
     "metadata": {},
     "output_type": "execute_result"
    }
   ],
   "source": [
    "df_2018.columns = df_2018.columns.str.lower()\n",
    "df_2018.rename(columns = {\"overall rank\": \"rank\", \"country or region\": \"country\",\n",
    "                         \"freedom to make life choices\": \"freedom\", \"perceptions of corruption\": \"corruption\",\n",
    "                        \"gdp per capita\": \"gdp\", \"healthy life expectancy\": \"health\",\n",
    "                        \"social support\": \"family\"}, inplace=True)\n",
    "df_2018.columns = df_2018.columns.str.replace(\" \", \"_\")\n",
    "df_2018.columns"
   ]
  },
  {
   "cell_type": "code",
   "execution_count": 17,
   "metadata": {},
   "outputs": [
    {
     "data": {
      "text/plain": [
       "Index(['rank', 'country', 'score', 'gdp', 'family', 'health', 'freedom',\n",
       "       'generosity', 'corruption'],\n",
       "      dtype='object')"
      ]
     },
     "execution_count": 17,
     "metadata": {},
     "output_type": "execute_result"
    }
   ],
   "source": [
    "df_2019.columns = df_2019.columns.str.lower()\n",
    "df_2019.rename(columns = {\"overall rank\": \"rank\", \"country or region\": \"country\",\n",
    "                         \"freedom to make life choices\": \"freedom\", \"perceptions of corruption\": \"corruption\",\n",
    "                        \"gdp per capita\": \"gdp\", \"healthy life expectancy\": \"health\",\n",
    "                        \"social support\": \"family\"}, inplace=True)\n",
    "df_2019.columns = df_2019.columns.str.replace(\" \", \"_\")\n",
    "df_2019.columns"
   ]
  },
  {
   "cell_type": "code",
   "execution_count": 18,
   "metadata": {},
   "outputs": [
    {
     "data": {
      "text/plain": [
       "rank          0\n",
       "country       0\n",
       "score         0\n",
       "gdp           0\n",
       "family        0\n",
       "health        0\n",
       "freedom       0\n",
       "generosity    0\n",
       "corruption    0\n",
       "dtype: int64"
      ]
     },
     "execution_count": 18,
     "metadata": {},
     "output_type": "execute_result"
    }
   ],
   "source": [
    "df_2019.isna().sum()"
   ]
  },
  {
   "cell_type": "code",
   "execution_count": 19,
   "metadata": {},
   "outputs": [
    {
     "name": "stdout",
     "output_type": "stream",
     "text": [
      "2015:\n",
      " ['country', 'rank', 'score', 'gdp', 'family', 'health', 'freedom', 'corruption', 'generosity', 'dystopia']\n",
      "\n",
      "2016:\n",
      " ['country', 'rank', 'score', 'gdp', 'family', 'health', 'freedom', 'corruption', 'generosity', 'dystopia']\n",
      "\n",
      "2017:\n",
      " ['country', 'rank', 'score', 'gdp', 'family', 'health', 'freedom', 'generosity', 'corruption', 'dystopia']\n",
      "\n",
      "2018:\n",
      " ['rank', 'country', 'score', 'gdp', 'family', 'health', 'freedom', 'generosity', 'corruption']\n",
      "\n",
      "2019:\n",
      " ['rank', 'country', 'score', 'gdp', 'family', 'health', 'freedom', 'generosity', 'corruption']\n"
     ]
    }
   ],
   "source": [
    "def print_all_dataframe_columns():\n",
    "    print(\"2015:\\n\", df_2015.columns.to_list())\n",
    "    print(\"\\n2016:\\n\", df_2016.columns.to_list())\n",
    "    print(\"\\n2017:\\n\", df_2017.columns.to_list())\n",
    "    print(\"\\n2018:\\n\", df_2018.columns.to_list())\n",
    "    print(\"\\n2019:\\n\", df_2019.columns.to_list())\n",
    "    \n",
    "print_all_dataframe_columns()"
   ]
  },
  {
   "cell_type": "code",
   "execution_count": 20,
   "metadata": {
    "scrolled": false
   },
   "outputs": [
    {
     "data": {
      "text/plain": [
       "Index(['country', 'rank', 'score', 'gdp', 'family', 'health', 'freedom',\n",
       "       'generosity', 'corruption', 'dystopia', 'year'],\n",
       "      dtype='object')"
      ]
     },
     "execution_count": 20,
     "metadata": {},
     "output_type": "execute_result"
    }
   ],
   "source": [
    "# Add column to each Dataframe to identify each year\n",
    "\n",
    "df_2015['year'] = '2015'\n",
    "df_2016['year'] = '2016'\n",
    "df_2017['year'] = '2017'\n",
    "df_2018['year'] = '2018'\n",
    "df_2019['year'] = '2019'\n",
    "\n",
    "df_2017.columns\n"
   ]
  },
  {
   "cell_type": "code",
   "execution_count": 21,
   "metadata": {},
   "outputs": [],
   "source": [
    "#need to explain how we calculated the avg dystopia \n",
    "\n",
    "df_2018[\"dystopia\"] = 2.092716638021185\n",
    "df_2019[\"dystopia\"] = 2.092716638021185\n"
   ]
  },
  {
   "cell_type": "code",
   "execution_count": 22,
   "metadata": {},
   "outputs": [
    {
     "data": {
      "text/html": [
       "<div>\n",
       "<style scoped>\n",
       "    .dataframe tbody tr th:only-of-type {\n",
       "        vertical-align: middle;\n",
       "    }\n",
       "\n",
       "    .dataframe tbody tr th {\n",
       "        vertical-align: top;\n",
       "    }\n",
       "\n",
       "    .dataframe thead th {\n",
       "        text-align: right;\n",
       "    }\n",
       "</style>\n",
       "<table border=\"1\" class=\"dataframe\">\n",
       "  <thead>\n",
       "    <tr style=\"text-align: right;\">\n",
       "      <th></th>\n",
       "      <th>country</th>\n",
       "      <th>rank</th>\n",
       "      <th>score</th>\n",
       "      <th>gdp</th>\n",
       "      <th>family</th>\n",
       "      <th>health</th>\n",
       "      <th>freedom</th>\n",
       "      <th>corruption</th>\n",
       "      <th>generosity</th>\n",
       "      <th>dystopia</th>\n",
       "      <th>year</th>\n",
       "    </tr>\n",
       "  </thead>\n",
       "  <tbody>\n",
       "    <tr>\n",
       "      <th>390</th>\n",
       "      <td>Jamaica</td>\n",
       "      <td>76</td>\n",
       "      <td>5.311</td>\n",
       "      <td>0.925579</td>\n",
       "      <td>1.368218</td>\n",
       "      <td>0.641022</td>\n",
       "      <td>0.474307</td>\n",
       "      <td>0.055268</td>\n",
       "      <td>0.233818</td>\n",
       "      <td>1.612326</td>\n",
       "      <td>2017</td>\n",
       "    </tr>\n",
       "    <tr>\n",
       "      <th>295</th>\n",
       "      <td>Comoros</td>\n",
       "      <td>138</td>\n",
       "      <td>3.956</td>\n",
       "      <td>0.275090</td>\n",
       "      <td>0.603230</td>\n",
       "      <td>0.299810</td>\n",
       "      <td>0.154120</td>\n",
       "      <td>0.184370</td>\n",
       "      <td>0.182700</td>\n",
       "      <td>2.256320</td>\n",
       "      <td>2016</td>\n",
       "    </tr>\n",
       "    <tr>\n",
       "      <th>543</th>\n",
       "      <td>Turkey</td>\n",
       "      <td>74</td>\n",
       "      <td>5.483</td>\n",
       "      <td>1.148000</td>\n",
       "      <td>1.380000</td>\n",
       "      <td>0.686000</td>\n",
       "      <td>0.324000</td>\n",
       "      <td>0.109000</td>\n",
       "      <td>0.106000</td>\n",
       "      <td>2.092717</td>\n",
       "      <td>2018</td>\n",
       "    </tr>\n",
       "    <tr>\n",
       "      <th>536</th>\n",
       "      <td>Moldova</td>\n",
       "      <td>67</td>\n",
       "      <td>5.640</td>\n",
       "      <td>0.657000</td>\n",
       "      <td>1.301000</td>\n",
       "      <td>0.620000</td>\n",
       "      <td>0.232000</td>\n",
       "      <td>0.000000</td>\n",
       "      <td>0.171000</td>\n",
       "      <td>2.092717</td>\n",
       "      <td>2018</td>\n",
       "    </tr>\n",
       "    <tr>\n",
       "      <th>310</th>\n",
       "      <td>Benin</td>\n",
       "      <td>153</td>\n",
       "      <td>3.484</td>\n",
       "      <td>0.394990</td>\n",
       "      <td>0.104190</td>\n",
       "      <td>0.210280</td>\n",
       "      <td>0.397470</td>\n",
       "      <td>0.066810</td>\n",
       "      <td>0.201800</td>\n",
       "      <td>2.108120</td>\n",
       "      <td>2016</td>\n",
       "    </tr>\n",
       "  </tbody>\n",
       "</table>\n",
       "</div>"
      ],
      "text/plain": [
       "     country  rank  score       gdp    family    health   freedom  corruption  \\\n",
       "390  Jamaica    76  5.311  0.925579  1.368218  0.641022  0.474307    0.055268   \n",
       "295  Comoros   138  3.956  0.275090  0.603230  0.299810  0.154120    0.184370   \n",
       "543   Turkey    74  5.483  1.148000  1.380000  0.686000  0.324000    0.109000   \n",
       "536  Moldova    67  5.640  0.657000  1.301000  0.620000  0.232000    0.000000   \n",
       "310    Benin   153  3.484  0.394990  0.104190  0.210280  0.397470    0.066810   \n",
       "\n",
       "     generosity  dystopia  year  \n",
       "390    0.233818  1.612326  2017  \n",
       "295    0.182700  2.256320  2016  \n",
       "543    0.106000  2.092717  2018  \n",
       "536    0.171000  2.092717  2018  \n",
       "310    0.201800  2.108120  2016  "
      ]
     },
     "execution_count": 22,
     "metadata": {},
     "output_type": "execute_result"
    }
   ],
   "source": [
    "main_data = pd.concat([df_2015, df_2016, df_2017, df_2018, df_2019]).reset_index(drop=True)\n",
    "main_data.shape\n",
    "main_data.sample(5)"
   ]
  },
  {
   "cell_type": "code",
   "execution_count": 23,
   "metadata": {},
   "outputs": [
    {
     "data": {
      "text/plain": [
       "country       0\n",
       "rank          0\n",
       "score         0\n",
       "gdp           0\n",
       "family        0\n",
       "health        0\n",
       "freedom       0\n",
       "corruption    1\n",
       "generosity    0\n",
       "dystopia      0\n",
       "year          0\n",
       "dtype: int64"
      ]
     },
     "execution_count": 23,
     "metadata": {},
     "output_type": "execute_result"
    }
   ],
   "source": [
    "main_data.country = main_data.country.str.lower().str.replace(\" \", \"_\")\n",
    "\n",
    "main_data.isna().sum()"
   ]
  },
  {
   "cell_type": "code",
   "execution_count": 24,
   "metadata": {},
   "outputs": [
    {
     "data": {
      "text/html": [
       "<div>\n",
       "<style scoped>\n",
       "    .dataframe tbody tr th:only-of-type {\n",
       "        vertical-align: middle;\n",
       "    }\n",
       "\n",
       "    .dataframe tbody tr th {\n",
       "        vertical-align: top;\n",
       "    }\n",
       "\n",
       "    .dataframe thead th {\n",
       "        text-align: right;\n",
       "    }\n",
       "</style>\n",
       "<table border=\"1\" class=\"dataframe\">\n",
       "  <thead>\n",
       "    <tr style=\"text-align: right;\">\n",
       "      <th></th>\n",
       "      <th>country</th>\n",
       "      <th>rank</th>\n",
       "      <th>score</th>\n",
       "      <th>gdp</th>\n",
       "      <th>family</th>\n",
       "      <th>health</th>\n",
       "      <th>freedom</th>\n",
       "      <th>corruption</th>\n",
       "      <th>generosity</th>\n",
       "      <th>dystopia</th>\n",
       "      <th>year</th>\n",
       "    </tr>\n",
       "  </thead>\n",
       "  <tbody>\n",
       "    <tr>\n",
       "      <th>489</th>\n",
       "      <td>united_arab_emirates</td>\n",
       "      <td>20</td>\n",
       "      <td>6.774</td>\n",
       "      <td>2.096</td>\n",
       "      <td>0.776</td>\n",
       "      <td>0.67</td>\n",
       "      <td>0.284</td>\n",
       "      <td>NaN</td>\n",
       "      <td>0.186</td>\n",
       "      <td>2.092717</td>\n",
       "      <td>2018</td>\n",
       "    </tr>\n",
       "  </tbody>\n",
       "</table>\n",
       "</div>"
      ],
      "text/plain": [
       "                  country  rank  score    gdp  family  health  freedom  \\\n",
       "489  united_arab_emirates    20  6.774  2.096   0.776    0.67    0.284   \n",
       "\n",
       "     corruption  generosity  dystopia  year  \n",
       "489         NaN       0.186  2.092717  2018  "
      ]
     },
     "execution_count": 24,
     "metadata": {},
     "output_type": "execute_result"
    }
   ],
   "source": [
    "main_data[main_data.isna().values]"
   ]
  },
  {
   "cell_type": "code",
   "execution_count": 25,
   "metadata": {},
   "outputs": [
    {
     "data": {
      "text/html": [
       "<div>\n",
       "<style scoped>\n",
       "    .dataframe tbody tr th:only-of-type {\n",
       "        vertical-align: middle;\n",
       "    }\n",
       "\n",
       "    .dataframe tbody tr th {\n",
       "        vertical-align: top;\n",
       "    }\n",
       "\n",
       "    .dataframe thead th {\n",
       "        text-align: right;\n",
       "    }\n",
       "</style>\n",
       "<table border=\"1\" class=\"dataframe\">\n",
       "  <thead>\n",
       "    <tr style=\"text-align: right;\">\n",
       "      <th></th>\n",
       "      <th>country</th>\n",
       "      <th>rank</th>\n",
       "      <th>score</th>\n",
       "      <th>gdp</th>\n",
       "      <th>family</th>\n",
       "      <th>health</th>\n",
       "      <th>freedom</th>\n",
       "      <th>corruption</th>\n",
       "      <th>generosity</th>\n",
       "      <th>dystopia</th>\n",
       "      <th>year</th>\n",
       "    </tr>\n",
       "  </thead>\n",
       "  <tbody>\n",
       "    <tr>\n",
       "      <th>19</th>\n",
       "      <td>united_arab_emirates</td>\n",
       "      <td>20</td>\n",
       "      <td>6.901</td>\n",
       "      <td>1.427270</td>\n",
       "      <td>1.12575</td>\n",
       "      <td>0.809250</td>\n",
       "      <td>0.641570</td>\n",
       "      <td>0.38583</td>\n",
       "      <td>0.264280</td>\n",
       "      <td>2.247430</td>\n",
       "      <td>2015</td>\n",
       "    </tr>\n",
       "    <tr>\n",
       "      <th>185</th>\n",
       "      <td>united_arab_emirates</td>\n",
       "      <td>28</td>\n",
       "      <td>6.573</td>\n",
       "      <td>1.573520</td>\n",
       "      <td>0.87114</td>\n",
       "      <td>0.729930</td>\n",
       "      <td>0.562150</td>\n",
       "      <td>0.35561</td>\n",
       "      <td>0.265910</td>\n",
       "      <td>2.215070</td>\n",
       "      <td>2016</td>\n",
       "    </tr>\n",
       "    <tr>\n",
       "      <th>335</th>\n",
       "      <td>united_arab_emirates</td>\n",
       "      <td>21</td>\n",
       "      <td>6.648</td>\n",
       "      <td>1.626343</td>\n",
       "      <td>1.26641</td>\n",
       "      <td>0.726798</td>\n",
       "      <td>0.608345</td>\n",
       "      <td>0.32449</td>\n",
       "      <td>0.360942</td>\n",
       "      <td>1.734704</td>\n",
       "      <td>2017</td>\n",
       "    </tr>\n",
       "    <tr>\n",
       "      <th>489</th>\n",
       "      <td>united_arab_emirates</td>\n",
       "      <td>20</td>\n",
       "      <td>6.774</td>\n",
       "      <td>2.096000</td>\n",
       "      <td>0.77600</td>\n",
       "      <td>0.670000</td>\n",
       "      <td>0.284000</td>\n",
       "      <td>NaN</td>\n",
       "      <td>0.186000</td>\n",
       "      <td>2.092717</td>\n",
       "      <td>2018</td>\n",
       "    </tr>\n",
       "    <tr>\n",
       "      <th>646</th>\n",
       "      <td>united_arab_emirates</td>\n",
       "      <td>21</td>\n",
       "      <td>6.825</td>\n",
       "      <td>1.503000</td>\n",
       "      <td>1.31000</td>\n",
       "      <td>0.825000</td>\n",
       "      <td>0.598000</td>\n",
       "      <td>0.18200</td>\n",
       "      <td>0.262000</td>\n",
       "      <td>2.092717</td>\n",
       "      <td>2019</td>\n",
       "    </tr>\n",
       "  </tbody>\n",
       "</table>\n",
       "</div>"
      ],
      "text/plain": [
       "                  country  rank  score       gdp   family    health   freedom  \\\n",
       "19   united_arab_emirates    20  6.901  1.427270  1.12575  0.809250  0.641570   \n",
       "185  united_arab_emirates    28  6.573  1.573520  0.87114  0.729930  0.562150   \n",
       "335  united_arab_emirates    21  6.648  1.626343  1.26641  0.726798  0.608345   \n",
       "489  united_arab_emirates    20  6.774  2.096000  0.77600  0.670000  0.284000   \n",
       "646  united_arab_emirates    21  6.825  1.503000  1.31000  0.825000  0.598000   \n",
       "\n",
       "     corruption  generosity  dystopia  year  \n",
       "19      0.38583    0.264280  2.247430  2015  \n",
       "185     0.35561    0.265910  2.215070  2016  \n",
       "335     0.32449    0.360942  1.734704  2017  \n",
       "489         NaN    0.186000  2.092717  2018  \n",
       "646     0.18200    0.262000  2.092717  2019  "
      ]
     },
     "execution_count": 25,
     "metadata": {},
     "output_type": "execute_result"
    }
   ],
   "source": [
    "main_data.loc[main_data.country == \"united_arab_emirates\"]"
   ]
  },
  {
   "cell_type": "code",
   "execution_count": 26,
   "metadata": {},
   "outputs": [],
   "source": [
    "avg_corruption = main_data.loc[main_data.country == \"united_arab_emirates\", \"corruption\"].mean()\n",
    "main_data.corruption.fillna(avg_corruption, inplace=True)\n"
   ]
  },
  {
   "cell_type": "code",
   "execution_count": 27,
   "metadata": {},
   "outputs": [
    {
     "data": {
      "text/plain": [
       "False"
      ]
     },
     "execution_count": 27,
     "metadata": {},
     "output_type": "execute_result"
    }
   ],
   "source": [
    "main_data.isna().sum().any()"
   ]
  },
  {
   "cell_type": "code",
   "execution_count": 29,
   "metadata": {},
   "outputs": [
    {
     "data": {
      "text/html": [
       "<div>\n",
       "<style scoped>\n",
       "    .dataframe tbody tr th:only-of-type {\n",
       "        vertical-align: middle;\n",
       "    }\n",
       "\n",
       "    .dataframe tbody tr th {\n",
       "        vertical-align: top;\n",
       "    }\n",
       "\n",
       "    .dataframe thead th {\n",
       "        text-align: right;\n",
       "    }\n",
       "</style>\n",
       "<table border=\"1\" class=\"dataframe\">\n",
       "  <thead>\n",
       "    <tr style=\"text-align: right;\">\n",
       "      <th></th>\n",
       "      <th>country</th>\n",
       "      <th>rank</th>\n",
       "      <th>score</th>\n",
       "      <th>gdp</th>\n",
       "      <th>family</th>\n",
       "      <th>health</th>\n",
       "      <th>freedom</th>\n",
       "      <th>corruption</th>\n",
       "      <th>generosity</th>\n",
       "      <th>dystopia</th>\n",
       "      <th>year</th>\n",
       "    </tr>\n",
       "  </thead>\n",
       "  <tbody>\n",
       "    <tr>\n",
       "      <th>672</th>\n",
       "      <td>argentina</td>\n",
       "      <td>47</td>\n",
       "      <td>6.086</td>\n",
       "      <td>1.092000</td>\n",
       "      <td>1.432000</td>\n",
       "      <td>0.881000</td>\n",
       "      <td>0.471000</td>\n",
       "      <td>0.050000</td>\n",
       "      <td>0.066000</td>\n",
       "      <td>2.092717</td>\n",
       "      <td>2019</td>\n",
       "    </tr>\n",
       "    <tr>\n",
       "      <th>290</th>\n",
       "      <td>sudan</td>\n",
       "      <td>133</td>\n",
       "      <td>4.139</td>\n",
       "      <td>0.630690</td>\n",
       "      <td>0.819280</td>\n",
       "      <td>0.297590</td>\n",
       "      <td>0.000000</td>\n",
       "      <td>0.100390</td>\n",
       "      <td>0.180770</td>\n",
       "      <td>2.109950</td>\n",
       "      <td>2016</td>\n",
       "    </tr>\n",
       "    <tr>\n",
       "      <th>721</th>\n",
       "      <td>cameroon</td>\n",
       "      <td>96</td>\n",
       "      <td>5.044</td>\n",
       "      <td>0.549000</td>\n",
       "      <td>0.910000</td>\n",
       "      <td>0.331000</td>\n",
       "      <td>0.381000</td>\n",
       "      <td>0.037000</td>\n",
       "      <td>0.187000</td>\n",
       "      <td>2.092717</td>\n",
       "      <td>2019</td>\n",
       "    </tr>\n",
       "    <tr>\n",
       "      <th>100</th>\n",
       "      <td>swaziland</td>\n",
       "      <td>101</td>\n",
       "      <td>4.867</td>\n",
       "      <td>0.712060</td>\n",
       "      <td>1.072840</td>\n",
       "      <td>0.075660</td>\n",
       "      <td>0.306580</td>\n",
       "      <td>0.030600</td>\n",
       "      <td>0.182590</td>\n",
       "      <td>2.486760</td>\n",
       "      <td>2015</td>\n",
       "    </tr>\n",
       "    <tr>\n",
       "      <th>420</th>\n",
       "      <td>sierra_leone</td>\n",
       "      <td>106</td>\n",
       "      <td>4.709</td>\n",
       "      <td>0.368421</td>\n",
       "      <td>0.984136</td>\n",
       "      <td>0.005565</td>\n",
       "      <td>0.318698</td>\n",
       "      <td>0.071095</td>\n",
       "      <td>0.293041</td>\n",
       "      <td>2.668460</td>\n",
       "      <td>2017</td>\n",
       "    </tr>\n",
       "  </tbody>\n",
       "</table>\n",
       "</div>"
      ],
      "text/plain": [
       "          country  rank  score       gdp    family    health   freedom  \\\n",
       "672     argentina    47  6.086  1.092000  1.432000  0.881000  0.471000   \n",
       "290         sudan   133  4.139  0.630690  0.819280  0.297590  0.000000   \n",
       "721      cameroon    96  5.044  0.549000  0.910000  0.331000  0.381000   \n",
       "100     swaziland   101  4.867  0.712060  1.072840  0.075660  0.306580   \n",
       "420  sierra_leone   106  4.709  0.368421  0.984136  0.005565  0.318698   \n",
       "\n",
       "     corruption  generosity  dystopia  year  \n",
       "672    0.050000    0.066000  2.092717  2019  \n",
       "290    0.100390    0.180770  2.109950  2016  \n",
       "721    0.037000    0.187000  2.092717  2019  \n",
       "100    0.030600    0.182590  2.486760  2015  \n",
       "420    0.071095    0.293041  2.668460  2017  "
      ]
     },
     "execution_count": 29,
     "metadata": {},
     "output_type": "execute_result"
    }
   ],
   "source": [
    "main_data.sample(5)"
   ]
  },
  {
   "cell_type": "code",
   "execution_count": null,
   "metadata": {},
   "outputs": [],
   "source": []
  },
  {
   "cell_type": "code",
   "execution_count": null,
   "metadata": {},
   "outputs": [],
   "source": []
  },
  {
   "cell_type": "code",
   "execution_count": null,
   "metadata": {},
   "outputs": [],
   "source": []
  },
  {
   "cell_type": "code",
   "execution_count": null,
   "metadata": {},
   "outputs": [],
   "source": []
  }
 ],
 "metadata": {
  "kernelspec": {
   "display_name": "Python [conda env:PythonData] *",
   "language": "python",
   "name": "conda-env-PythonData-py"
  },
  "language_info": {
   "codemirror_mode": {
    "name": "ipython",
    "version": 3
   },
   "file_extension": ".py",
   "mimetype": "text/x-python",
   "name": "python",
   "nbconvert_exporter": "python",
   "pygments_lexer": "ipython3",
   "version": "3.6.10"
  }
 },
 "nbformat": 4,
 "nbformat_minor": 4
}
