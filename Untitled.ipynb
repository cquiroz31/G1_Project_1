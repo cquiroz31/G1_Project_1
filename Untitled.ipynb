{
 "cells": [
  {
   "cell_type": "code",
   "execution_count": 1,
<<<<<<< HEAD
=======
   "metadata": {},
   "outputs": [
    {
     "name": "stdout",
     "output_type": "stream",
     "text": [
      "Requirement already satisfied: seaborn in c:\\users\\carlos\\anaconda3\\envs\\pythondata\\lib\\site-packages (0.11.1)\n",
      "Requirement already satisfied: numpy>=1.15 in c:\\users\\carlos\\anaconda3\\envs\\pythondata\\lib\\site-packages (from seaborn) (1.18.5)\n",
      "Requirement already satisfied: scipy>=1.0 in c:\\users\\carlos\\anaconda3\\envs\\pythondata\\lib\\site-packages (from seaborn) (1.5.0)\n",
      "Requirement already satisfied: matplotlib>=2.2 in c:\\users\\carlos\\anaconda3\\envs\\pythondata\\lib\\site-packages (from seaborn) (3.2.2)\n",
      "Requirement already satisfied: pandas>=0.23 in c:\\users\\carlos\\anaconda3\\envs\\pythondata\\lib\\site-packages (from seaborn) (1.0.5)\n",
      "Requirement already satisfied: pyparsing!=2.0.4,!=2.1.2,!=2.1.6,>=2.0.1 in c:\\users\\carlos\\anaconda3\\envs\\pythondata\\lib\\site-packages (from matplotlib>=2.2->seaborn) (2.4.7)\n",
      "Requirement already satisfied: cycler>=0.10 in c:\\users\\carlos\\anaconda3\\envs\\pythondata\\lib\\site-packages (from matplotlib>=2.2->seaborn) (0.10.0)\n",
      "Requirement already satisfied: kiwisolver>=1.0.1 in c:\\users\\carlos\\anaconda3\\envs\\pythondata\\lib\\site-packages (from matplotlib>=2.2->seaborn) (1.2.0)\n",
      "Requirement already satisfied: python-dateutil>=2.1 in c:\\users\\carlos\\anaconda3\\envs\\pythondata\\lib\\site-packages (from matplotlib>=2.2->seaborn) (2.8.1)\n",
      "Requirement already satisfied: pytz>=2017.2 in c:\\users\\carlos\\anaconda3\\envs\\pythondata\\lib\\site-packages (from pandas>=0.23->seaborn) (2020.1)\n",
      "Requirement already satisfied: six in c:\\users\\carlos\\anaconda3\\envs\\pythondata\\lib\\site-packages (from cycler>=0.10->matplotlib>=2.2->seaborn) (1.15.0)\n"
     ]
    }
   ],
   "source": [
    "!pip install seaborn"
   ]
  },
  {
   "cell_type": "code",
   "execution_count": 2,
>>>>>>> 0e0e2922e5ecae919dfe95827f4bfaddbff2522c
   "metadata": {},
   "outputs": [],
   "source": [
    "import matplotlib.pyplot as plt\n",
    "import pandas as pd\n",
    "import numpy as np\n",
    "from scipy.stats import linregress\n",
    "import seaborn as sn\n",
<<<<<<< HEAD
    "from collections import Counter \n"
=======
    "import os\n",
    "import glob\n"
>>>>>>> 0e0e2922e5ecae919dfe95827f4bfaddbff2522c
   ]
  },
  {
   "cell_type": "code",
<<<<<<< HEAD
   "execution_count": 2,
=======
   "execution_count": 3,
>>>>>>> 0e0e2922e5ecae919dfe95827f4bfaddbff2522c
   "metadata": {},
   "outputs": [],
   "source": [
    "# def plot_linear_regression(x_values, y_values, title, text_coordinates):\n",
    "#     (slope, intercept, rvalue, pvalue, stderr) = linregress(x_values, y_values)\n",
    "#     regress_values = x_values * slope + intercept\n",
    "#     line_eq = \"y = \" + str(round(slope,2)) + \"x + \" + str(round(intercept,2))\n",
    "    \n",
    "#     plt.scatter(x_values,y_values)\n",
    "#     plt.plot(x_values,regress_values,\"r-\")\n",
    "#     plt.annotate(line_eq,text_coordinates,fontsize=14,color=\"red\")\n",
    "#     plt.xlabel(\"Latitude\")\n",
    "#     plt.ylabel(title)\n",
    "#     print(f\"The r-squared is: {rvalue}\")\n",
    "#     plt.show()"
   ]
  },
  {
   "cell_type": "code",
<<<<<<< HEAD
   "execution_count": 3,
=======
   "execution_count": 4,
>>>>>>> 0e0e2922e5ecae919dfe95827f4bfaddbff2522c
   "metadata": {},
   "outputs": [],
   "source": [
    "\n",
    "file = \"csv_data/2015.csv\"\n",
    "file1 = \"csv_data/2016.csv\"\n",
    "file2 = \"csv_data/2017.csv\"\n",
    "file3 = \"csv_data/2018.csv\"\n",
    "file4 = \"csv_data/2019.csv\""
   ]
  },
  {
   "cell_type": "code",
<<<<<<< HEAD
   "execution_count": 4,
=======
   "execution_count": 5,
>>>>>>> 0e0e2922e5ecae919dfe95827f4bfaddbff2522c
   "metadata": {},
   "outputs": [],
   "source": [
    "# Dataframes by year\n",
    "\n",
    "df_2015 = pd.read_csv(file)\n",
    "df_2016 = pd.read_csv(file1)\n",
    "df_2017 = pd.read_csv(file2)\n",
    "df_2018 = pd.read_csv(file3)\n",
    "df_2019 = pd.read_csv(file4)"
   ]
  },
  {
   "cell_type": "code",
<<<<<<< HEAD
   "execution_count": 5,
   "metadata": {},
   "outputs": [
    {
     "name": "stdout",
     "output_type": "stream",
     "text": [
      "2015:  (158, 12)\n",
      "2016:  (157, 13)\n",
      "2017:  (155, 12)\n",
      "2018:  (156, 9)\n",
      "2019:  (156, 9)\n"
     ]
    }
   ],
   "source": [
    "#checks number of rows and columns \n",
    "print(\"2015: \", df_2015.shape)\n",
    "print(\"2016: \", df_2016.shape)\n",
    "print(\"2017: \", df_2017.shape)\n",
    "print(\"2018: \", df_2018.shape)\n",
    "print(\"2019: \", df_2019.shape)"
   ]
  },
  {
   "cell_type": "code",
   "execution_count": 6,
   "metadata": {},
   "outputs": [
    {
     "data": {
      "text/plain": [
       "Country                          0\n",
       "Region                           0\n",
       "Happiness Rank                   0\n",
       "Happiness Score                  0\n",
       "Standard Error                   0\n",
       "Economy (GDP per Capita)         0\n",
       "Family                           0\n",
       "Health (Life Expectancy)         0\n",
       "Freedom                          0\n",
       "Trust (Government Corruption)    0\n",
       "Generosity                       0\n",
       "Dystopia Residual                0\n",
       "dtype: int64"
      ]
     },
     "execution_count": 6,
     "metadata": {},
     "output_type": "execute_result"
    }
   ],
   "source": [
    "df_2015.isna().sum()"
   ]
  },
  {
   "cell_type": "code",
   "execution_count": 7,
=======
   "execution_count": 6,
>>>>>>> 0e0e2922e5ecae919dfe95827f4bfaddbff2522c
   "metadata": {},
   "outputs": [
    {
     "data": {
      "text/plain": [
       "Index(['country', 'region', 'rank', 'score', 'standard error', 'gdp', 'family',\n",
       "       'health', 'freedom', 'corruption', 'generosity', 'dystopia'],\n",
       "      dtype='object')"
      ]
     },
     "execution_count": 7,
     "metadata": {},
     "output_type": "execute_result"
    }
   ],
   "source": [
    "df_2015.rename(columns={'Happiness Rank':'rank', 'Happiness Score':'score', 'Economy (GDP per Capita)': 'gdp',\n",
    "                      'Health (Life Expectancy)': 'health', 'Trust (Government Corruption)': 'corruption',\n",
    "                      \"Dystopia Residual\": \"dystopia\"},\n",
    "                        inplace = True)\n",
    "df_2015.columns = df_2015.columns.str.lower()\n",
    "df_2015.columns"
   ]
  },
  {
   "cell_type": "code",
   "execution_count": 8,
   "metadata": {},
   "outputs": [
    {
     "data": {
      "text/html": [
       "<div>\n",
       "<style scoped>\n",
       "    .dataframe tbody tr th:only-of-type {\n",
       "        vertical-align: middle;\n",
       "    }\n",
       "\n",
       "    .dataframe tbody tr th {\n",
       "        vertical-align: top;\n",
       "    }\n",
       "\n",
       "    .dataframe thead th {\n",
       "        text-align: right;\n",
       "    }\n",
       "</style>\n",
       "<table border=\"1\" class=\"dataframe\">\n",
       "  <thead>\n",
       "    <tr style=\"text-align: right;\">\n",
       "      <th></th>\n",
       "      <th>country</th>\n",
       "      <th>rank</th>\n",
       "      <th>score</th>\n",
       "      <th>gdp</th>\n",
       "      <th>family</th>\n",
       "      <th>health</th>\n",
       "      <th>freedom</th>\n",
       "      <th>corruption</th>\n",
       "      <th>generosity</th>\n",
       "      <th>dystopia</th>\n",
       "    </tr>\n",
       "  </thead>\n",
       "  <tbody>\n",
       "    <tr>\n",
       "      <th>81</th>\n",
       "      <td>Jordan</td>\n",
       "      <td>82</td>\n",
       "      <td>5.192</td>\n",
       "      <td>0.90198</td>\n",
       "      <td>1.05392</td>\n",
       "      <td>0.69639</td>\n",
       "      <td>0.40661</td>\n",
       "      <td>0.14293</td>\n",
       "      <td>0.11053</td>\n",
       "      <td>1.87996</td>\n",
       "    </tr>\n",
       "    <tr>\n",
       "      <th>143</th>\n",
       "      <td>Niger</td>\n",
       "      <td>144</td>\n",
       "      <td>3.845</td>\n",
       "      <td>0.06940</td>\n",
       "      <td>0.77265</td>\n",
       "      <td>0.29707</td>\n",
       "      <td>0.47692</td>\n",
       "      <td>0.15639</td>\n",
       "      <td>0.19387</td>\n",
       "      <td>1.87877</td>\n",
       "    </tr>\n",
       "    <tr>\n",
       "      <th>140</th>\n",
       "      <td>Uganda</td>\n",
       "      <td>141</td>\n",
       "      <td>3.931</td>\n",
       "      <td>0.21102</td>\n",
       "      <td>1.13299</td>\n",
       "      <td>0.33861</td>\n",
       "      <td>0.45727</td>\n",
       "      <td>0.07267</td>\n",
       "      <td>0.29066</td>\n",
       "      <td>1.42766</td>\n",
       "    </tr>\n",
       "    <tr>\n",
       "      <th>123</th>\n",
       "      <td>Mauritania</td>\n",
       "      <td>124</td>\n",
       "      <td>4.436</td>\n",
       "      <td>0.45407</td>\n",
       "      <td>0.86908</td>\n",
       "      <td>0.35874</td>\n",
       "      <td>0.24232</td>\n",
       "      <td>0.17461</td>\n",
       "      <td>0.21900</td>\n",
       "      <td>2.11773</td>\n",
       "    </tr>\n",
       "    <tr>\n",
       "      <th>146</th>\n",
       "      <td>Madagascar</td>\n",
       "      <td>147</td>\n",
       "      <td>3.681</td>\n",
       "      <td>0.20824</td>\n",
       "      <td>0.66801</td>\n",
       "      <td>0.46721</td>\n",
       "      <td>0.19184</td>\n",
       "      <td>0.08124</td>\n",
       "      <td>0.21333</td>\n",
       "      <td>1.85100</td>\n",
       "    </tr>\n",
       "  </tbody>\n",
       "</table>\n",
       "</div>"
      ],
      "text/plain": [
       "        country  rank  score      gdp   family   health  freedom  corruption  \\\n",
       "81       Jordan    82  5.192  0.90198  1.05392  0.69639  0.40661     0.14293   \n",
       "143       Niger   144  3.845  0.06940  0.77265  0.29707  0.47692     0.15639   \n",
       "140      Uganda   141  3.931  0.21102  1.13299  0.33861  0.45727     0.07267   \n",
       "123  Mauritania   124  4.436  0.45407  0.86908  0.35874  0.24232     0.17461   \n",
       "146  Madagascar   147  3.681  0.20824  0.66801  0.46721  0.19184     0.08124   \n",
       "\n",
       "     generosity  dystopia  \n",
       "81      0.11053   1.87996  \n",
       "143     0.19387   1.87877  \n",
       "140     0.29066   1.42766  \n",
       "123     0.21900   2.11773  \n",
       "146     0.21333   1.85100  "
      ]
     },
<<<<<<< HEAD
     "execution_count": 8,
=======
     "execution_count": 6,
>>>>>>> 0e0e2922e5ecae919dfe95827f4bfaddbff2522c
     "metadata": {},
     "output_type": "execute_result"
    }
   ],
   "source": [
    "df_2015.drop(columns = ['region', 'standard error'], inplace = True)\n",
    "df_2015.sample(5)"
   ]
  },
  {
   "cell_type": "code",
<<<<<<< HEAD
   "execution_count": 9,
   "metadata": {},
   "outputs": [
    {
     "data": {
      "text/plain": [
       "Country                          0\n",
       "Region                           0\n",
       "Happiness Rank                   0\n",
       "Happiness Score                  0\n",
       "Lower Confidence Interval        0\n",
       "Upper Confidence Interval        0\n",
       "Economy (GDP per Capita)         0\n",
       "Family                           0\n",
       "Health (Life Expectancy)         0\n",
       "Freedom                          0\n",
       "Trust (Government Corruption)    0\n",
       "Generosity                       0\n",
       "Dystopia Residual                0\n",
       "dtype: int64"
      ]
     },
     "execution_count": 9,
     "metadata": {},
     "output_type": "execute_result"
    }
   ],
   "source": [
    "df_2016.isna().sum()"
=======
   "execution_count": 7,
   "metadata": {
    "scrolled": false
   },
   "outputs": [],
   "source": [
    "# Add column to each Dataframe to identify each year\n",
    "\n",
    "# df_2015['Year'] = '2015'\n",
    "# df_2016['Year'] = '2016'\n",
    "# df_2017['Year'] = '2017'\n",
    "# df_2018['Year'] = '2018'\n",
    "# df_2019['Year'] = '2019'\n"
   ]
  },
  {
   "cell_type": "code",
   "execution_count": 8,
   "metadata": {
    "scrolled": true
   },
   "outputs": [
    {
     "data": {
      "text/plain": [
       "Overall rank                    0\n",
       "Country or region               0\n",
       "Score                           0\n",
       "GDP per capita                  0\n",
       "Social support                  0\n",
       "Healthy life expectancy         0\n",
       "Freedom to make life choices    0\n",
       "Generosity                      0\n",
       "Perceptions of corruption       0\n",
       "dtype: int64"
      ]
     },
     "execution_count": 8,
     "metadata": {},
     "output_type": "execute_result"
    }
   ],
   "source": [
    "# 2019 clean up\n",
    "df_2019.isna().sum()"
>>>>>>> 0e0e2922e5ecae919dfe95827f4bfaddbff2522c
   ]
  },
  {
   "cell_type": "code",
   "execution_count": 10,
   "metadata": {},
   "outputs": [
    {
<<<<<<< HEAD
     "data": {
      "text/plain": [
       "Index(['country', 'region', 'rank', 'score', 'lower confidence interval',\n",
       "       'upper confidence interval', 'gdp', 'family', 'health', 'freedom',\n",
       "       'corruption', 'generosity', 'dystopia'],\n",
       "      dtype='object')"
      ]
     },
     "execution_count": 10,
     "metadata": {},
     "output_type": "execute_result"
    }
   ],
   "source": [
    "df_2016.columns = df_2016.columns.str.lower()\n",
    "df_2016.rename(columns={'happiness rank':'rank', 'happiness score':'score', 'economy (gdp per capita)': 'gdp',\n",
    "                      'health (life expectancy)':'health', 'trust (government corruption)': 'corruption',\n",
    "                      \"dystopia residual\": \"dystopia\"},\n",
    "                       inplace = True)\n",
    "df_2016.columns"
=======
     "name": "stdout",
     "output_type": "stream",
     "text": [
      "<class 'pandas.core.frame.DataFrame'>\n",
      "RangeIndex: 156 entries, 0 to 155\n",
      "Data columns (total 9 columns):\n",
      " #   Column                        Non-Null Count  Dtype  \n",
      "---  ------                        --------------  -----  \n",
      " 0   Overall rank                  156 non-null    int64  \n",
      " 1   Country or region             156 non-null    object \n",
      " 2   Score                         156 non-null    float64\n",
      " 3   GDP per capita                156 non-null    float64\n",
      " 4   Social support                156 non-null    float64\n",
      " 5   Healthy life expectancy       156 non-null    float64\n",
      " 6   Freedom to make life choices  156 non-null    float64\n",
      " 7   Generosity                    156 non-null    float64\n",
      " 8   Perceptions of corruption     156 non-null    float64\n",
      "dtypes: float64(7), int64(1), object(1)\n",
      "memory usage: 11.1+ KB\n"
     ]
    }
   ],
   "source": [
    "df_2019.info()"
   ]
  },
  {
   "cell_type": "code",
   "execution_count": 10,
   "metadata": {},
   "outputs": [
    {
     "data": {
      "text/plain": [
       "Index(['Country', 'Region', 'Happiness Rank', 'Happiness Score',\n",
       "       'Standard Error', 'Economy (GDP per Capita)', 'Family',\n",
       "       'Health (Life Expectancy)', 'Freedom', 'Trust (Government Corruption)',\n",
       "       'Generosity', 'Dystopia Residual'],\n",
       "      dtype='object')"
      ]
     },
     "execution_count": 10,
     "metadata": {},
     "output_type": "execute_result"
    }
   ],
   "source": [
    "df_2015.columns"
   ]
  },
  {
   "cell_type": "code",
   "execution_count": 11,
   "metadata": {},
   "outputs": [
    {
     "data": {
      "text/plain": [
       "Index(['rank', 'country', 'score', 'gdp', 'family', 'health', 'freedom',\n",
       "       'generosity', 'corruption'],\n",
       "      dtype='object')"
      ]
     },
     "execution_count": 11,
     "metadata": {},
     "output_type": "execute_result"
    }
   ],
   "source": [
    "# rename columns in 2019df\n",
    "df_2019.columns = df_2019.columns.str.lower()\n",
    "df_2019.rename(columns = {\"overall rank\": \"rank\", \"country or region\": \"country\", \n",
    "                          \"freedom to make life choices\": \"freedom\", 'perceptions of corruption': 'corruption',\n",
    "                          'gdp per capita': 'gdp', 'healthy life expectancy': 'health', 'social support': 'family'}, inplace=True)\n",
    "df_2019.columns = df_2019.columns.str.replace(\" \", \"_\")\n",
    "df_2019.columns\n",
    "                          "
   ]
  },
  {
   "cell_type": "code",
   "execution_count": 12,
   "metadata": {},
   "outputs": [
    {
     "data": {
      "text/html": [
       "<div>\n",
       "<style scoped>\n",
       "    .dataframe tbody tr th:only-of-type {\n",
       "        vertical-align: middle;\n",
       "    }\n",
       "\n",
       "    .dataframe tbody tr th {\n",
       "        vertical-align: top;\n",
       "    }\n",
       "\n",
       "    .dataframe thead th {\n",
       "        text-align: right;\n",
       "    }\n",
       "</style>\n",
       "<table border=\"1\" class=\"dataframe\">\n",
       "  <thead>\n",
       "    <tr style=\"text-align: right;\">\n",
       "      <th></th>\n",
       "      <th>rank</th>\n",
       "      <th>country</th>\n",
       "      <th>score</th>\n",
       "      <th>gdp</th>\n",
       "      <th>family</th>\n",
       "      <th>health</th>\n",
       "      <th>freedom</th>\n",
       "      <th>generosity</th>\n",
       "      <th>corruption</th>\n",
       "    </tr>\n",
       "  </thead>\n",
       "  <tbody>\n",
       "    <tr>\n",
       "      <th>71</th>\n",
       "      <td>72</td>\n",
       "      <td>Libya</td>\n",
       "      <td>5.525</td>\n",
       "      <td>1.044</td>\n",
       "      <td>1.303</td>\n",
       "      <td>0.673</td>\n",
       "      <td>0.416</td>\n",
       "      <td>0.133</td>\n",
       "      <td>0.152</td>\n",
       "    </tr>\n",
       "    <tr>\n",
       "      <th>116</th>\n",
       "      <td>117</td>\n",
       "      <td>Iran</td>\n",
       "      <td>4.548</td>\n",
       "      <td>1.100</td>\n",
       "      <td>0.842</td>\n",
       "      <td>0.785</td>\n",
       "      <td>0.305</td>\n",
       "      <td>0.270</td>\n",
       "      <td>0.125</td>\n",
       "    </tr>\n",
       "    <tr>\n",
       "      <th>143</th>\n",
       "      <td>144</td>\n",
       "      <td>Lesotho</td>\n",
       "      <td>3.802</td>\n",
       "      <td>0.489</td>\n",
       "      <td>1.169</td>\n",
       "      <td>0.168</td>\n",
       "      <td>0.359</td>\n",
       "      <td>0.107</td>\n",
       "      <td>0.093</td>\n",
       "    </tr>\n",
       "    <tr>\n",
       "      <th>115</th>\n",
       "      <td>116</td>\n",
       "      <td>Armenia</td>\n",
       "      <td>4.559</td>\n",
       "      <td>0.850</td>\n",
       "      <td>1.055</td>\n",
       "      <td>0.815</td>\n",
       "      <td>0.283</td>\n",
       "      <td>0.095</td>\n",
       "      <td>0.064</td>\n",
       "    </tr>\n",
       "    <tr>\n",
       "      <th>14</th>\n",
       "      <td>15</td>\n",
       "      <td>United Kingdom</td>\n",
       "      <td>7.054</td>\n",
       "      <td>1.333</td>\n",
       "      <td>1.538</td>\n",
       "      <td>0.996</td>\n",
       "      <td>0.450</td>\n",
       "      <td>0.348</td>\n",
       "      <td>0.278</td>\n",
       "    </tr>\n",
       "  </tbody>\n",
       "</table>\n",
       "</div>"
      ],
      "text/plain": [
       "     rank         country  score    gdp  family  health  freedom  generosity  \\\n",
       "71     72           Libya  5.525  1.044   1.303   0.673    0.416       0.133   \n",
       "116   117            Iran  4.548  1.100   0.842   0.785    0.305       0.270   \n",
       "143   144         Lesotho  3.802  0.489   1.169   0.168    0.359       0.107   \n",
       "115   116         Armenia  4.559  0.850   1.055   0.815    0.283       0.095   \n",
       "14     15  United Kingdom  7.054  1.333   1.538   0.996    0.450       0.348   \n",
       "\n",
       "     corruption  \n",
       "71        0.152  \n",
       "116       0.125  \n",
       "143       0.093  \n",
       "115       0.064  \n",
       "14        0.278  "
      ]
     },
     "execution_count": 12,
     "metadata": {},
     "output_type": "execute_result"
    }
   ],
   "source": [
    "df_2019.sample(5)"
   ]
  },
  {
   "cell_type": "code",
   "execution_count": 13,
   "metadata": {},
   "outputs": [
    {
     "data": {
      "text/plain": [
       "Overall rank                    0\n",
       "Country or region               0\n",
       "Score                           0\n",
       "GDP per capita                  0\n",
       "Social support                  0\n",
       "Healthy life expectancy         0\n",
       "Freedom to make life choices    0\n",
       "Generosity                      0\n",
       "Perceptions of corruption       1\n",
       "dtype: int64"
      ]
     },
     "execution_count": 13,
     "metadata": {},
     "output_type": "execute_result"
    }
   ],
   "source": [
    "# 2018 df clean up\n",
    "df_2018.isna().sum()"
>>>>>>> 0e0e2922e5ecae919dfe95827f4bfaddbff2522c
   ]
  },
  {
   "cell_type": "code",
   "execution_count": 11,
   "metadata": {},
   "outputs": [
    {
     "data": {
      "text/html": [
       "<div>\n",
       "<style scoped>\n",
       "    .dataframe tbody tr th:only-of-type {\n",
       "        vertical-align: middle;\n",
       "    }\n",
       "\n",
       "    .dataframe tbody tr th {\n",
       "        vertical-align: top;\n",
       "    }\n",
       "\n",
       "    .dataframe thead th {\n",
       "        text-align: right;\n",
       "    }\n",
       "</style>\n",
       "<table border=\"1\" class=\"dataframe\">\n",
       "  <thead>\n",
       "    <tr style=\"text-align: right;\">\n",
       "      <th></th>\n",
<<<<<<< HEAD
       "      <th>country</th>\n",
       "      <th>rank</th>\n",
       "      <th>score</th>\n",
       "      <th>gdp</th>\n",
       "      <th>family</th>\n",
       "      <th>health</th>\n",
       "      <th>freedom</th>\n",
       "      <th>corruption</th>\n",
       "      <th>generosity</th>\n",
       "      <th>dystopia</th>\n",
=======
       "      <th>Overall rank</th>\n",
       "      <th>Country or region</th>\n",
       "      <th>Score</th>\n",
       "      <th>GDP per capita</th>\n",
       "      <th>Social support</th>\n",
       "      <th>Healthy life expectancy</th>\n",
       "      <th>Freedom to make life choices</th>\n",
       "      <th>Generosity</th>\n",
       "      <th>Perceptions of corruption</th>\n",
>>>>>>> 0e0e2922e5ecae919dfe95827f4bfaddbff2522c
       "    </tr>\n",
       "  </thead>\n",
       "  <tbody>\n",
       "    <tr>\n",
<<<<<<< HEAD
       "      <th>78</th>\n",
       "      <td>Indonesia</td>\n",
       "      <td>79</td>\n",
       "      <td>5.314</td>\n",
       "      <td>0.95104</td>\n",
       "      <td>0.87625</td>\n",
       "      <td>0.49374</td>\n",
       "      <td>0.39237</td>\n",
       "      <td>0.00322</td>\n",
       "      <td>0.56521</td>\n",
       "      <td>2.03171</td>\n",
       "    </tr>\n",
       "    <tr>\n",
       "      <th>54</th>\n",
       "      <td>Moldova</td>\n",
       "      <td>55</td>\n",
       "      <td>5.897</td>\n",
       "      <td>0.69177</td>\n",
       "      <td>0.83132</td>\n",
       "      <td>0.52309</td>\n",
       "      <td>0.25202</td>\n",
       "      <td>0.01903</td>\n",
       "      <td>0.19997</td>\n",
       "      <td>3.38007</td>\n",
       "    </tr>\n",
       "    <tr>\n",
       "      <th>94</th>\n",
       "      <td>Macedonia</td>\n",
       "      <td>95</td>\n",
       "      <td>5.121</td>\n",
       "      <td>1.01930</td>\n",
       "      <td>0.78236</td>\n",
       "      <td>0.64738</td>\n",
       "      <td>0.27668</td>\n",
       "      <td>0.07047</td>\n",
       "      <td>0.23507</td>\n",
       "      <td>2.08947</td>\n",
       "    </tr>\n",
       "    <tr>\n",
       "      <th>26</th>\n",
       "      <td>Czech Republic</td>\n",
       "      <td>27</td>\n",
       "      <td>6.596</td>\n",
       "      <td>1.30915</td>\n",
       "      <td>1.00793</td>\n",
       "      <td>0.76376</td>\n",
       "      <td>0.41418</td>\n",
       "      <td>0.03986</td>\n",
       "      <td>0.09929</td>\n",
       "      <td>2.96211</td>\n",
       "    </tr>\n",
       "    <tr>\n",
       "      <th>148</th>\n",
       "      <td>Tanzania</td>\n",
       "      <td>149</td>\n",
       "      <td>3.666</td>\n",
       "      <td>0.47155</td>\n",
       "      <td>0.77623</td>\n",
       "      <td>0.35700</td>\n",
       "      <td>0.31760</td>\n",
       "      <td>0.05099</td>\n",
       "      <td>0.31472</td>\n",
       "      <td>1.37769</td>\n",
=======
       "      <th>19</th>\n",
       "      <td>20</td>\n",
       "      <td>United Arab Emirates</td>\n",
       "      <td>6.774</td>\n",
       "      <td>2.096</td>\n",
       "      <td>0.776</td>\n",
       "      <td>0.67</td>\n",
       "      <td>0.284</td>\n",
       "      <td>0.186</td>\n",
       "      <td>NaN</td>\n",
>>>>>>> 0e0e2922e5ecae919dfe95827f4bfaddbff2522c
       "    </tr>\n",
       "  </tbody>\n",
       "</table>\n",
       "</div>"
      ],
      "text/plain": [
<<<<<<< HEAD
       "            country  rank  score      gdp   family   health  freedom  \\\n",
       "78        Indonesia    79  5.314  0.95104  0.87625  0.49374  0.39237   \n",
       "54          Moldova    55  5.897  0.69177  0.83132  0.52309  0.25202   \n",
       "94        Macedonia    95  5.121  1.01930  0.78236  0.64738  0.27668   \n",
       "26   Czech Republic    27  6.596  1.30915  1.00793  0.76376  0.41418   \n",
       "148        Tanzania   149  3.666  0.47155  0.77623  0.35700  0.31760   \n",
       "\n",
       "     corruption  generosity  dystopia  \n",
       "78      0.00322     0.56521   2.03171  \n",
       "54      0.01903     0.19997   3.38007  \n",
       "94      0.07047     0.23507   2.08947  \n",
       "26      0.03986     0.09929   2.96211  \n",
       "148     0.05099     0.31472   1.37769  "
      ]
     },
     "execution_count": 11,
     "metadata": {},
     "output_type": "execute_result"
    }
   ],
   "source": [
    "df_2016.drop(columns = ['lower confidence interval','upper confidence interval',\n",
    "                      'region'],\n",
    "           inplace = True)\n",
    "df_2016.sample(5)"
=======
       "    Overall rank     Country or region  Score  GDP per capita  Social support  \\\n",
       "19            20  United Arab Emirates  6.774           2.096           0.776   \n",
       "\n",
       "    Healthy life expectancy  Freedom to make life choices  Generosity  \\\n",
       "19                     0.67                         0.284       0.186   \n",
       "\n",
       "    Perceptions of corruption  \n",
       "19                        NaN  "
      ]
     },
     "execution_count": 14,
     "metadata": {},
     "output_type": "execute_result"
    }
   ],
   "source": [
    "# we have a NaN value\n",
    "\n",
    "\n",
    "df_2018[df_2018.isna().values]"
   ]
  },
  {
   "cell_type": "code",
   "execution_count": 15,
   "metadata": {
    "scrolled": false
   },
   "outputs": [
    {
     "name": "stdout",
     "output_type": "stream",
     "text": [
      "<class 'pandas.core.frame.DataFrame'>\n",
      "RangeIndex: 156 entries, 0 to 155\n",
      "Data columns (total 9 columns):\n",
      " #   Column                        Non-Null Count  Dtype  \n",
      "---  ------                        --------------  -----  \n",
      " 0   Overall rank                  156 non-null    int64  \n",
      " 1   Country or region             156 non-null    object \n",
      " 2   Score                         156 non-null    float64\n",
      " 3   GDP per capita                156 non-null    float64\n",
      " 4   Social support                156 non-null    float64\n",
      " 5   Healthy life expectancy       156 non-null    float64\n",
      " 6   Freedom to make life choices  156 non-null    float64\n",
      " 7   Generosity                    156 non-null    float64\n",
      " 8   Perceptions of corruption     155 non-null    float64\n",
      "dtypes: float64(7), int64(1), object(1)\n",
      "memory usage: 11.1+ KB\n"
     ]
    }
   ],
   "source": [
    "df_2018.info()"
>>>>>>> 0e0e2922e5ecae919dfe95827f4bfaddbff2522c
   ]
  },
  {
   "cell_type": "code",
<<<<<<< HEAD
   "execution_count": 12,
=======
   "execution_count": 16,
>>>>>>> 0e0e2922e5ecae919dfe95827f4bfaddbff2522c
   "metadata": {},
   "outputs": [
    {
     "data": {
      "text/plain": [
       "Country                          0\n",
       "Happiness.Rank                   0\n",
       "Happiness.Score                  0\n",
       "Whisker.high                     0\n",
       "Whisker.low                      0\n",
       "Economy..GDP.per.Capita.         0\n",
       "Family                           0\n",
       "Health..Life.Expectancy.         0\n",
       "Freedom                          0\n",
       "Generosity                       0\n",
       "Trust..Government.Corruption.    0\n",
       "Dystopia.Residual                0\n",
       "dtype: int64"
      ]
     },
     "execution_count": 12,
     "metadata": {},
     "output_type": "execute_result"
    }
   ],
   "source": [
<<<<<<< HEAD
    "df_2017.isna().sum()"
=======
    "df_2018.columns = df_2018.columns.str.lower()\n",
    "df_2018.rename(columns = {'overall rank': 'rank', 'country or region': 'country',\n",
    "                          'freedom to make life choices': 'freedom', 'perceptions of corruption': 'corruption',\n",
    "                          'gdp per capita': 'gdp', 'healthy life expectancy': 'health',\n",
    "                          'social support': 'family'}, inplace=True)\n",
    "\n",
    "df_2018.columns =  df_2018.columns.str.replace(\" \", \"_\")"
>>>>>>> 0e0e2922e5ecae919dfe95827f4bfaddbff2522c
   ]
  },
  {
   "cell_type": "code",
<<<<<<< HEAD
   "execution_count": 13,
=======
   "execution_count": 17,
   "metadata": {},
   "outputs": [
    {
     "data": {
      "text/html": [
       "<div>\n",
       "<style scoped>\n",
       "    .dataframe tbody tr th:only-of-type {\n",
       "        vertical-align: middle;\n",
       "    }\n",
       "\n",
       "    .dataframe tbody tr th {\n",
       "        vertical-align: top;\n",
       "    }\n",
       "\n",
       "    .dataframe thead th {\n",
       "        text-align: right;\n",
       "    }\n",
       "</style>\n",
       "<table border=\"1\" class=\"dataframe\">\n",
       "  <thead>\n",
       "    <tr style=\"text-align: right;\">\n",
       "      <th></th>\n",
       "      <th>rank</th>\n",
       "      <th>country</th>\n",
       "      <th>score</th>\n",
       "      <th>gdp</th>\n",
       "      <th>family</th>\n",
       "      <th>health</th>\n",
       "      <th>freedom</th>\n",
       "      <th>generosity</th>\n",
       "      <th>corruption</th>\n",
       "    </tr>\n",
       "  </thead>\n",
       "  <tbody>\n",
       "    <tr>\n",
       "      <th>80</th>\n",
       "      <td>81</td>\n",
       "      <td>Montenegro</td>\n",
       "      <td>5.347</td>\n",
       "      <td>1.017</td>\n",
       "      <td>1.279</td>\n",
       "      <td>0.729</td>\n",
       "      <td>0.259</td>\n",
       "      <td>0.111</td>\n",
       "      <td>0.081</td>\n",
       "    </tr>\n",
       "    <tr>\n",
       "      <th>2</th>\n",
       "      <td>3</td>\n",
       "      <td>Denmark</td>\n",
       "      <td>7.555</td>\n",
       "      <td>1.351</td>\n",
       "      <td>1.590</td>\n",
       "      <td>0.868</td>\n",
       "      <td>0.683</td>\n",
       "      <td>0.284</td>\n",
       "      <td>0.408</td>\n",
       "    </tr>\n",
       "    <tr>\n",
       "      <th>24</th>\n",
       "      <td>25</td>\n",
       "      <td>Chile</td>\n",
       "      <td>6.476</td>\n",
       "      <td>1.131</td>\n",
       "      <td>1.331</td>\n",
       "      <td>0.808</td>\n",
       "      <td>0.431</td>\n",
       "      <td>0.197</td>\n",
       "      <td>0.061</td>\n",
       "    </tr>\n",
       "    <tr>\n",
       "      <th>76</th>\n",
       "      <td>77</td>\n",
       "      <td>Portugal</td>\n",
       "      <td>5.410</td>\n",
       "      <td>1.188</td>\n",
       "      <td>1.429</td>\n",
       "      <td>0.884</td>\n",
       "      <td>0.562</td>\n",
       "      <td>0.055</td>\n",
       "      <td>0.017</td>\n",
       "    </tr>\n",
       "    <tr>\n",
       "      <th>120</th>\n",
       "      <td>121</td>\n",
       "      <td>Burkina Faso</td>\n",
       "      <td>4.424</td>\n",
       "      <td>0.314</td>\n",
       "      <td>1.097</td>\n",
       "      <td>0.254</td>\n",
       "      <td>0.312</td>\n",
       "      <td>0.175</td>\n",
       "      <td>0.128</td>\n",
       "    </tr>\n",
       "  </tbody>\n",
       "</table>\n",
       "</div>"
      ],
      "text/plain": [
       "     rank       country  score    gdp  family  health  freedom  generosity  \\\n",
       "80     81    Montenegro  5.347  1.017   1.279   0.729    0.259       0.111   \n",
       "2       3       Denmark  7.555  1.351   1.590   0.868    0.683       0.284   \n",
       "24     25         Chile  6.476  1.131   1.331   0.808    0.431       0.197   \n",
       "76     77      Portugal  5.410  1.188   1.429   0.884    0.562       0.055   \n",
       "120   121  Burkina Faso  4.424  0.314   1.097   0.254    0.312       0.175   \n",
       "\n",
       "     corruption  \n",
       "80        0.081  \n",
       "2         0.408  \n",
       "24        0.061  \n",
       "76        0.017  \n",
       "120       0.128  "
      ]
     },
     "execution_count": 17,
     "metadata": {},
     "output_type": "execute_result"
    }
   ],
   "source": [
    "df_2018.sample(5)"
   ]
  },
  {
   "cell_type": "code",
   "execution_count": 18,
   "metadata": {},
   "outputs": [
    {
     "data": {
      "text/plain": [
       "Country                          0\n",
       "Happiness.Rank                   0\n",
       "Happiness.Score                  0\n",
       "Whisker.high                     0\n",
       "Whisker.low                      0\n",
       "Economy..GDP.per.Capita.         0\n",
       "Family                           0\n",
       "Health..Life.Expectancy.         0\n",
       "Freedom                          0\n",
       "Generosity                       0\n",
       "Trust..Government.Corruption.    0\n",
       "Dystopia.Residual                0\n",
       "dtype: int64"
      ]
     },
     "execution_count": 18,
     "metadata": {},
     "output_type": "execute_result"
    }
   ],
   "source": [
    "# 2017 cleanup\n",
    "df_2017.isna().sum()"
   ]
  },
  {
   "cell_type": "code",
   "execution_count": 19,
   "metadata": {},
   "outputs": [
    {
     "name": "stdout",
     "output_type": "stream",
     "text": [
      "<class 'pandas.core.frame.DataFrame'>\n",
      "RangeIndex: 155 entries, 0 to 154\n",
      "Data columns (total 12 columns):\n",
      " #   Column                         Non-Null Count  Dtype  \n",
      "---  ------                         --------------  -----  \n",
      " 0   Country                        155 non-null    object \n",
      " 1   Happiness.Rank                 155 non-null    int64  \n",
      " 2   Happiness.Score                155 non-null    float64\n",
      " 3   Whisker.high                   155 non-null    float64\n",
      " 4   Whisker.low                    155 non-null    float64\n",
      " 5   Economy..GDP.per.Capita.       155 non-null    float64\n",
      " 6   Family                         155 non-null    float64\n",
      " 7   Health..Life.Expectancy.       155 non-null    float64\n",
      " 8   Freedom                        155 non-null    float64\n",
      " 9   Generosity                     155 non-null    float64\n",
      " 10  Trust..Government.Corruption.  155 non-null    float64\n",
      " 11  Dystopia.Residual              155 non-null    float64\n",
      "dtypes: float64(10), int64(1), object(1)\n",
      "memory usage: 14.7+ KB\n"
     ]
    }
   ],
   "source": [
    "df_2017.info()"
   ]
  },
  {
   "cell_type": "code",
   "execution_count": 20,
   "metadata": {},
   "outputs": [
    {
     "data": {
      "text/plain": [
       "Index(['country', 'rank', 'score', 'whiskerhigh', 'whiskerlow', 'gdp',\n",
       "       'family', 'health', 'freedom', 'generosity', 'corruption', 'dystopia'],\n",
       "      dtype='object')"
      ]
     },
     "execution_count": 20,
     "metadata": {},
     "output_type": "execute_result"
    }
   ],
   "source": [
    "# remove the dots\n",
    "df_2017.columns = df_2017.columns.str.replace('.', '')\n",
    "\n",
    "df_2017.columns = df_2017.columns.str.lower()\n",
    "df_2017.rename(columns = {'happinessrank': 'rank', 'happinessscore': 'score', 'healthlifeexpectancy': 'health',\n",
    "                          'economygdppercapita': 'gdp', 'trustgovernmentcorruption':'corruption',\n",
    "                          'dystopiaresidual': 'dystopia'}, inplace=True)\n",
    "\n",
    "df_2017.columns\n"
   ]
  },
  {
   "cell_type": "code",
   "execution_count": 21,
   "metadata": {},
   "outputs": [],
   "source": [
    "df_2017.drop(columns = ['whiskerhigh', 'whiskerlow'], inplace=True)\n"
   ]
  },
  {
   "cell_type": "code",
   "execution_count": 22,
   "metadata": {},
   "outputs": [
    {
     "data": {
      "text/plain": [
       "Index(['country', 'rank', 'score', 'gdp', 'family', 'health', 'freedom',\n",
       "       'generosity', 'corruption', 'dystopia'],\n",
       "      dtype='object')"
      ]
     },
     "execution_count": 22,
     "metadata": {},
     "output_type": "execute_result"
    }
   ],
   "source": [
    "df_2017.columns"
   ]
  },
  {
   "cell_type": "code",
   "execution_count": 23,
   "metadata": {},
   "outputs": [
    {
     "data": {
      "text/html": [
       "<div>\n",
       "<style scoped>\n",
       "    .dataframe tbody tr th:only-of-type {\n",
       "        vertical-align: middle;\n",
       "    }\n",
       "\n",
       "    .dataframe tbody tr th {\n",
       "        vertical-align: top;\n",
       "    }\n",
       "\n",
       "    .dataframe thead th {\n",
       "        text-align: right;\n",
       "    }\n",
       "</style>\n",
       "<table border=\"1\" class=\"dataframe\">\n",
       "  <thead>\n",
       "    <tr style=\"text-align: right;\">\n",
       "      <th></th>\n",
       "      <th>country</th>\n",
       "      <th>rank</th>\n",
       "      <th>score</th>\n",
       "      <th>gdp</th>\n",
       "      <th>family</th>\n",
       "      <th>health</th>\n",
       "      <th>freedom</th>\n",
       "      <th>generosity</th>\n",
       "      <th>corruption</th>\n",
       "      <th>dystopia</th>\n",
       "    </tr>\n",
       "  </thead>\n",
       "  <tbody>\n",
       "    <tr>\n",
       "      <th>48</th>\n",
       "      <td>Russia</td>\n",
       "      <td>49</td>\n",
       "      <td>5.963</td>\n",
       "      <td>1.281778</td>\n",
       "      <td>1.469282</td>\n",
       "      <td>0.547349</td>\n",
       "      <td>0.373783</td>\n",
       "      <td>0.052264</td>\n",
       "      <td>0.032963</td>\n",
       "      <td>2.205607</td>\n",
       "    </tr>\n",
       "    <tr>\n",
       "      <th>58</th>\n",
       "      <td>Turkmenistan</td>\n",
       "      <td>59</td>\n",
       "      <td>5.822</td>\n",
       "      <td>1.130777</td>\n",
       "      <td>1.493149</td>\n",
       "      <td>0.437726</td>\n",
       "      <td>0.418272</td>\n",
       "      <td>0.249925</td>\n",
       "      <td>0.259270</td>\n",
       "      <td>1.832910</td>\n",
       "    </tr>\n",
       "    <tr>\n",
       "      <th>123</th>\n",
       "      <td>Congo (Brazzaville)</td>\n",
       "      <td>124</td>\n",
       "      <td>4.291</td>\n",
       "      <td>0.808964</td>\n",
       "      <td>0.832044</td>\n",
       "      <td>0.289957</td>\n",
       "      <td>0.435026</td>\n",
       "      <td>0.120852</td>\n",
       "      <td>0.079618</td>\n",
       "      <td>1.724136</td>\n",
       "    </tr>\n",
       "    <tr>\n",
       "      <th>87</th>\n",
       "      <td>Lebanon</td>\n",
       "      <td>88</td>\n",
       "      <td>5.225</td>\n",
       "      <td>1.074988</td>\n",
       "      <td>1.129624</td>\n",
       "      <td>0.735081</td>\n",
       "      <td>0.288516</td>\n",
       "      <td>0.264451</td>\n",
       "      <td>0.037514</td>\n",
       "      <td>1.695074</td>\n",
       "    </tr>\n",
       "    <tr>\n",
       "      <th>43</th>\n",
       "      <td>Ecuador</td>\n",
       "      <td>44</td>\n",
       "      <td>6.008</td>\n",
       "      <td>1.000820</td>\n",
       "      <td>1.286169</td>\n",
       "      <td>0.685636</td>\n",
       "      <td>0.455198</td>\n",
       "      <td>0.150112</td>\n",
       "      <td>0.140135</td>\n",
       "      <td>2.290353</td>\n",
       "    </tr>\n",
       "  </tbody>\n",
       "</table>\n",
       "</div>"
      ],
      "text/plain": [
       "                 country  rank  score       gdp    family    health   freedom  \\\n",
       "48                Russia    49  5.963  1.281778  1.469282  0.547349  0.373783   \n",
       "58          Turkmenistan    59  5.822  1.130777  1.493149  0.437726  0.418272   \n",
       "123  Congo (Brazzaville)   124  4.291  0.808964  0.832044  0.289957  0.435026   \n",
       "87               Lebanon    88  5.225  1.074988  1.129624  0.735081  0.288516   \n",
       "43               Ecuador    44  6.008  1.000820  1.286169  0.685636  0.455198   \n",
       "\n",
       "     generosity  corruption  dystopia  \n",
       "48     0.052264    0.032963  2.205607  \n",
       "58     0.249925    0.259270  1.832910  \n",
       "123    0.120852    0.079618  1.724136  \n",
       "87     0.264451    0.037514  1.695074  \n",
       "43     0.150112    0.140135  2.290353  "
      ]
     },
     "execution_count": 23,
     "metadata": {},
     "output_type": "execute_result"
    }
   ],
   "source": [
    "df_2017.sample(5)"
   ]
  },
  {
   "cell_type": "code",
   "execution_count": 24,
   "metadata": {},
   "outputs": [
    {
     "data": {
      "text/plain": [
       "Country                          0\n",
       "Region                           0\n",
       "Happiness Rank                   0\n",
       "Happiness Score                  0\n",
       "Lower Confidence Interval        0\n",
       "Upper Confidence Interval        0\n",
       "Economy (GDP per Capita)         0\n",
       "Family                           0\n",
       "Health (Life Expectancy)         0\n",
       "Freedom                          0\n",
       "Trust (Government Corruption)    0\n",
       "Generosity                       0\n",
       "Dystopia Residual                0\n",
       "dtype: int64"
      ]
     },
     "execution_count": 24,
     "metadata": {},
     "output_type": "execute_result"
    }
   ],
   "source": [
    "# 2016 cleanup\n",
    "df_2016.isna().sum()"
   ]
  },
  {
   "cell_type": "code",
   "execution_count": 25,
   "metadata": {},
   "outputs": [
    {
     "name": "stdout",
     "output_type": "stream",
     "text": [
      "<class 'pandas.core.frame.DataFrame'>\n",
      "RangeIndex: 157 entries, 0 to 156\n",
      "Data columns (total 13 columns):\n",
      " #   Column                         Non-Null Count  Dtype  \n",
      "---  ------                         --------------  -----  \n",
      " 0   Country                        157 non-null    object \n",
      " 1   Region                         157 non-null    object \n",
      " 2   Happiness Rank                 157 non-null    int64  \n",
      " 3   Happiness Score                157 non-null    float64\n",
      " 4   Lower Confidence Interval      157 non-null    float64\n",
      " 5   Upper Confidence Interval      157 non-null    float64\n",
      " 6   Economy (GDP per Capita)       157 non-null    float64\n",
      " 7   Family                         157 non-null    float64\n",
      " 8   Health (Life Expectancy)       157 non-null    float64\n",
      " 9   Freedom                        157 non-null    float64\n",
      " 10  Trust (Government Corruption)  157 non-null    float64\n",
      " 11  Generosity                     157 non-null    float64\n",
      " 12  Dystopia Residual              157 non-null    float64\n",
      "dtypes: float64(10), int64(1), object(2)\n",
      "memory usage: 16.1+ KB\n"
     ]
    }
   ],
   "source": [
    "df_2016.info()"
   ]
  },
  {
   "cell_type": "code",
   "execution_count": 26,
   "metadata": {},
   "outputs": [
    {
     "data": {
      "text/plain": [
       "Index(['country', 'region', 'rank', 'score', 'lower confidence interval',\n",
       "       'upper confidence interval', 'gdp', 'family', 'health', 'freedom',\n",
       "       'corruption', 'generosity', 'dystopia'],\n",
       "      dtype='object')"
      ]
     },
     "execution_count": 26,
     "metadata": {},
     "output_type": "execute_result"
    }
   ],
   "source": [
    "df_2016.columns = df_2016.columns.str.lower()\n",
    "df_2016.rename(columns={'happiness rank': 'rank', 'happiness score': 'score', 'economy (gdp per capita)':'gdp',\n",
    "                        'health (life expectancy)': 'health', 'trust (government corruption)': 'corruption',\n",
    "                        'dystopia residual':  'dystopia'}, inplace=True)\n",
    "\n",
    "df_2016.columns"
   ]
  },
  {
   "cell_type": "code",
   "execution_count": 27,
   "metadata": {},
   "outputs": [
    {
     "data": {
      "text/html": [
       "<div>\n",
       "<style scoped>\n",
       "    .dataframe tbody tr th:only-of-type {\n",
       "        vertical-align: middle;\n",
       "    }\n",
       "\n",
       "    .dataframe tbody tr th {\n",
       "        vertical-align: top;\n",
       "    }\n",
       "\n",
       "    .dataframe thead th {\n",
       "        text-align: right;\n",
       "    }\n",
       "</style>\n",
       "<table border=\"1\" class=\"dataframe\">\n",
       "  <thead>\n",
       "    <tr style=\"text-align: right;\">\n",
       "      <th></th>\n",
       "      <th>country</th>\n",
       "      <th>rank</th>\n",
       "      <th>score</th>\n",
       "      <th>gdp</th>\n",
       "      <th>family</th>\n",
       "      <th>health</th>\n",
       "      <th>freedom</th>\n",
       "      <th>corruption</th>\n",
       "      <th>generosity</th>\n",
       "      <th>dystopia</th>\n",
       "    </tr>\n",
       "  </thead>\n",
       "  <tbody>\n",
       "    <tr>\n",
       "      <th>143</th>\n",
       "      <td>Chad</td>\n",
       "      <td>144</td>\n",
       "      <td>3.763</td>\n",
       "      <td>0.42214</td>\n",
       "      <td>0.63178</td>\n",
       "      <td>0.03824</td>\n",
       "      <td>0.12807</td>\n",
       "      <td>0.04952</td>\n",
       "      <td>0.18667</td>\n",
       "      <td>2.30637</td>\n",
       "    </tr>\n",
       "    <tr>\n",
       "      <th>111</th>\n",
       "      <td>Iraq</td>\n",
       "      <td>112</td>\n",
       "      <td>4.575</td>\n",
       "      <td>1.07474</td>\n",
       "      <td>0.59205</td>\n",
       "      <td>0.51076</td>\n",
       "      <td>0.24856</td>\n",
       "      <td>0.13636</td>\n",
       "      <td>0.19589</td>\n",
       "      <td>1.81657</td>\n",
       "    </tr>\n",
       "    <tr>\n",
       "      <th>151</th>\n",
       "      <td>Rwanda</td>\n",
       "      <td>152</td>\n",
       "      <td>3.515</td>\n",
       "      <td>0.32846</td>\n",
       "      <td>0.61586</td>\n",
       "      <td>0.31865</td>\n",
       "      <td>0.54320</td>\n",
       "      <td>0.50521</td>\n",
       "      <td>0.23552</td>\n",
       "      <td>0.96819</td>\n",
       "    </tr>\n",
       "    <tr>\n",
       "      <th>92</th>\n",
       "      <td>Lebanon</td>\n",
       "      <td>93</td>\n",
       "      <td>5.129</td>\n",
       "      <td>1.12268</td>\n",
       "      <td>0.64184</td>\n",
       "      <td>0.76171</td>\n",
       "      <td>0.26228</td>\n",
       "      <td>0.03061</td>\n",
       "      <td>0.23693</td>\n",
       "      <td>2.07339</td>\n",
       "    </tr>\n",
       "    <tr>\n",
       "      <th>99</th>\n",
       "      <td>Tajikistan</td>\n",
       "      <td>100</td>\n",
       "      <td>4.996</td>\n",
       "      <td>0.48835</td>\n",
       "      <td>0.75602</td>\n",
       "      <td>0.53119</td>\n",
       "      <td>0.43408</td>\n",
       "      <td>0.13509</td>\n",
       "      <td>0.25998</td>\n",
       "      <td>2.39106</td>\n",
       "    </tr>\n",
       "  </tbody>\n",
       "</table>\n",
       "</div>"
      ],
      "text/plain": [
       "        country  rank  score      gdp   family   health  freedom  corruption  \\\n",
       "143        Chad   144  3.763  0.42214  0.63178  0.03824  0.12807     0.04952   \n",
       "111        Iraq   112  4.575  1.07474  0.59205  0.51076  0.24856     0.13636   \n",
       "151      Rwanda   152  3.515  0.32846  0.61586  0.31865  0.54320     0.50521   \n",
       "92      Lebanon    93  5.129  1.12268  0.64184  0.76171  0.26228     0.03061   \n",
       "99   Tajikistan   100  4.996  0.48835  0.75602  0.53119  0.43408     0.13509   \n",
       "\n",
       "     generosity  dystopia  \n",
       "143     0.18667   2.30637  \n",
       "111     0.19589   1.81657  \n",
       "151     0.23552   0.96819  \n",
       "92      0.23693   2.07339  \n",
       "99      0.25998   2.39106  "
      ]
     },
     "execution_count": 27,
     "metadata": {},
     "output_type": "execute_result"
    }
   ],
   "source": [
    "df_2016.drop(columns= ['lower confidence interval', 'upper confidence interval','region'], inplace=True)\n",
    "\n",
    "df_2016.sample(5)"
   ]
  },
  {
   "cell_type": "code",
   "execution_count": 28,
   "metadata": {},
   "outputs": [
    {
     "data": {
      "text/plain": [
       "Country                          0\n",
       "Region                           0\n",
       "Happiness Rank                   0\n",
       "Happiness Score                  0\n",
       "Standard Error                   0\n",
       "Economy (GDP per Capita)         0\n",
       "Family                           0\n",
       "Health (Life Expectancy)         0\n",
       "Freedom                          0\n",
       "Trust (Government Corruption)    0\n",
       "Generosity                       0\n",
       "Dystopia Residual                0\n",
       "dtype: int64"
      ]
     },
     "execution_count": 28,
     "metadata": {},
     "output_type": "execute_result"
    }
   ],
   "source": [
    "# 2015 cleanup\n",
    "\n",
    "df_2015.isna().sum()\n"
   ]
  },
  {
   "cell_type": "code",
   "execution_count": 29,
   "metadata": {},
   "outputs": [
    {
     "name": "stdout",
     "output_type": "stream",
     "text": [
      "<class 'pandas.core.frame.DataFrame'>\n",
      "RangeIndex: 158 entries, 0 to 157\n",
      "Data columns (total 12 columns):\n",
      " #   Column                         Non-Null Count  Dtype  \n",
      "---  ------                         --------------  -----  \n",
      " 0   Country                        158 non-null    object \n",
      " 1   Region                         158 non-null    object \n",
      " 2   Happiness Rank                 158 non-null    int64  \n",
      " 3   Happiness Score                158 non-null    float64\n",
      " 4   Standard Error                 158 non-null    float64\n",
      " 5   Economy (GDP per Capita)       158 non-null    float64\n",
      " 6   Family                         158 non-null    float64\n",
      " 7   Health (Life Expectancy)       158 non-null    float64\n",
      " 8   Freedom                        158 non-null    float64\n",
      " 9   Trust (Government Corruption)  158 non-null    float64\n",
      " 10  Generosity                     158 non-null    float64\n",
      " 11  Dystopia Residual              158 non-null    float64\n",
      "dtypes: float64(9), int64(1), object(2)\n",
      "memory usage: 14.9+ KB\n"
     ]
    }
   ],
   "source": [
    "df_2015.info()"
   ]
  },
  {
   "cell_type": "code",
   "execution_count": 30,
   "metadata": {},
   "outputs": [
    {
     "data": {
      "text/plain": [
       "Index(['country', 'region', 'rank', 'score', 'standard error', 'gdp', 'family',\n",
       "       'health', 'freedom', 'corruption', 'generosity', 'dystopia'],\n",
       "      dtype='object')"
      ]
     },
     "execution_count": 30,
     "metadata": {},
     "output_type": "execute_result"
    }
   ],
   "source": [
    "df_2015.rename(columns={'Happiness Rank':'rank', 'Happiness Score':'score', 'Economy (GDP per Capita)': 'gdp',\n",
    "                        'Health (Life Expectancy)':'health', 'Trust (Government Corruption)': 'corruption',\n",
    "                       'Dystopia Residual':'dystopia'}, inplace=True)\n",
    "\n",
    "df_2015.columns = df_2015.columns.str.lower()\n",
    "df_2015.columns"
   ]
  },
  {
   "cell_type": "code",
   "execution_count": null,
   "metadata": {},
   "outputs": [],
   "source": []
  },
  {
   "cell_type": "code",
   "execution_count": 31,
   "metadata": {},
   "outputs": [
    {
     "data": {
      "text/html": [
       "<div>\n",
       "<style scoped>\n",
       "    .dataframe tbody tr th:only-of-type {\n",
       "        vertical-align: middle;\n",
       "    }\n",
       "\n",
       "    .dataframe tbody tr th {\n",
       "        vertical-align: top;\n",
       "    }\n",
       "\n",
       "    .dataframe thead th {\n",
       "        text-align: right;\n",
       "    }\n",
       "</style>\n",
       "<table border=\"1\" class=\"dataframe\">\n",
       "  <thead>\n",
       "    <tr style=\"text-align: right;\">\n",
       "      <th></th>\n",
       "      <th>country</th>\n",
       "      <th>rank</th>\n",
       "      <th>score</th>\n",
       "      <th>gdp</th>\n",
       "      <th>family</th>\n",
       "      <th>health</th>\n",
       "      <th>freedom</th>\n",
       "      <th>corruption</th>\n",
       "      <th>generosity</th>\n",
       "      <th>dystopia</th>\n",
       "    </tr>\n",
       "  </thead>\n",
       "  <tbody>\n",
       "    <tr>\n",
       "      <th>67</th>\n",
       "      <td>Algeria</td>\n",
       "      <td>68</td>\n",
       "      <td>5.605</td>\n",
       "      <td>0.93929</td>\n",
       "      <td>1.07772</td>\n",
       "      <td>0.61766</td>\n",
       "      <td>0.28579</td>\n",
       "      <td>0.17383</td>\n",
       "      <td>0.07822</td>\n",
       "      <td>2.43209</td>\n",
       "    </tr>\n",
       "    <tr>\n",
       "      <th>89</th>\n",
       "      <td>Philippines</td>\n",
       "      <td>90</td>\n",
       "      <td>5.073</td>\n",
       "      <td>0.70532</td>\n",
       "      <td>1.03516</td>\n",
       "      <td>0.58114</td>\n",
       "      <td>0.62545</td>\n",
       "      <td>0.12279</td>\n",
       "      <td>0.24991</td>\n",
       "      <td>1.75360</td>\n",
       "    </tr>\n",
       "    <tr>\n",
       "      <th>85</th>\n",
       "      <td>Romania</td>\n",
       "      <td>86</td>\n",
       "      <td>5.124</td>\n",
       "      <td>1.04345</td>\n",
       "      <td>0.88588</td>\n",
       "      <td>0.76890</td>\n",
       "      <td>0.35068</td>\n",
       "      <td>0.00649</td>\n",
       "      <td>0.13748</td>\n",
       "      <td>1.93129</td>\n",
       "    </tr>\n",
       "    <tr>\n",
       "      <th>56</th>\n",
       "      <td>Nicaragua</td>\n",
       "      <td>57</td>\n",
       "      <td>5.828</td>\n",
       "      <td>0.59325</td>\n",
       "      <td>1.14184</td>\n",
       "      <td>0.74314</td>\n",
       "      <td>0.55475</td>\n",
       "      <td>0.19317</td>\n",
       "      <td>0.27815</td>\n",
       "      <td>2.32407</td>\n",
       "    </tr>\n",
       "    <tr>\n",
       "      <th>99</th>\n",
       "      <td>Mongolia</td>\n",
       "      <td>100</td>\n",
       "      <td>4.874</td>\n",
       "      <td>0.82819</td>\n",
       "      <td>1.30060</td>\n",
       "      <td>0.60268</td>\n",
       "      <td>0.43626</td>\n",
       "      <td>0.02666</td>\n",
       "      <td>0.33230</td>\n",
       "      <td>1.34759</td>\n",
       "    </tr>\n",
       "  </tbody>\n",
       "</table>\n",
       "</div>"
      ],
      "text/plain": [
       "        country  rank  score      gdp   family   health  freedom  corruption  \\\n",
       "67      Algeria    68  5.605  0.93929  1.07772  0.61766  0.28579     0.17383   \n",
       "89  Philippines    90  5.073  0.70532  1.03516  0.58114  0.62545     0.12279   \n",
       "85      Romania    86  5.124  1.04345  0.88588  0.76890  0.35068     0.00649   \n",
       "56    Nicaragua    57  5.828  0.59325  1.14184  0.74314  0.55475     0.19317   \n",
       "99     Mongolia   100  4.874  0.82819  1.30060  0.60268  0.43626     0.02666   \n",
       "\n",
       "    generosity  dystopia  \n",
       "67     0.07822   2.43209  \n",
       "89     0.24991   1.75360  \n",
       "85     0.13748   1.93129  \n",
       "56     0.27815   2.32407  \n",
       "99     0.33230   1.34759  "
      ]
     },
     "execution_count": 31,
     "metadata": {},
     "output_type": "execute_result"
    }
   ],
   "source": [
    "df_2015.drop(columns= ['region','standard error'], inplace=True)\n",
    "df_2015.sample(5)"
   ]
  },
  {
   "cell_type": "code",
   "execution_count": 32,
   "metadata": {},
   "outputs": [
    {
     "name": "stdout",
     "output_type": "stream",
     "text": [
      "2015:\n",
      " ['country', 'rank', 'score', 'gdp', 'family', 'health', 'freedom', 'corruption', 'generosity', 'dystopia']\n",
      "\n",
      "2016:\n",
      " ['country', 'rank', 'score', 'gdp', 'family', 'health', 'freedom', 'corruption', 'generosity', 'dystopia']\n",
      "\n",
      "2017:\n",
      " ['country', 'rank', 'score', 'gdp', 'family', 'health', 'freedom', 'generosity', 'corruption', 'dystopia']\n",
      "\n",
      "2018:\n",
      " ['rank', 'country', 'score', 'gdp', 'family', 'health', 'freedom', 'generosity', 'corruption']\n",
      "\n",
      "2019:\n",
      " ['rank', 'country', 'score', 'gdp', 'family', 'health', 'freedom', 'generosity', 'corruption']\n"
     ]
    }
   ],
   "source": [
    "def print_all_dataframe_columns():\n",
    "    print(\"2015:\\n\", df_2015.columns.to_list())\n",
    "    print(\"\\n2016:\\n\", df_2016.columns.to_list())\n",
    "    print(\"\\n2017:\\n\", df_2017.columns.to_list())\n",
    "    print(\"\\n2018:\\n\", df_2018.columns.to_list())\n",
    "    print(\"\\n2019:\\n\", df_2019.columns.to_list())\n",
    "    \n",
    "print_all_dataframe_columns()"
   ]
  },
  {
   "cell_type": "code",
   "execution_count": 33,
   "metadata": {},
   "outputs": [],
   "source": [
    "# add dystopia column to data frame\n",
    "df_2018['dystopia'] = 0.0\n",
    "df_2019['dystopia'] = 0.0"
   ]
  },
  {
   "cell_type": "code",
   "execution_count": 34,
   "metadata": {},
   "outputs": [
    {
     "name": "stdout",
     "output_type": "stream",
     "text": [
      "2015:\n",
      " ['country', 'rank', 'score', 'gdp', 'family', 'health', 'freedom', 'corruption', 'generosity', 'dystopia']\n",
      "\n",
      "2016:\n",
      " ['country', 'rank', 'score', 'gdp', 'family', 'health', 'freedom', 'corruption', 'generosity', 'dystopia']\n",
      "\n",
      "2017:\n",
      " ['country', 'rank', 'score', 'gdp', 'family', 'health', 'freedom', 'generosity', 'corruption', 'dystopia']\n",
      "\n",
      "2018:\n",
      " ['rank', 'country', 'score', 'gdp', 'family', 'health', 'freedom', 'generosity', 'corruption', 'dystopia']\n",
      "\n",
      "2019:\n",
      " ['rank', 'country', 'score', 'gdp', 'family', 'health', 'freedom', 'generosity', 'corruption', 'dystopia']\n"
     ]
    }
   ],
   "source": [
    "print_all_dataframe_columns()"
   ]
  },
  {
   "cell_type": "code",
   "execution_count": 35,
   "metadata": {},
   "outputs": [],
   "source": [
    "# add year columns to all data frame\n",
    "df_2015['Year'] = '2015'\n",
    "df_2016['Year'] = '2016'\n",
    "df_2017['Year'] = '2017'\n",
    "df_2018['Year'] = '2018'\n",
    "df_2019['Year'] = '2019'"
   ]
  },
  {
   "cell_type": "code",
   "execution_count": 36,
   "metadata": {},
   "outputs": [
    {
     "name": "stdout",
     "output_type": "stream",
     "text": [
      "2015:\n",
      " ['country', 'rank', 'score', 'gdp', 'family', 'health', 'freedom', 'corruption', 'generosity', 'dystopia', 'Year']\n",
      "\n",
      "2016:\n",
      " ['country', 'rank', 'score', 'gdp', 'family', 'health', 'freedom', 'corruption', 'generosity', 'dystopia', 'Year']\n",
      "\n",
      "2017:\n",
      " ['country', 'rank', 'score', 'gdp', 'family', 'health', 'freedom', 'generosity', 'corruption', 'dystopia', 'Year']\n",
      "\n",
      "2018:\n",
      " ['rank', 'country', 'score', 'gdp', 'family', 'health', 'freedom', 'generosity', 'corruption', 'dystopia', 'Year']\n",
      "\n",
      "2019:\n",
      " ['rank', 'country', 'score', 'gdp', 'family', 'health', 'freedom', 'generosity', 'corruption', 'dystopia', 'Year']\n"
     ]
    }
   ],
   "source": [
    "print_all_dataframe_columns()"
   ]
  },
  {
   "cell_type": "code",
   "execution_count": 37,
   "metadata": {},
   "outputs": [],
   "source": [
    "# combine dataframes\n",
    "main_df = pd.concat([df_2015, df_2016, df_2017, df_2018, df_2019])\n"
   ]
  },
  {
   "cell_type": "code",
   "execution_count": 39,
   "metadata": {},
   "outputs": [],
   "source": [
    "main_df\n",
    "main_df.country = main_df.country.str.lower().str.replace(' ','_')"
   ]
  },
  {
   "cell_type": "code",
   "execution_count": 40,
   "metadata": {},
   "outputs": [
    {
     "data": {
      "text/plain": [
       "country       0\n",
       "rank          0\n",
       "score         0\n",
       "gdp           0\n",
       "family        0\n",
       "health        0\n",
       "freedom       0\n",
       "corruption    1\n",
       "generosity    0\n",
       "dystopia      0\n",
       "Year          0\n",
       "dtype: int64"
      ]
     },
     "execution_count": 40,
     "metadata": {},
     "output_type": "execute_result"
    }
   ],
   "source": [
    "main_df.isna().sum()"
   ]
  },
  {
   "cell_type": "code",
   "execution_count": 41,
   "metadata": {},
   "outputs": [
    {
     "data": {
      "text/html": [
       "<div>\n",
       "<style scoped>\n",
       "    .dataframe tbody tr th:only-of-type {\n",
       "        vertical-align: middle;\n",
       "    }\n",
       "\n",
       "    .dataframe tbody tr th {\n",
       "        vertical-align: top;\n",
       "    }\n",
       "\n",
       "    .dataframe thead th {\n",
       "        text-align: right;\n",
       "    }\n",
       "</style>\n",
       "<table border=\"1\" class=\"dataframe\">\n",
       "  <thead>\n",
       "    <tr style=\"text-align: right;\">\n",
       "      <th></th>\n",
       "      <th>country</th>\n",
       "      <th>rank</th>\n",
       "      <th>score</th>\n",
       "      <th>gdp</th>\n",
       "      <th>family</th>\n",
       "      <th>health</th>\n",
       "      <th>freedom</th>\n",
       "      <th>corruption</th>\n",
       "      <th>generosity</th>\n",
       "      <th>dystopia</th>\n",
       "      <th>Year</th>\n",
       "    </tr>\n",
       "  </thead>\n",
       "  <tbody>\n",
       "    <tr>\n",
       "      <th>19</th>\n",
       "      <td>united_arab_emirates</td>\n",
       "      <td>20</td>\n",
       "      <td>6.774</td>\n",
       "      <td>2.096</td>\n",
       "      <td>0.776</td>\n",
       "      <td>0.67</td>\n",
       "      <td>0.284</td>\n",
       "      <td>NaN</td>\n",
       "      <td>0.186</td>\n",
       "      <td>0.0</td>\n",
       "      <td>2018</td>\n",
       "    </tr>\n",
       "  </tbody>\n",
       "</table>\n",
       "</div>"
      ],
      "text/plain": [
       "                 country  rank  score    gdp  family  health  freedom  \\\n",
       "19  united_arab_emirates    20  6.774  2.096   0.776    0.67    0.284   \n",
       "\n",
       "    corruption  generosity  dystopia  Year  \n",
       "19         NaN       0.186       0.0  2018  "
      ]
     },
     "execution_count": 41,
     "metadata": {},
     "output_type": "execute_result"
    }
   ],
   "source": [
    "main_df[main_df.isna().values]"
   ]
  },
  {
   "cell_type": "code",
   "execution_count": 43,
   "metadata": {},
   "outputs": [
    {
     "data": {
      "text/html": [
       "<div>\n",
       "<style scoped>\n",
       "    .dataframe tbody tr th:only-of-type {\n",
       "        vertical-align: middle;\n",
       "    }\n",
       "\n",
       "    .dataframe tbody tr th {\n",
       "        vertical-align: top;\n",
       "    }\n",
       "\n",
       "    .dataframe thead th {\n",
       "        text-align: right;\n",
       "    }\n",
       "</style>\n",
       "<table border=\"1\" class=\"dataframe\">\n",
       "  <thead>\n",
       "    <tr style=\"text-align: right;\">\n",
       "      <th></th>\n",
       "      <th>country</th>\n",
       "      <th>rank</th>\n",
       "      <th>score</th>\n",
       "      <th>gdp</th>\n",
       "      <th>family</th>\n",
       "      <th>health</th>\n",
       "      <th>freedom</th>\n",
       "      <th>corruption</th>\n",
       "      <th>generosity</th>\n",
       "      <th>dystopia</th>\n",
       "      <th>Year</th>\n",
       "    </tr>\n",
       "  </thead>\n",
       "  <tbody>\n",
       "    <tr>\n",
       "      <th>19</th>\n",
       "      <td>united_arab_emirates</td>\n",
       "      <td>20</td>\n",
       "      <td>6.901</td>\n",
       "      <td>1.427270</td>\n",
       "      <td>1.12575</td>\n",
       "      <td>0.809250</td>\n",
       "      <td>0.641570</td>\n",
       "      <td>0.38583</td>\n",
       "      <td>0.264280</td>\n",
       "      <td>2.247430</td>\n",
       "      <td>2015</td>\n",
       "    </tr>\n",
       "    <tr>\n",
       "      <th>27</th>\n",
       "      <td>united_arab_emirates</td>\n",
       "      <td>28</td>\n",
       "      <td>6.573</td>\n",
       "      <td>1.573520</td>\n",
       "      <td>0.87114</td>\n",
       "      <td>0.729930</td>\n",
       "      <td>0.562150</td>\n",
       "      <td>0.35561</td>\n",
       "      <td>0.265910</td>\n",
       "      <td>2.215070</td>\n",
       "      <td>2016</td>\n",
       "    </tr>\n",
       "    <tr>\n",
       "      <th>20</th>\n",
       "      <td>united_arab_emirates</td>\n",
       "      <td>21</td>\n",
       "      <td>6.648</td>\n",
       "      <td>1.626343</td>\n",
       "      <td>1.26641</td>\n",
       "      <td>0.726798</td>\n",
       "      <td>0.608345</td>\n",
       "      <td>0.32449</td>\n",
       "      <td>0.360942</td>\n",
       "      <td>1.734704</td>\n",
       "      <td>2017</td>\n",
       "    </tr>\n",
       "    <tr>\n",
       "      <th>19</th>\n",
       "      <td>united_arab_emirates</td>\n",
       "      <td>20</td>\n",
       "      <td>6.774</td>\n",
       "      <td>2.096000</td>\n",
       "      <td>0.77600</td>\n",
       "      <td>0.670000</td>\n",
       "      <td>0.284000</td>\n",
       "      <td>NaN</td>\n",
       "      <td>0.186000</td>\n",
       "      <td>0.000000</td>\n",
       "      <td>2018</td>\n",
       "    </tr>\n",
       "    <tr>\n",
       "      <th>20</th>\n",
       "      <td>united_arab_emirates</td>\n",
       "      <td>21</td>\n",
       "      <td>6.825</td>\n",
       "      <td>1.503000</td>\n",
       "      <td>1.31000</td>\n",
       "      <td>0.825000</td>\n",
       "      <td>0.598000</td>\n",
       "      <td>0.18200</td>\n",
       "      <td>0.262000</td>\n",
       "      <td>0.000000</td>\n",
       "      <td>2019</td>\n",
       "    </tr>\n",
       "  </tbody>\n",
       "</table>\n",
       "</div>"
      ],
      "text/plain": [
       "                 country  rank  score       gdp   family    health   freedom  \\\n",
       "19  united_arab_emirates    20  6.901  1.427270  1.12575  0.809250  0.641570   \n",
       "27  united_arab_emirates    28  6.573  1.573520  0.87114  0.729930  0.562150   \n",
       "20  united_arab_emirates    21  6.648  1.626343  1.26641  0.726798  0.608345   \n",
       "19  united_arab_emirates    20  6.774  2.096000  0.77600  0.670000  0.284000   \n",
       "20  united_arab_emirates    21  6.825  1.503000  1.31000  0.825000  0.598000   \n",
       "\n",
       "    corruption  generosity  dystopia  Year  \n",
       "19     0.38583    0.264280  2.247430  2015  \n",
       "27     0.35561    0.265910  2.215070  2016  \n",
       "20     0.32449    0.360942  1.734704  2017  \n",
       "19         NaN    0.186000  0.000000  2018  \n",
       "20     0.18200    0.262000  0.000000  2019  "
      ]
     },
     "execution_count": 43,
     "metadata": {},
     "output_type": "execute_result"
    }
   ],
   "source": [
    "main_df.loc[main_df.country == 'united_arab_emirates']"
   ]
  },
  {
   "cell_type": "code",
   "execution_count": 45,
   "metadata": {},
   "outputs": [],
   "source": [
    "avg_corr = main_df.loc[main_df.country == 'united_arab_emirates', 'corruption'].mean()"
   ]
  },
  {
   "cell_type": "code",
   "execution_count": 46,
   "metadata": {},
   "outputs": [],
   "source": [
    "main_df.corruption.fillna(avg_corr, inplace=True)"
   ]
  },
  {
   "cell_type": "code",
   "execution_count": null,
   "metadata": {},
   "outputs": [],
   "source": []
  },
  {
   "cell_type": "code",
   "execution_count": 47,
   "metadata": {},
   "outputs": [
    {
     "data": {
      "text/plain": [
       "False"
      ]
     },
     "execution_count": 47,
     "metadata": {},
     "output_type": "execute_result"
    }
   ],
   "source": [
    "main_df.isna().sum().any()"
   ]
  },
  {
   "cell_type": "code",
   "execution_count": null,
   "metadata": {},
   "outputs": [],
   "source": []
  },
  {
   "cell_type": "code",
   "execution_count": null,
   "metadata": {},
   "outputs": [],
   "source": []
  },
  {
   "cell_type": "code",
   "execution_count": null,
   "metadata": {},
   "outputs": [],
   "source": []
  },
  {
   "cell_type": "code",
   "execution_count": null,
   "metadata": {},
   "outputs": [],
   "source": []
  },
  {
   "cell_type": "code",
   "execution_count": null,
   "metadata": {},
   "outputs": [],
   "source": [
    "# stack data frames\n",
    "#  df.to_csv('results.csv')"
   ]
  },
  {
   "cell_type": "code",
   "execution_count": null,
   "metadata": {},
   "outputs": [],
   "source": [
    "# df = pd.concat([df_2015, df_2016, df_2017, df_2018, df_2019],\n",
    "#       axis=1,\n",
    "# #     join=\"outer\",\n",
    "# #     ignore_index=False,\n",
    "# #     keys=None,\n",
    "# #     levels=None,\n",
    "# #     names=None,\n",
    "# #     verify_integrity=False,\n",
    "# #     copy=True,\n",
    "#       inplace=True,)\n",
    "# df.head()"
   ]
  },
  {
   "cell_type": "code",
   "execution_count": null,
   "metadata": {},
   "outputs": [],
   "source": []
  },
  {
   "cell_type": "code",
   "execution_count": null,
>>>>>>> 0e0e2922e5ecae919dfe95827f4bfaddbff2522c
   "metadata": {},
   "outputs": [
    {
     "data": {
      "text/plain": [
       "Index(['country', 'rank', 'score', 'whiskerhigh', 'whiskerlow', 'gdp',\n",
       "       'family', 'health', 'freedom', 'generosity', 'corruption', 'dystopia'],\n",
       "      dtype='object')"
      ]
     },
     "execution_count": 13,
     "metadata": {},
     "output_type": "execute_result"
    }
   ],
   "source": [
    "df_2017.columns = df_2017.columns.str.replace(\".\", \"\")\n",
    "# let's convert into lower case\n",
    "df_2017.columns = df_2017.columns.str.lower()\n",
    "df_2017.rename(columns = {\"happinessrank\": \"rank\", \"happinessscore\": \"score\", \"healthlifeexpectancy\": \"health\",\n",
    "                        \"economygdppercapita\": \"gdp\", \"trustgovernmentcorruption\": \"corruption\",\n",
    "                        \"dystopiaresidual\": \"dystopia\"}, inplace = True)\n",
    "df_2017.columns"
   ]
  },
  {
   "cell_type": "code",
   "execution_count": 14,
   "metadata": {},
   "outputs": [
    {
     "data": {
      "text/html": [
       "<div>\n",
       "<style scoped>\n",
       "    .dataframe tbody tr th:only-of-type {\n",
       "        vertical-align: middle;\n",
       "    }\n",
       "\n",
       "    .dataframe tbody tr th {\n",
       "        vertical-align: top;\n",
       "    }\n",
       "\n",
       "    .dataframe thead th {\n",
       "        text-align: right;\n",
       "    }\n",
       "</style>\n",
       "<table border=\"1\" class=\"dataframe\">\n",
       "  <thead>\n",
       "    <tr style=\"text-align: right;\">\n",
       "      <th></th>\n",
       "      <th>country</th>\n",
       "      <th>rank</th>\n",
       "      <th>score</th>\n",
       "      <th>gdp</th>\n",
       "      <th>family</th>\n",
       "      <th>health</th>\n",
       "      <th>freedom</th>\n",
       "      <th>generosity</th>\n",
       "      <th>corruption</th>\n",
       "      <th>dystopia</th>\n",
       "    </tr>\n",
       "  </thead>\n",
       "  <tbody>\n",
       "    <tr>\n",
       "      <th>122</th>\n",
       "      <td>Mauritania</td>\n",
       "      <td>123</td>\n",
       "      <td>4.292</td>\n",
       "      <td>0.648457</td>\n",
       "      <td>1.272031</td>\n",
       "      <td>0.285349</td>\n",
       "      <td>0.096098</td>\n",
       "      <td>0.201870</td>\n",
       "      <td>0.136957</td>\n",
       "      <td>1.651637</td>\n",
       "    </tr>\n",
       "    <tr>\n",
       "      <th>64</th>\n",
       "      <td>Cyprus</td>\n",
       "      <td>65</td>\n",
       "      <td>5.621</td>\n",
       "      <td>1.355938</td>\n",
       "      <td>1.131363</td>\n",
       "      <td>0.844715</td>\n",
       "      <td>0.355112</td>\n",
       "      <td>0.271254</td>\n",
       "      <td>0.041238</td>\n",
       "      <td>1.621249</td>\n",
       "    </tr>\n",
       "    <tr>\n",
       "      <th>86</th>\n",
       "      <td>Greece</td>\n",
       "      <td>87</td>\n",
       "      <td>5.227</td>\n",
       "      <td>1.289487</td>\n",
       "      <td>1.239415</td>\n",
       "      <td>0.810199</td>\n",
       "      <td>0.095731</td>\n",
       "      <td>0.000000</td>\n",
       "      <td>0.043290</td>\n",
       "      <td>1.749222</td>\n",
       "    </tr>\n",
       "    <tr>\n",
       "      <th>149</th>\n",
       "      <td>Togo</td>\n",
       "      <td>150</td>\n",
       "      <td>3.495</td>\n",
       "      <td>0.305445</td>\n",
       "      <td>0.431883</td>\n",
       "      <td>0.247106</td>\n",
       "      <td>0.380426</td>\n",
       "      <td>0.196896</td>\n",
       "      <td>0.095665</td>\n",
       "      <td>1.837229</td>\n",
       "    </tr>\n",
       "    <tr>\n",
       "      <th>2</th>\n",
       "      <td>Iceland</td>\n",
       "      <td>3</td>\n",
       "      <td>7.504</td>\n",
       "      <td>1.480633</td>\n",
       "      <td>1.610574</td>\n",
       "      <td>0.833552</td>\n",
       "      <td>0.627163</td>\n",
       "      <td>0.475540</td>\n",
       "      <td>0.153527</td>\n",
       "      <td>2.322715</td>\n",
       "    </tr>\n",
       "  </tbody>\n",
       "</table>\n",
       "</div>"
      ],
      "text/plain": [
       "        country  rank  score       gdp    family    health   freedom  \\\n",
       "122  Mauritania   123  4.292  0.648457  1.272031  0.285349  0.096098   \n",
       "64       Cyprus    65  5.621  1.355938  1.131363  0.844715  0.355112   \n",
       "86       Greece    87  5.227  1.289487  1.239415  0.810199  0.095731   \n",
       "149        Togo   150  3.495  0.305445  0.431883  0.247106  0.380426   \n",
       "2       Iceland     3  7.504  1.480633  1.610574  0.833552  0.627163   \n",
       "\n",
       "     generosity  corruption  dystopia  \n",
       "122    0.201870    0.136957  1.651637  \n",
       "64     0.271254    0.041238  1.621249  \n",
       "86     0.000000    0.043290  1.749222  \n",
       "149    0.196896    0.095665  1.837229  \n",
       "2      0.475540    0.153527  2.322715  "
      ]
     },
     "execution_count": 14,
     "metadata": {},
     "output_type": "execute_result"
    }
   ],
   "source": [
    "df_2017.drop(columns = ['whiskerhigh', 'whiskerlow'], inplace = True)\n",
    "df_2017.sample(5)"
   ]
  },
  {
   "cell_type": "code",
   "execution_count": 15,
   "metadata": {},
   "outputs": [
    {
     "data": {
      "text/plain": [
       "Overall rank                    0\n",
       "Country or region               0\n",
       "Score                           0\n",
       "GDP per capita                  0\n",
       "Social support                  0\n",
       "Healthy life expectancy         0\n",
       "Freedom to make life choices    0\n",
       "Generosity                      0\n",
       "Perceptions of corruption       1\n",
       "dtype: int64"
      ]
     },
     "execution_count": 15,
     "metadata": {},
     "output_type": "execute_result"
    }
   ],
   "source": [
    "df_2018.isna().sum()"
   ]
  },
  {
   "cell_type": "code",
   "execution_count": 16,
   "metadata": {},
   "outputs": [
    {
     "data": {
      "text/plain": [
       "Index(['rank', 'country', 'score', 'gdp', 'family', 'health', 'freedom',\n",
       "       'generosity', 'corruption'],\n",
       "      dtype='object')"
      ]
     },
     "execution_count": 16,
     "metadata": {},
     "output_type": "execute_result"
    }
   ],
   "source": [
    "df_2018.columns = df_2018.columns.str.lower()\n",
    "df_2018.rename(columns = {\"overall rank\": \"rank\", \"country or region\": \"country\",\n",
    "                         \"freedom to make life choices\": \"freedom\", \"perceptions of corruption\": \"corruption\",\n",
    "                        \"gdp per capita\": \"gdp\", \"healthy life expectancy\": \"health\",\n",
    "                        \"social support\": \"family\"}, inplace=True)\n",
    "df_2018.columns = df_2018.columns.str.replace(\" \", \"_\")\n",
    "df_2018.columns"
   ]
  },
  {
   "cell_type": "code",
   "execution_count": 17,
   "metadata": {},
   "outputs": [
    {
     "data": {
      "text/plain": [
       "Index(['rank', 'country', 'score', 'gdp', 'family', 'health', 'freedom',\n",
       "       'generosity', 'corruption'],\n",
       "      dtype='object')"
      ]
     },
     "execution_count": 17,
     "metadata": {},
     "output_type": "execute_result"
    }
   ],
   "source": [
    "df_2019.columns = df_2019.columns.str.lower()\n",
    "df_2019.rename(columns = {\"overall rank\": \"rank\", \"country or region\": \"country\",\n",
    "                         \"freedom to make life choices\": \"freedom\", \"perceptions of corruption\": \"corruption\",\n",
    "                        \"gdp per capita\": \"gdp\", \"healthy life expectancy\": \"health\",\n",
    "                        \"social support\": \"family\"}, inplace=True)\n",
    "df_2019.columns = df_2019.columns.str.replace(\" \", \"_\")\n",
    "df_2019.columns"
   ]
  },
  {
   "cell_type": "code",
   "execution_count": 18,
   "metadata": {},
   "outputs": [
    {
     "data": {
      "text/plain": [
       "rank          0\n",
       "country       0\n",
       "score         0\n",
       "gdp           0\n",
       "family        0\n",
       "health        0\n",
       "freedom       0\n",
       "generosity    0\n",
       "corruption    0\n",
       "dtype: int64"
      ]
     },
     "execution_count": 18,
     "metadata": {},
     "output_type": "execute_result"
    }
   ],
   "source": [
    "df_2019.isna().sum()"
   ]
  },
  {
   "cell_type": "code",
   "execution_count": 19,
   "metadata": {},
   "outputs": [
    {
     "name": "stdout",
     "output_type": "stream",
     "text": [
      "2015:\n",
      " ['country', 'rank', 'score', 'gdp', 'family', 'health', 'freedom', 'corruption', 'generosity', 'dystopia']\n",
      "\n",
      "2016:\n",
      " ['country', 'rank', 'score', 'gdp', 'family', 'health', 'freedom', 'corruption', 'generosity', 'dystopia']\n",
      "\n",
      "2017:\n",
      " ['country', 'rank', 'score', 'gdp', 'family', 'health', 'freedom', 'generosity', 'corruption', 'dystopia']\n",
      "\n",
      "2018:\n",
      " ['rank', 'country', 'score', 'gdp', 'family', 'health', 'freedom', 'generosity', 'corruption']\n",
      "\n",
      "2019:\n",
      " ['rank', 'country', 'score', 'gdp', 'family', 'health', 'freedom', 'generosity', 'corruption']\n"
     ]
    }
   ],
   "source": [
    "def print_all_dataframe_columns():\n",
    "    print(\"2015:\\n\", df_2015.columns.to_list())\n",
    "    print(\"\\n2016:\\n\", df_2016.columns.to_list())\n",
    "    print(\"\\n2017:\\n\", df_2017.columns.to_list())\n",
    "    print(\"\\n2018:\\n\", df_2018.columns.to_list())\n",
    "    print(\"\\n2019:\\n\", df_2019.columns.to_list())\n",
    "    \n",
    "print_all_dataframe_columns()"
   ]
  },
  {
   "cell_type": "code",
   "execution_count": 20,
   "metadata": {
    "scrolled": false
   },
   "outputs": [
    {
     "data": {
      "text/plain": [
       "Index(['country', 'rank', 'score', 'gdp', 'family', 'health', 'freedom',\n",
       "       'generosity', 'corruption', 'dystopia', 'year'],\n",
       "      dtype='object')"
      ]
     },
     "execution_count": 20,
     "metadata": {},
     "output_type": "execute_result"
    }
   ],
   "source": [
    "# Add column to each Dataframe to identify each year\n",
    "\n",
    "df_2015['year'] = '2015'\n",
    "df_2016['year'] = '2016'\n",
    "df_2017['year'] = '2017'\n",
    "df_2018['year'] = '2018'\n",
    "df_2019['year'] = '2019'\n",
    "\n",
    "df_2017.columns\n"
   ]
  },
  {
   "cell_type": "code",
   "execution_count": 21,
   "metadata": {},
   "outputs": [],
   "source": [
    "#need to explain how we calculated the avg dystopia \n",
    "\n",
    "df_2018[\"dystopia\"] = 2.092716638021185\n",
    "df_2019[\"dystopia\"] = 2.092716638021185\n"
   ]
  },
  {
   "cell_type": "code",
   "execution_count": 22,
   "metadata": {},
   "outputs": [
    {
     "data": {
      "text/html": [
       "<div>\n",
       "<style scoped>\n",
       "    .dataframe tbody tr th:only-of-type {\n",
       "        vertical-align: middle;\n",
       "    }\n",
       "\n",
       "    .dataframe tbody tr th {\n",
       "        vertical-align: top;\n",
       "    }\n",
       "\n",
       "    .dataframe thead th {\n",
       "        text-align: right;\n",
       "    }\n",
       "</style>\n",
       "<table border=\"1\" class=\"dataframe\">\n",
       "  <thead>\n",
       "    <tr style=\"text-align: right;\">\n",
       "      <th></th>\n",
       "      <th>country</th>\n",
       "      <th>rank</th>\n",
       "      <th>score</th>\n",
       "      <th>gdp</th>\n",
       "      <th>family</th>\n",
       "      <th>health</th>\n",
       "      <th>freedom</th>\n",
       "      <th>corruption</th>\n",
       "      <th>generosity</th>\n",
       "      <th>dystopia</th>\n",
       "      <th>year</th>\n",
       "    </tr>\n",
       "  </thead>\n",
       "  <tbody>\n",
       "    <tr>\n",
       "      <th>390</th>\n",
       "      <td>Jamaica</td>\n",
       "      <td>76</td>\n",
       "      <td>5.311</td>\n",
       "      <td>0.925579</td>\n",
       "      <td>1.368218</td>\n",
       "      <td>0.641022</td>\n",
       "      <td>0.474307</td>\n",
       "      <td>0.055268</td>\n",
       "      <td>0.233818</td>\n",
       "      <td>1.612326</td>\n",
       "      <td>2017</td>\n",
       "    </tr>\n",
       "    <tr>\n",
       "      <th>295</th>\n",
       "      <td>Comoros</td>\n",
       "      <td>138</td>\n",
       "      <td>3.956</td>\n",
       "      <td>0.275090</td>\n",
       "      <td>0.603230</td>\n",
       "      <td>0.299810</td>\n",
       "      <td>0.154120</td>\n",
       "      <td>0.184370</td>\n",
       "      <td>0.182700</td>\n",
       "      <td>2.256320</td>\n",
       "      <td>2016</td>\n",
       "    </tr>\n",
       "    <tr>\n",
       "      <th>543</th>\n",
       "      <td>Turkey</td>\n",
       "      <td>74</td>\n",
       "      <td>5.483</td>\n",
       "      <td>1.148000</td>\n",
       "      <td>1.380000</td>\n",
       "      <td>0.686000</td>\n",
       "      <td>0.324000</td>\n",
       "      <td>0.109000</td>\n",
       "      <td>0.106000</td>\n",
       "      <td>2.092717</td>\n",
       "      <td>2018</td>\n",
       "    </tr>\n",
       "    <tr>\n",
       "      <th>536</th>\n",
       "      <td>Moldova</td>\n",
       "      <td>67</td>\n",
       "      <td>5.640</td>\n",
       "      <td>0.657000</td>\n",
       "      <td>1.301000</td>\n",
       "      <td>0.620000</td>\n",
       "      <td>0.232000</td>\n",
       "      <td>0.000000</td>\n",
       "      <td>0.171000</td>\n",
       "      <td>2.092717</td>\n",
       "      <td>2018</td>\n",
       "    </tr>\n",
       "    <tr>\n",
       "      <th>310</th>\n",
       "      <td>Benin</td>\n",
       "      <td>153</td>\n",
       "      <td>3.484</td>\n",
       "      <td>0.394990</td>\n",
       "      <td>0.104190</td>\n",
       "      <td>0.210280</td>\n",
       "      <td>0.397470</td>\n",
       "      <td>0.066810</td>\n",
       "      <td>0.201800</td>\n",
       "      <td>2.108120</td>\n",
       "      <td>2016</td>\n",
       "    </tr>\n",
       "  </tbody>\n",
       "</table>\n",
       "</div>"
      ],
      "text/plain": [
       "     country  rank  score       gdp    family    health   freedom  corruption  \\\n",
       "390  Jamaica    76  5.311  0.925579  1.368218  0.641022  0.474307    0.055268   \n",
       "295  Comoros   138  3.956  0.275090  0.603230  0.299810  0.154120    0.184370   \n",
       "543   Turkey    74  5.483  1.148000  1.380000  0.686000  0.324000    0.109000   \n",
       "536  Moldova    67  5.640  0.657000  1.301000  0.620000  0.232000    0.000000   \n",
       "310    Benin   153  3.484  0.394990  0.104190  0.210280  0.397470    0.066810   \n",
       "\n",
       "     generosity  dystopia  year  \n",
       "390    0.233818  1.612326  2017  \n",
       "295    0.182700  2.256320  2016  \n",
       "543    0.106000  2.092717  2018  \n",
       "536    0.171000  2.092717  2018  \n",
       "310    0.201800  2.108120  2016  "
      ]
     },
     "execution_count": 22,
     "metadata": {},
     "output_type": "execute_result"
    }
   ],
   "source": [
    "main_data = pd.concat([df_2015, df_2016, df_2017, df_2018, df_2019]).reset_index(drop=True)\n",
    "main_data.shape\n",
    "main_data.sample(5)"
   ]
  },
  {
   "cell_type": "code",
   "execution_count": 23,
   "metadata": {},
   "outputs": [
    {
     "data": {
      "text/plain": [
       "country       0\n",
       "rank          0\n",
       "score         0\n",
       "gdp           0\n",
       "family        0\n",
       "health        0\n",
       "freedom       0\n",
       "corruption    1\n",
       "generosity    0\n",
       "dystopia      0\n",
       "year          0\n",
       "dtype: int64"
      ]
     },
     "execution_count": 23,
     "metadata": {},
     "output_type": "execute_result"
    }
   ],
   "source": [
    "main_data.country = main_data.country.str.lower().str.replace(\" \", \"_\")\n",
    "\n",
    "main_data.isna().sum()"
   ]
  },
  {
   "cell_type": "code",
   "execution_count": 24,
   "metadata": {},
   "outputs": [
    {
     "data": {
      "text/html": [
       "<div>\n",
       "<style scoped>\n",
       "    .dataframe tbody tr th:only-of-type {\n",
       "        vertical-align: middle;\n",
       "    }\n",
       "\n",
       "    .dataframe tbody tr th {\n",
       "        vertical-align: top;\n",
       "    }\n",
       "\n",
       "    .dataframe thead th {\n",
       "        text-align: right;\n",
       "    }\n",
       "</style>\n",
       "<table border=\"1\" class=\"dataframe\">\n",
       "  <thead>\n",
       "    <tr style=\"text-align: right;\">\n",
       "      <th></th>\n",
       "      <th>country</th>\n",
       "      <th>rank</th>\n",
       "      <th>score</th>\n",
       "      <th>gdp</th>\n",
       "      <th>family</th>\n",
       "      <th>health</th>\n",
       "      <th>freedom</th>\n",
       "      <th>corruption</th>\n",
       "      <th>generosity</th>\n",
       "      <th>dystopia</th>\n",
       "      <th>year</th>\n",
       "    </tr>\n",
       "  </thead>\n",
       "  <tbody>\n",
       "    <tr>\n",
       "      <th>489</th>\n",
       "      <td>united_arab_emirates</td>\n",
       "      <td>20</td>\n",
       "      <td>6.774</td>\n",
       "      <td>2.096</td>\n",
       "      <td>0.776</td>\n",
       "      <td>0.67</td>\n",
       "      <td>0.284</td>\n",
       "      <td>NaN</td>\n",
       "      <td>0.186</td>\n",
       "      <td>2.092717</td>\n",
       "      <td>2018</td>\n",
       "    </tr>\n",
       "  </tbody>\n",
       "</table>\n",
       "</div>"
      ],
      "text/plain": [
       "                  country  rank  score    gdp  family  health  freedom  \\\n",
       "489  united_arab_emirates    20  6.774  2.096   0.776    0.67    0.284   \n",
       "\n",
       "     corruption  generosity  dystopia  year  \n",
       "489         NaN       0.186  2.092717  2018  "
      ]
     },
     "execution_count": 24,
     "metadata": {},
     "output_type": "execute_result"
    }
   ],
   "source": [
    "main_data[main_data.isna().values]"
   ]
  },
  {
   "cell_type": "code",
   "execution_count": 25,
   "metadata": {},
   "outputs": [
    {
     "data": {
      "text/html": [
       "<div>\n",
       "<style scoped>\n",
       "    .dataframe tbody tr th:only-of-type {\n",
       "        vertical-align: middle;\n",
       "    }\n",
       "\n",
       "    .dataframe tbody tr th {\n",
       "        vertical-align: top;\n",
       "    }\n",
       "\n",
       "    .dataframe thead th {\n",
       "        text-align: right;\n",
       "    }\n",
       "</style>\n",
       "<table border=\"1\" class=\"dataframe\">\n",
       "  <thead>\n",
       "    <tr style=\"text-align: right;\">\n",
       "      <th></th>\n",
       "      <th>country</th>\n",
       "      <th>rank</th>\n",
       "      <th>score</th>\n",
       "      <th>gdp</th>\n",
       "      <th>family</th>\n",
       "      <th>health</th>\n",
       "      <th>freedom</th>\n",
       "      <th>corruption</th>\n",
       "      <th>generosity</th>\n",
       "      <th>dystopia</th>\n",
       "      <th>year</th>\n",
       "    </tr>\n",
       "  </thead>\n",
       "  <tbody>\n",
       "    <tr>\n",
       "      <th>19</th>\n",
       "      <td>united_arab_emirates</td>\n",
       "      <td>20</td>\n",
       "      <td>6.901</td>\n",
       "      <td>1.427270</td>\n",
       "      <td>1.12575</td>\n",
       "      <td>0.809250</td>\n",
       "      <td>0.641570</td>\n",
       "      <td>0.38583</td>\n",
       "      <td>0.264280</td>\n",
       "      <td>2.247430</td>\n",
       "      <td>2015</td>\n",
       "    </tr>\n",
       "    <tr>\n",
       "      <th>185</th>\n",
       "      <td>united_arab_emirates</td>\n",
       "      <td>28</td>\n",
       "      <td>6.573</td>\n",
       "      <td>1.573520</td>\n",
       "      <td>0.87114</td>\n",
       "      <td>0.729930</td>\n",
       "      <td>0.562150</td>\n",
       "      <td>0.35561</td>\n",
       "      <td>0.265910</td>\n",
       "      <td>2.215070</td>\n",
       "      <td>2016</td>\n",
       "    </tr>\n",
       "    <tr>\n",
       "      <th>335</th>\n",
       "      <td>united_arab_emirates</td>\n",
       "      <td>21</td>\n",
       "      <td>6.648</td>\n",
       "      <td>1.626343</td>\n",
       "      <td>1.26641</td>\n",
       "      <td>0.726798</td>\n",
       "      <td>0.608345</td>\n",
       "      <td>0.32449</td>\n",
       "      <td>0.360942</td>\n",
       "      <td>1.734704</td>\n",
       "      <td>2017</td>\n",
       "    </tr>\n",
       "    <tr>\n",
       "      <th>489</th>\n",
       "      <td>united_arab_emirates</td>\n",
       "      <td>20</td>\n",
       "      <td>6.774</td>\n",
       "      <td>2.096000</td>\n",
       "      <td>0.77600</td>\n",
       "      <td>0.670000</td>\n",
       "      <td>0.284000</td>\n",
       "      <td>NaN</td>\n",
       "      <td>0.186000</td>\n",
       "      <td>2.092717</td>\n",
       "      <td>2018</td>\n",
       "    </tr>\n",
       "    <tr>\n",
       "      <th>646</th>\n",
       "      <td>united_arab_emirates</td>\n",
       "      <td>21</td>\n",
       "      <td>6.825</td>\n",
       "      <td>1.503000</td>\n",
       "      <td>1.31000</td>\n",
       "      <td>0.825000</td>\n",
       "      <td>0.598000</td>\n",
       "      <td>0.18200</td>\n",
       "      <td>0.262000</td>\n",
       "      <td>2.092717</td>\n",
       "      <td>2019</td>\n",
       "    </tr>\n",
       "  </tbody>\n",
       "</table>\n",
       "</div>"
      ],
      "text/plain": [
       "                  country  rank  score       gdp   family    health   freedom  \\\n",
       "19   united_arab_emirates    20  6.901  1.427270  1.12575  0.809250  0.641570   \n",
       "185  united_arab_emirates    28  6.573  1.573520  0.87114  0.729930  0.562150   \n",
       "335  united_arab_emirates    21  6.648  1.626343  1.26641  0.726798  0.608345   \n",
       "489  united_arab_emirates    20  6.774  2.096000  0.77600  0.670000  0.284000   \n",
       "646  united_arab_emirates    21  6.825  1.503000  1.31000  0.825000  0.598000   \n",
       "\n",
       "     corruption  generosity  dystopia  year  \n",
       "19      0.38583    0.264280  2.247430  2015  \n",
       "185     0.35561    0.265910  2.215070  2016  \n",
       "335     0.32449    0.360942  1.734704  2017  \n",
       "489         NaN    0.186000  2.092717  2018  \n",
       "646     0.18200    0.262000  2.092717  2019  "
      ]
     },
     "execution_count": 25,
     "metadata": {},
     "output_type": "execute_result"
    }
   ],
   "source": [
    "main_data.loc[main_data.country == \"united_arab_emirates\"]"
   ]
  },
  {
   "cell_type": "code",
   "execution_count": 26,
   "metadata": {},
   "outputs": [],
   "source": [
    "avg_corruption = main_data.loc[main_data.country == \"united_arab_emirates\", \"corruption\"].mean()\n",
    "main_data.corruption.fillna(avg_corruption, inplace=True)\n"
   ]
  },
  {
   "cell_type": "code",
   "execution_count": 27,
   "metadata": {},
   "outputs": [
    {
     "data": {
      "text/plain": [
       "False"
      ]
     },
     "execution_count": 27,
     "metadata": {},
     "output_type": "execute_result"
    }
   ],
   "source": [
    "main_data.isna().sum().any()"
   ]
  },
  {
   "cell_type": "code",
   "execution_count": 29,
   "metadata": {},
   "outputs": [
    {
     "data": {
      "text/html": [
       "<div>\n",
       "<style scoped>\n",
       "    .dataframe tbody tr th:only-of-type {\n",
       "        vertical-align: middle;\n",
       "    }\n",
       "\n",
       "    .dataframe tbody tr th {\n",
       "        vertical-align: top;\n",
       "    }\n",
       "\n",
       "    .dataframe thead th {\n",
       "        text-align: right;\n",
       "    }\n",
       "</style>\n",
       "<table border=\"1\" class=\"dataframe\">\n",
       "  <thead>\n",
       "    <tr style=\"text-align: right;\">\n",
       "      <th></th>\n",
       "      <th>country</th>\n",
       "      <th>rank</th>\n",
       "      <th>score</th>\n",
       "      <th>gdp</th>\n",
       "      <th>family</th>\n",
       "      <th>health</th>\n",
       "      <th>freedom</th>\n",
       "      <th>corruption</th>\n",
       "      <th>generosity</th>\n",
       "      <th>dystopia</th>\n",
       "      <th>year</th>\n",
       "    </tr>\n",
       "  </thead>\n",
       "  <tbody>\n",
       "    <tr>\n",
       "      <th>672</th>\n",
       "      <td>argentina</td>\n",
       "      <td>47</td>\n",
       "      <td>6.086</td>\n",
       "      <td>1.092000</td>\n",
       "      <td>1.432000</td>\n",
       "      <td>0.881000</td>\n",
       "      <td>0.471000</td>\n",
       "      <td>0.050000</td>\n",
       "      <td>0.066000</td>\n",
       "      <td>2.092717</td>\n",
       "      <td>2019</td>\n",
       "    </tr>\n",
       "    <tr>\n",
       "      <th>290</th>\n",
       "      <td>sudan</td>\n",
       "      <td>133</td>\n",
       "      <td>4.139</td>\n",
       "      <td>0.630690</td>\n",
       "      <td>0.819280</td>\n",
       "      <td>0.297590</td>\n",
       "      <td>0.000000</td>\n",
       "      <td>0.100390</td>\n",
       "      <td>0.180770</td>\n",
       "      <td>2.109950</td>\n",
       "      <td>2016</td>\n",
       "    </tr>\n",
       "    <tr>\n",
       "      <th>721</th>\n",
       "      <td>cameroon</td>\n",
       "      <td>96</td>\n",
       "      <td>5.044</td>\n",
       "      <td>0.549000</td>\n",
       "      <td>0.910000</td>\n",
       "      <td>0.331000</td>\n",
       "      <td>0.381000</td>\n",
       "      <td>0.037000</td>\n",
       "      <td>0.187000</td>\n",
       "      <td>2.092717</td>\n",
       "      <td>2019</td>\n",
       "    </tr>\n",
       "    <tr>\n",
       "      <th>100</th>\n",
       "      <td>swaziland</td>\n",
       "      <td>101</td>\n",
       "      <td>4.867</td>\n",
       "      <td>0.712060</td>\n",
       "      <td>1.072840</td>\n",
       "      <td>0.075660</td>\n",
       "      <td>0.306580</td>\n",
       "      <td>0.030600</td>\n",
       "      <td>0.182590</td>\n",
       "      <td>2.486760</td>\n",
       "      <td>2015</td>\n",
       "    </tr>\n",
       "    <tr>\n",
       "      <th>420</th>\n",
       "      <td>sierra_leone</td>\n",
       "      <td>106</td>\n",
       "      <td>4.709</td>\n",
       "      <td>0.368421</td>\n",
       "      <td>0.984136</td>\n",
       "      <td>0.005565</td>\n",
       "      <td>0.318698</td>\n",
       "      <td>0.071095</td>\n",
       "      <td>0.293041</td>\n",
       "      <td>2.668460</td>\n",
       "      <td>2017</td>\n",
       "    </tr>\n",
       "  </tbody>\n",
       "</table>\n",
       "</div>"
      ],
      "text/plain": [
       "          country  rank  score       gdp    family    health   freedom  \\\n",
       "672     argentina    47  6.086  1.092000  1.432000  0.881000  0.471000   \n",
       "290         sudan   133  4.139  0.630690  0.819280  0.297590  0.000000   \n",
       "721      cameroon    96  5.044  0.549000  0.910000  0.331000  0.381000   \n",
       "100     swaziland   101  4.867  0.712060  1.072840  0.075660  0.306580   \n",
       "420  sierra_leone   106  4.709  0.368421  0.984136  0.005565  0.318698   \n",
       "\n",
       "     corruption  generosity  dystopia  year  \n",
       "672    0.050000    0.066000  2.092717  2019  \n",
       "290    0.100390    0.180770  2.109950  2016  \n",
       "721    0.037000    0.187000  2.092717  2019  \n",
       "100    0.030600    0.182590  2.486760  2015  \n",
       "420    0.071095    0.293041  2.668460  2017  "
      ]
     },
     "execution_count": 29,
     "metadata": {},
     "output_type": "execute_result"
    }
   ],
   "source": [
    "main_data.sample(5)"
   ]
  },
  {
   "cell_type": "code",
   "execution_count": null,
   "metadata": {},
   "outputs": [],
   "source": []
  },
  {
   "cell_type": "code",
   "execution_count": null,
   "metadata": {},
   "outputs": [],
   "source": []
  },
  {
   "cell_type": "code",
   "execution_count": null,
   "metadata": {},
   "outputs": [],
   "source": []
  },
  {
   "cell_type": "code",
   "execution_count": null,
   "metadata": {},
   "outputs": [],
   "source": []
  }
 ],
 "metadata": {
  "kernelspec": {
   "display_name": "Python [conda env:PythonData] *",
   "language": "python",
   "name": "conda-env-PythonData-py"
  },
  "language_info": {
   "codemirror_mode": {
    "name": "ipython",
    "version": 3
   },
   "file_extension": ".py",
   "mimetype": "text/x-python",
   "name": "python",
   "nbconvert_exporter": "python",
   "pygments_lexer": "ipython3",
   "version": "3.6.10"
  }
 },
 "nbformat": 4,
 "nbformat_minor": 4
}
