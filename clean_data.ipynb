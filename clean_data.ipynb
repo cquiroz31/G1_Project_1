{
 "cells": [
  {
   "cell_type": "code",
   "execution_count": 37,
   "metadata": {},
   "outputs": [],
   "source": [
    "import matplotlib.pyplot as plt\n",
    "import pandas as pd\n",
    "import numpy as np\n",
    "from scipy.stats import linregress\n",
    "import seaborn as sn\n",
    "from collections import Counter \n",
    "from sklearn.linear_model import LinearRegression\n",
    "import scipy.stats as st\n",
    "\n",
    "import pylab\n",
    "\n",
    "import statsmodels.api as sm\n"
   ]
  },
  {
   "cell_type": "code",
   "execution_count": 2,
   "metadata": {},
   "outputs": [],
   "source": [
    "#These are the 5 sets of raw data that we have.\n",
    "\n",
    "file = \"csv_data/2015.csv\"\n",
    "file1 = \"csv_data/2016.csv\"\n",
    "file2 = \"csv_data/2017.csv\"\n",
    "file3 = \"csv_data/2018.csv\"\n",
    "file4 = \"csv_data/2019.csv\""
   ]
  },
  {
   "cell_type": "code",
   "execution_count": 3,
   "metadata": {},
   "outputs": [],
   "source": [
    "# Dataframes by year.\n",
    "\n",
    "df_2015 = pd.read_csv(file)\n",
    "df_2016 = pd.read_csv(file1)\n",
    "df_2017 = pd.read_csv(file2)\n",
    "df_2018 = pd.read_csv(file3)\n",
    "df_2019 = pd.read_csv(file4)"
   ]
  },
  {
   "cell_type": "code",
   "execution_count": 4,
   "metadata": {},
   "outputs": [
    {
     "name": "stdout",
     "output_type": "stream",
     "text": [
      "2015:  (158, 12)\n",
      "2016:  (157, 13)\n",
      "2017:  (155, 12)\n",
      "2018:  (156, 9)\n",
      "2019:  (156, 9)\n"
     ]
    }
   ],
   "source": [
    "# Here we started the process of checking what our csvs looked like.\n",
    "#We were interested in the # of rows and columns in each csv file. \n",
    "\n",
    "print(\"2015: \", df_2015.shape)\n",
    "print(\"2016: \", df_2016.shape)\n",
    "print(\"2017: \", df_2017.shape)\n",
    "print(\"2018: \", df_2018.shape)\n",
    "print(\"2019: \", df_2019.shape)"
   ]
  },
  {
   "cell_type": "code",
   "execution_count": 5,
   "metadata": {},
   "outputs": [
    {
     "data": {
      "text/plain": [
       "Country                          0\n",
       "Region                           0\n",
       "Happiness Rank                   0\n",
       "Happiness Score                  0\n",
       "Standard Error                   0\n",
       "Economy (GDP per Capita)         0\n",
       "Family                           0\n",
       "Health (Life Expectancy)         0\n",
       "Freedom                          0\n",
       "Trust (Government Corruption)    0\n",
       "Generosity                       0\n",
       "Dystopia Residual                0\n",
       "dtype: int64"
      ]
     },
     "execution_count": 5,
     "metadata": {},
     "output_type": "execute_result"
    }
   ],
   "source": [
    "# Next, we checked for any empty values in each individual year. Here we can see that 2015 did not have any empty values. \n",
    "df_2015.isna().sum()"
   ]
  },
  {
   "cell_type": "code",
   "execution_count": 6,
   "metadata": {},
   "outputs": [
    {
     "data": {
      "text/plain": [
       "Index(['country', 'region', 'rank', 'score', 'standard error', 'gdp', 'family',\n",
       "       'health', 'freedom', 'corruption', 'generosity', 'dystopia'],\n",
       "      dtype='object')"
      ]
     },
     "execution_count": 6,
     "metadata": {},
     "output_type": "execute_result"
    }
   ],
   "source": [
    "# After looking at the components of each year, we noticed the column names varied, so we decided to rename and drop columns\n",
    "# so that all the years matched. \n",
    "df_2015.rename(columns={'Happiness Rank':'rank', 'Happiness Score':'score', 'Economy (GDP per Capita)': 'gdp',\n",
    "                      'Health (Life Expectancy)': 'health', 'Trust (Government Corruption)': 'corruption',\n",
    "                      \"Dystopia Residual\": \"dystopia\"},\n",
    "                        inplace = True)\n",
    "df_2015.columns = df_2015.columns.str.lower()\n",
    "df_2015.columns"
   ]
  },
  {
   "cell_type": "code",
   "execution_count": 7,
   "metadata": {},
   "outputs": [
    {
     "data": {
      "text/html": [
       "<div>\n",
       "<style scoped>\n",
       "    .dataframe tbody tr th:only-of-type {\n",
       "        vertical-align: middle;\n",
       "    }\n",
       "\n",
       "    .dataframe tbody tr th {\n",
       "        vertical-align: top;\n",
       "    }\n",
       "\n",
       "    .dataframe thead th {\n",
       "        text-align: right;\n",
       "    }\n",
       "</style>\n",
       "<table border=\"1\" class=\"dataframe\">\n",
       "  <thead>\n",
       "    <tr style=\"text-align: right;\">\n",
       "      <th></th>\n",
       "      <th>country</th>\n",
       "      <th>rank</th>\n",
       "      <th>score</th>\n",
       "      <th>gdp</th>\n",
       "      <th>family</th>\n",
       "      <th>health</th>\n",
       "      <th>freedom</th>\n",
       "      <th>corruption</th>\n",
       "      <th>generosity</th>\n",
       "      <th>dystopia</th>\n",
       "    </tr>\n",
       "  </thead>\n",
       "  <tbody>\n",
       "    <tr>\n",
       "      <th>70</th>\n",
       "      <td>Mauritius</td>\n",
       "      <td>71</td>\n",
       "      <td>5.477</td>\n",
       "      <td>1.00761</td>\n",
       "      <td>0.98521</td>\n",
       "      <td>0.70950</td>\n",
       "      <td>0.56066</td>\n",
       "      <td>0.07521</td>\n",
       "      <td>0.37744</td>\n",
       "      <td>1.76145</td>\n",
       "    </tr>\n",
       "    <tr>\n",
       "      <th>76</th>\n",
       "      <td>Kyrgyzstan</td>\n",
       "      <td>77</td>\n",
       "      <td>5.286</td>\n",
       "      <td>0.47428</td>\n",
       "      <td>1.15115</td>\n",
       "      <td>0.65088</td>\n",
       "      <td>0.43477</td>\n",
       "      <td>0.04232</td>\n",
       "      <td>0.30030</td>\n",
       "      <td>2.23270</td>\n",
       "    </tr>\n",
       "    <tr>\n",
       "      <th>32</th>\n",
       "      <td>Colombia</td>\n",
       "      <td>33</td>\n",
       "      <td>6.477</td>\n",
       "      <td>0.91861</td>\n",
       "      <td>1.24018</td>\n",
       "      <td>0.69077</td>\n",
       "      <td>0.53466</td>\n",
       "      <td>0.05120</td>\n",
       "      <td>0.18401</td>\n",
       "      <td>2.85737</td>\n",
       "    </tr>\n",
       "    <tr>\n",
       "      <th>19</th>\n",
       "      <td>United Arab Emirates</td>\n",
       "      <td>20</td>\n",
       "      <td>6.901</td>\n",
       "      <td>1.42727</td>\n",
       "      <td>1.12575</td>\n",
       "      <td>0.80925</td>\n",
       "      <td>0.64157</td>\n",
       "      <td>0.38583</td>\n",
       "      <td>0.26428</td>\n",
       "      <td>2.24743</td>\n",
       "    </tr>\n",
       "    <tr>\n",
       "      <th>24</th>\n",
       "      <td>Panama</td>\n",
       "      <td>25</td>\n",
       "      <td>6.786</td>\n",
       "      <td>1.06353</td>\n",
       "      <td>1.19850</td>\n",
       "      <td>0.79661</td>\n",
       "      <td>0.54210</td>\n",
       "      <td>0.09270</td>\n",
       "      <td>0.24434</td>\n",
       "      <td>2.84848</td>\n",
       "    </tr>\n",
       "  </tbody>\n",
       "</table>\n",
       "</div>"
      ],
      "text/plain": [
       "                 country  rank  score      gdp   family   health  freedom  \\\n",
       "70             Mauritius    71  5.477  1.00761  0.98521  0.70950  0.56066   \n",
       "76            Kyrgyzstan    77  5.286  0.47428  1.15115  0.65088  0.43477   \n",
       "32              Colombia    33  6.477  0.91861  1.24018  0.69077  0.53466   \n",
       "19  United Arab Emirates    20  6.901  1.42727  1.12575  0.80925  0.64157   \n",
       "24                Panama    25  6.786  1.06353  1.19850  0.79661  0.54210   \n",
       "\n",
       "    corruption  generosity  dystopia  \n",
       "70     0.07521     0.37744   1.76145  \n",
       "76     0.04232     0.30030   2.23270  \n",
       "32     0.05120     0.18401   2.85737  \n",
       "19     0.38583     0.26428   2.24743  \n",
       "24     0.09270     0.24434   2.84848  "
      ]
     },
     "execution_count": 7,
     "metadata": {},
     "output_type": "execute_result"
    }
   ],
   "source": [
    "df_2015.drop(columns = ['region', 'standard error'], inplace = True)\n",
    "df_2015.sample(5)"
   ]
  },
  {
   "cell_type": "code",
   "execution_count": 8,
   "metadata": {},
   "outputs": [
    {
     "data": {
      "text/plain": [
       "Country                          0\n",
       "Region                           0\n",
       "Happiness Rank                   0\n",
       "Happiness Score                  0\n",
       "Lower Confidence Interval        0\n",
       "Upper Confidence Interval        0\n",
       "Economy (GDP per Capita)         0\n",
       "Family                           0\n",
       "Health (Life Expectancy)         0\n",
       "Freedom                          0\n",
       "Trust (Government Corruption)    0\n",
       "Generosity                       0\n",
       "Dystopia Residual                0\n",
       "dtype: int64"
      ]
     },
     "execution_count": 8,
     "metadata": {},
     "output_type": "execute_result"
    }
   ],
   "source": [
    "df_2016.isna().sum()"
   ]
  },
  {
   "cell_type": "code",
   "execution_count": 9,
   "metadata": {},
   "outputs": [
    {
     "data": {
      "text/plain": [
       "Index(['country', 'region', 'rank', 'score', 'lower confidence interval',\n",
       "       'upper confidence interval', 'gdp', 'family', 'health', 'freedom',\n",
       "       'corruption', 'generosity', 'dystopia'],\n",
       "      dtype='object')"
      ]
     },
     "execution_count": 9,
     "metadata": {},
     "output_type": "execute_result"
    }
   ],
   "source": [
    "df_2016.columns = df_2016.columns.str.lower()\n",
    "df_2016.rename(columns={'happiness rank':'rank', 'happiness score':'score', 'economy (gdp per capita)': 'gdp',\n",
    "                      'health (life expectancy)':'health', 'trust (government corruption)': 'corruption',\n",
    "                      \"dystopia residual\": \"dystopia\"},\n",
    "                       inplace = True)\n",
    "df_2016.columns"
   ]
  },
  {
   "cell_type": "code",
   "execution_count": 10,
   "metadata": {},
   "outputs": [
    {
     "data": {
      "text/html": [
       "<div>\n",
       "<style scoped>\n",
       "    .dataframe tbody tr th:only-of-type {\n",
       "        vertical-align: middle;\n",
       "    }\n",
       "\n",
       "    .dataframe tbody tr th {\n",
       "        vertical-align: top;\n",
       "    }\n",
       "\n",
       "    .dataframe thead th {\n",
       "        text-align: right;\n",
       "    }\n",
       "</style>\n",
       "<table border=\"1\" class=\"dataframe\">\n",
       "  <thead>\n",
       "    <tr style=\"text-align: right;\">\n",
       "      <th></th>\n",
       "      <th>country</th>\n",
       "      <th>rank</th>\n",
       "      <th>score</th>\n",
       "      <th>gdp</th>\n",
       "      <th>family</th>\n",
       "      <th>health</th>\n",
       "      <th>freedom</th>\n",
       "      <th>corruption</th>\n",
       "      <th>generosity</th>\n",
       "      <th>dystopia</th>\n",
       "    </tr>\n",
       "  </thead>\n",
       "  <tbody>\n",
       "    <tr>\n",
       "      <th>151</th>\n",
       "      <td>Rwanda</td>\n",
       "      <td>152</td>\n",
       "      <td>3.515</td>\n",
       "      <td>0.32846</td>\n",
       "      <td>0.61586</td>\n",
       "      <td>0.31865</td>\n",
       "      <td>0.54320</td>\n",
       "      <td>0.50521</td>\n",
       "      <td>0.23552</td>\n",
       "      <td>0.96819</td>\n",
       "    </tr>\n",
       "    <tr>\n",
       "      <th>36</th>\n",
       "      <td>Spain</td>\n",
       "      <td>37</td>\n",
       "      <td>6.361</td>\n",
       "      <td>1.34253</td>\n",
       "      <td>1.12945</td>\n",
       "      <td>0.87896</td>\n",
       "      <td>0.37545</td>\n",
       "      <td>0.06137</td>\n",
       "      <td>0.17665</td>\n",
       "      <td>2.39663</td>\n",
       "    </tr>\n",
       "    <tr>\n",
       "      <th>102</th>\n",
       "      <td>Nigeria</td>\n",
       "      <td>103</td>\n",
       "      <td>4.875</td>\n",
       "      <td>0.75216</td>\n",
       "      <td>0.64498</td>\n",
       "      <td>0.05108</td>\n",
       "      <td>0.27854</td>\n",
       "      <td>0.03050</td>\n",
       "      <td>0.23219</td>\n",
       "      <td>2.88586</td>\n",
       "    </tr>\n",
       "    <tr>\n",
       "      <th>148</th>\n",
       "      <td>Tanzania</td>\n",
       "      <td>149</td>\n",
       "      <td>3.666</td>\n",
       "      <td>0.47155</td>\n",
       "      <td>0.77623</td>\n",
       "      <td>0.35700</td>\n",
       "      <td>0.31760</td>\n",
       "      <td>0.05099</td>\n",
       "      <td>0.31472</td>\n",
       "      <td>1.37769</td>\n",
       "    </tr>\n",
       "    <tr>\n",
       "      <th>144</th>\n",
       "      <td>Burkina Faso</td>\n",
       "      <td>145</td>\n",
       "      <td>3.739</td>\n",
       "      <td>0.31995</td>\n",
       "      <td>0.63054</td>\n",
       "      <td>0.21297</td>\n",
       "      <td>0.33370</td>\n",
       "      <td>0.12533</td>\n",
       "      <td>0.24353</td>\n",
       "      <td>1.87319</td>\n",
       "    </tr>\n",
       "  </tbody>\n",
       "</table>\n",
       "</div>"
      ],
      "text/plain": [
       "          country  rank  score      gdp   family   health  freedom  \\\n",
       "151        Rwanda   152  3.515  0.32846  0.61586  0.31865  0.54320   \n",
       "36          Spain    37  6.361  1.34253  1.12945  0.87896  0.37545   \n",
       "102       Nigeria   103  4.875  0.75216  0.64498  0.05108  0.27854   \n",
       "148      Tanzania   149  3.666  0.47155  0.77623  0.35700  0.31760   \n",
       "144  Burkina Faso   145  3.739  0.31995  0.63054  0.21297  0.33370   \n",
       "\n",
       "     corruption  generosity  dystopia  \n",
       "151     0.50521     0.23552   0.96819  \n",
       "36      0.06137     0.17665   2.39663  \n",
       "102     0.03050     0.23219   2.88586  \n",
       "148     0.05099     0.31472   1.37769  \n",
       "144     0.12533     0.24353   1.87319  "
      ]
     },
     "execution_count": 10,
     "metadata": {},
     "output_type": "execute_result"
    }
   ],
   "source": [
    "df_2016.drop(columns = ['lower confidence interval','upper confidence interval',\n",
    "                      'region'],\n",
    "           inplace = True)\n",
    "df_2016.sample(5)"
   ]
  },
  {
   "cell_type": "code",
   "execution_count": 11,
   "metadata": {},
   "outputs": [
    {
     "data": {
      "text/plain": [
       "Country                          0\n",
       "Happiness.Rank                   0\n",
       "Happiness.Score                  0\n",
       "Whisker.high                     0\n",
       "Whisker.low                      0\n",
       "Economy..GDP.per.Capita.         0\n",
       "Family                           0\n",
       "Health..Life.Expectancy.         0\n",
       "Freedom                          0\n",
       "Generosity                       0\n",
       "Trust..Government.Corruption.    0\n",
       "Dystopia.Residual                0\n",
       "dtype: int64"
      ]
     },
     "execution_count": 11,
     "metadata": {},
     "output_type": "execute_result"
    }
   ],
   "source": [
    "df_2017.isna().sum()"
   ]
  },
  {
   "cell_type": "code",
   "execution_count": 12,
   "metadata": {},
   "outputs": [
    {
     "data": {
      "text/plain": [
       "Index(['country', 'rank', 'score', 'whiskerhigh', 'whiskerlow', 'gdp',\n",
       "       'family', 'health', 'freedom', 'generosity', 'corruption', 'dystopia'],\n",
       "      dtype='object')"
      ]
     },
     "execution_count": 12,
     "metadata": {},
     "output_type": "execute_result"
    }
   ],
   "source": [
    "# This particular year had column names with periods instead of spaces, so we got rid of the periods\n",
    "# and substituted spaces. \n",
    "\n",
    "df_2017.columns = df_2017.columns.str.replace(\".\", \"\")\n",
    "\n",
    "# let's convert into lower case\n",
    "df_2017.columns = df_2017.columns.str.lower()\n",
    "df_2017.rename(columns = {\"happinessrank\": \"rank\", \"happinessscore\": \"score\", \"healthlifeexpectancy\": \"health\",\n",
    "                        \"economygdppercapita\": \"gdp\", \"trustgovernmentcorruption\": \"corruption\",\n",
    "                        \"dystopiaresidual\": \"dystopia\"}, inplace = True)\n",
    "df_2017.columns"
   ]
  },
  {
   "cell_type": "code",
   "execution_count": 13,
   "metadata": {},
   "outputs": [
    {
     "data": {
      "text/html": [
       "<div>\n",
       "<style scoped>\n",
       "    .dataframe tbody tr th:only-of-type {\n",
       "        vertical-align: middle;\n",
       "    }\n",
       "\n",
       "    .dataframe tbody tr th {\n",
       "        vertical-align: top;\n",
       "    }\n",
       "\n",
       "    .dataframe thead th {\n",
       "        text-align: right;\n",
       "    }\n",
       "</style>\n",
       "<table border=\"1\" class=\"dataframe\">\n",
       "  <thead>\n",
       "    <tr style=\"text-align: right;\">\n",
       "      <th></th>\n",
       "      <th>country</th>\n",
       "      <th>rank</th>\n",
       "      <th>score</th>\n",
       "      <th>gdp</th>\n",
       "      <th>family</th>\n",
       "      <th>health</th>\n",
       "      <th>freedom</th>\n",
       "      <th>generosity</th>\n",
       "      <th>corruption</th>\n",
       "      <th>dystopia</th>\n",
       "    </tr>\n",
       "  </thead>\n",
       "  <tbody>\n",
       "    <tr>\n",
       "      <th>134</th>\n",
       "      <td>Niger</td>\n",
       "      <td>135</td>\n",
       "      <td>4.028</td>\n",
       "      <td>0.161925</td>\n",
       "      <td>0.993025</td>\n",
       "      <td>0.268505</td>\n",
       "      <td>0.363659</td>\n",
       "      <td>0.228674</td>\n",
       "      <td>0.138573</td>\n",
       "      <td>1.873983</td>\n",
       "    </tr>\n",
       "    <tr>\n",
       "      <th>78</th>\n",
       "      <td>China</td>\n",
       "      <td>79</td>\n",
       "      <td>5.273</td>\n",
       "      <td>1.081166</td>\n",
       "      <td>1.160837</td>\n",
       "      <td>0.741416</td>\n",
       "      <td>0.472788</td>\n",
       "      <td>0.028807</td>\n",
       "      <td>0.022794</td>\n",
       "      <td>1.764939</td>\n",
       "    </tr>\n",
       "    <tr>\n",
       "      <th>53</th>\n",
       "      <td>Latvia</td>\n",
       "      <td>54</td>\n",
       "      <td>5.850</td>\n",
       "      <td>1.260749</td>\n",
       "      <td>1.404715</td>\n",
       "      <td>0.638567</td>\n",
       "      <td>0.325708</td>\n",
       "      <td>0.153075</td>\n",
       "      <td>0.073843</td>\n",
       "      <td>1.993655</td>\n",
       "    </tr>\n",
       "    <tr>\n",
       "      <th>136</th>\n",
       "      <td>Chad</td>\n",
       "      <td>137</td>\n",
       "      <td>3.936</td>\n",
       "      <td>0.438013</td>\n",
       "      <td>0.953856</td>\n",
       "      <td>0.041135</td>\n",
       "      <td>0.162342</td>\n",
       "      <td>0.216114</td>\n",
       "      <td>0.053582</td>\n",
       "      <td>2.071238</td>\n",
       "    </tr>\n",
       "    <tr>\n",
       "      <th>31</th>\n",
       "      <td>Thailand</td>\n",
       "      <td>32</td>\n",
       "      <td>6.424</td>\n",
       "      <td>1.127869</td>\n",
       "      <td>1.425792</td>\n",
       "      <td>0.647239</td>\n",
       "      <td>0.580201</td>\n",
       "      <td>0.572123</td>\n",
       "      <td>0.031613</td>\n",
       "      <td>2.039508</td>\n",
       "    </tr>\n",
       "  </tbody>\n",
       "</table>\n",
       "</div>"
      ],
      "text/plain": [
       "      country  rank  score       gdp    family    health   freedom  \\\n",
       "134     Niger   135  4.028  0.161925  0.993025  0.268505  0.363659   \n",
       "78      China    79  5.273  1.081166  1.160837  0.741416  0.472788   \n",
       "53     Latvia    54  5.850  1.260749  1.404715  0.638567  0.325708   \n",
       "136      Chad   137  3.936  0.438013  0.953856  0.041135  0.162342   \n",
       "31   Thailand    32  6.424  1.127869  1.425792  0.647239  0.580201   \n",
       "\n",
       "     generosity  corruption  dystopia  \n",
       "134    0.228674    0.138573  1.873983  \n",
       "78     0.028807    0.022794  1.764939  \n",
       "53     0.153075    0.073843  1.993655  \n",
       "136    0.216114    0.053582  2.071238  \n",
       "31     0.572123    0.031613  2.039508  "
      ]
     },
     "execution_count": 13,
     "metadata": {},
     "output_type": "execute_result"
    }
   ],
   "source": [
    "df_2017.drop(columns = ['whiskerhigh', 'whiskerlow'], inplace = True)\n",
    "df_2017.sample(5)"
   ]
  },
  {
   "cell_type": "code",
   "execution_count": 14,
   "metadata": {},
   "outputs": [
    {
     "data": {
      "text/plain": [
       "Overall rank                    0\n",
       "Country or region               0\n",
       "Score                           0\n",
       "GDP per capita                  0\n",
       "Social support                  0\n",
       "Healthy life expectancy         0\n",
       "Freedom to make life choices    0\n",
       "Generosity                      0\n",
       "Perceptions of corruption       1\n",
       "dtype: int64"
      ]
     },
     "execution_count": 14,
     "metadata": {},
     "output_type": "execute_result"
    }
   ],
   "source": [
    "# Here we found out we have one empty value in the corruptions column. We will\n",
    "# need locate and clean up that empty value.\n",
    "df_2018.isna().sum()"
   ]
  },
  {
   "cell_type": "code",
   "execution_count": 15,
   "metadata": {},
   "outputs": [
    {
     "data": {
      "text/plain": [
       "Index(['rank', 'country', 'score', 'gdp', 'family', 'health', 'freedom',\n",
       "       'generosity', 'corruption'],\n",
       "      dtype='object')"
      ]
     },
     "execution_count": 15,
     "metadata": {},
     "output_type": "execute_result"
    }
   ],
   "source": [
    "df_2018.columns = df_2018.columns.str.lower()\n",
    "df_2018.rename(columns = {\"overall rank\": \"rank\", \"country or region\": \"country\",\n",
    "                         \"freedom to make life choices\": \"freedom\", \"perceptions of corruption\": \"corruption\",\n",
    "                        \"gdp per capita\": \"gdp\", \"healthy life expectancy\": \"health\",\n",
    "                        \"social support\": \"family\"}, inplace=True)\n",
    "df_2018.columns = df_2018.columns.str.replace(\" \", \"_\")\n",
    "df_2018.columns"
   ]
  },
  {
   "cell_type": "code",
   "execution_count": 16,
   "metadata": {},
   "outputs": [
    {
     "data": {
      "text/plain": [
       "Index(['rank', 'country', 'score', 'gdp', 'family', 'health', 'freedom',\n",
       "       'generosity', 'corruption'],\n",
       "      dtype='object')"
      ]
     },
     "execution_count": 16,
     "metadata": {},
     "output_type": "execute_result"
    }
   ],
   "source": [
    "df_2019.columns = df_2019.columns.str.lower()\n",
    "df_2019.rename(columns = {\"overall rank\": \"rank\", \"country or region\": \"country\",\n",
    "                         \"freedom to make life choices\": \"freedom\", \"perceptions of corruption\": \"corruption\",\n",
    "                        \"gdp per capita\": \"gdp\", \"healthy life expectancy\": \"health\",\n",
    "                        \"social support\": \"family\"}, inplace=True)\n",
    "df_2019.columns = df_2019.columns.str.replace(\" \", \"_\")\n",
    "df_2019.columns"
   ]
  },
  {
   "cell_type": "code",
   "execution_count": 17,
   "metadata": {},
   "outputs": [
    {
     "data": {
      "text/plain": [
       "rank          0\n",
       "country       0\n",
       "score         0\n",
       "gdp           0\n",
       "family        0\n",
       "health        0\n",
       "freedom       0\n",
       "generosity    0\n",
       "corruption    0\n",
       "dtype: int64"
      ]
     },
     "execution_count": 17,
     "metadata": {},
     "output_type": "execute_result"
    }
   ],
   "source": [
    "df_2019.isna().sum()"
   ]
  },
  {
   "cell_type": "code",
   "execution_count": 18,
   "metadata": {},
   "outputs": [
    {
     "name": "stdout",
     "output_type": "stream",
     "text": [
      "2015:\n",
      " ['country', 'rank', 'score', 'gdp', 'family', 'health', 'freedom', 'corruption', 'generosity', 'dystopia']\n",
      "\n",
      "2016:\n",
      " ['country', 'rank', 'score', 'gdp', 'family', 'health', 'freedom', 'corruption', 'generosity', 'dystopia']\n",
      "\n",
      "2017:\n",
      " ['country', 'rank', 'score', 'gdp', 'family', 'health', 'freedom', 'generosity', 'corruption', 'dystopia']\n",
      "\n",
      "2018:\n",
      " ['rank', 'country', 'score', 'gdp', 'family', 'health', 'freedom', 'generosity', 'corruption']\n",
      "\n",
      "2019:\n",
      " ['rank', 'country', 'score', 'gdp', 'family', 'health', 'freedom', 'generosity', 'corruption']\n"
     ]
    }
   ],
   "source": [
    "# We printed out all the columns to compare them and make sure they are \n",
    "# named the same.\n",
    "\n",
    "def print_all_dataframe_columns():\n",
    "    print(\"2015:\\n\", df_2015.columns.to_list())\n",
    "    print(\"\\n2016:\\n\", df_2016.columns.to_list())\n",
    "    print(\"\\n2017:\\n\", df_2017.columns.to_list())\n",
    "    print(\"\\n2018:\\n\", df_2018.columns.to_list())\n",
    "    print(\"\\n2019:\\n\", df_2019.columns.to_list())\n",
    "    \n",
    "print_all_dataframe_columns()"
   ]
  },
  {
   "cell_type": "code",
   "execution_count": 19,
   "metadata": {
    "scrolled": false
   },
   "outputs": [
    {
     "data": {
      "text/plain": [
       "Index(['country', 'rank', 'score', 'gdp', 'family', 'health', 'freedom',\n",
       "       'generosity', 'corruption', 'dystopia', 'year'],\n",
       "      dtype='object')"
      ]
     },
     "execution_count": 19,
     "metadata": {},
     "output_type": "execute_result"
    }
   ],
   "source": [
    "# Our goal is to stack all of the csv files, but we still want to distinguish\n",
    "# which year each row of info came from, so we are adding a column with each year.\n",
    "\n",
    "df_2015['year'] = '2015'\n",
    "df_2016['year'] = '2016'\n",
    "df_2017['year'] = '2017'\n",
    "df_2018['year'] = '2018'\n",
    "df_2019['year'] = '2019'\n",
    "\n",
    "df_2017.columns\n"
   ]
  },
  {
   "cell_type": "code",
   "execution_count": 23,
   "metadata": {},
   "outputs": [
    {
     "data": {
      "text/html": [
       "<div>\n",
       "<style scoped>\n",
       "    .dataframe tbody tr th:only-of-type {\n",
       "        vertical-align: middle;\n",
       "    }\n",
       "\n",
       "    .dataframe tbody tr th {\n",
       "        vertical-align: top;\n",
       "    }\n",
       "\n",
       "    .dataframe thead th {\n",
       "        text-align: right;\n",
       "    }\n",
       "</style>\n",
       "<table border=\"1\" class=\"dataframe\">\n",
       "  <thead>\n",
       "    <tr style=\"text-align: right;\">\n",
       "      <th></th>\n",
       "      <th>country</th>\n",
       "      <th>rank</th>\n",
       "      <th>score</th>\n",
       "      <th>gdp</th>\n",
       "      <th>family</th>\n",
       "      <th>health</th>\n",
       "      <th>freedom</th>\n",
       "      <th>corruption</th>\n",
       "      <th>generosity</th>\n",
       "      <th>dystopia</th>\n",
       "      <th>year</th>\n",
       "    </tr>\n",
       "  </thead>\n",
       "  <tbody>\n",
       "    <tr>\n",
       "      <th>236</th>\n",
       "      <td>Indonesia</td>\n",
       "      <td>79</td>\n",
       "      <td>5.314</td>\n",
       "      <td>0.95104</td>\n",
       "      <td>0.87625</td>\n",
       "      <td>0.49374</td>\n",
       "      <td>0.39237</td>\n",
       "      <td>0.00322</td>\n",
       "      <td>0.56521</td>\n",
       "      <td>2.03171</td>\n",
       "      <td>2016</td>\n",
       "    </tr>\n",
       "    <tr>\n",
       "      <th>271</th>\n",
       "      <td>Cameroon</td>\n",
       "      <td>114</td>\n",
       "      <td>4.513</td>\n",
       "      <td>0.52497</td>\n",
       "      <td>0.62542</td>\n",
       "      <td>0.12698</td>\n",
       "      <td>0.42736</td>\n",
       "      <td>0.06126</td>\n",
       "      <td>0.22680</td>\n",
       "      <td>2.51980</td>\n",
       "      <td>2016</td>\n",
       "    </tr>\n",
       "    <tr>\n",
       "      <th>635</th>\n",
       "      <td>Austria</td>\n",
       "      <td>10</td>\n",
       "      <td>7.246</td>\n",
       "      <td>1.37600</td>\n",
       "      <td>1.47500</td>\n",
       "      <td>1.01600</td>\n",
       "      <td>0.53200</td>\n",
       "      <td>0.22600</td>\n",
       "      <td>0.24400</td>\n",
       "      <td>2.26640</td>\n",
       "      <td>2019</td>\n",
       "    </tr>\n",
       "    <tr>\n",
       "      <th>69</th>\n",
       "      <td>Turkmenistan</td>\n",
       "      <td>70</td>\n",
       "      <td>5.548</td>\n",
       "      <td>0.95847</td>\n",
       "      <td>1.22668</td>\n",
       "      <td>0.53886</td>\n",
       "      <td>0.47610</td>\n",
       "      <td>0.30844</td>\n",
       "      <td>0.16979</td>\n",
       "      <td>1.86984</td>\n",
       "      <td>2015</td>\n",
       "    </tr>\n",
       "    <tr>\n",
       "      <th>234</th>\n",
       "      <td>Kosovo</td>\n",
       "      <td>77</td>\n",
       "      <td>5.401</td>\n",
       "      <td>0.90145</td>\n",
       "      <td>0.66062</td>\n",
       "      <td>0.54000</td>\n",
       "      <td>0.14396</td>\n",
       "      <td>0.06547</td>\n",
       "      <td>0.27992</td>\n",
       "      <td>2.80998</td>\n",
       "      <td>2016</td>\n",
       "    </tr>\n",
       "  </tbody>\n",
       "</table>\n",
       "</div>"
      ],
      "text/plain": [
       "          country  rank  score      gdp   family   health  freedom  \\\n",
       "236     Indonesia    79  5.314  0.95104  0.87625  0.49374  0.39237   \n",
       "271      Cameroon   114  4.513  0.52497  0.62542  0.12698  0.42736   \n",
       "635       Austria    10  7.246  1.37600  1.47500  1.01600  0.53200   \n",
       "69   Turkmenistan    70  5.548  0.95847  1.22668  0.53886  0.47610   \n",
       "234        Kosovo    77  5.401  0.90145  0.66062  0.54000  0.14396   \n",
       "\n",
       "     corruption  generosity  dystopia  year  \n",
       "236     0.00322     0.56521   2.03171  2016  \n",
       "271     0.06126     0.22680   2.51980  2016  \n",
       "635     0.22600     0.24400   2.26640  2019  \n",
       "69      0.30844     0.16979   1.86984  2015  \n",
       "234     0.06547     0.27992   2.80998  2016  "
      ]
     },
     "execution_count": 23,
     "metadata": {},
     "output_type": "execute_result"
    }
   ],
   "source": [
    "main_data = pd.concat([df_2015, df_2016, df_2017, df_2018, df_2019]).reset_index(drop=True)\n",
    "main_data.shape\n",
    "main_data.sample(5)"
   ]
  },
  {
   "cell_type": "code",
   "execution_count": 24,
   "metadata": {},
   "outputs": [],
   "source": [
    "# We noticed that for the years 2018 and 2019 the dystopia value is missing \n",
    "\n",
    "\n",
    "df_2018[\"dystopia\"] = main_data[\"score\"] - main_data[\"gdp\"] - main_data[\"family\"] - main_data[\"health\"] - main_data[\"freedom\"] - main_data[\"corruption\"] - main_data[\"generosity\"]\n",
    "\n",
    "df_2019[\"dystopia\"] = main_data[\"score\"] - main_data[\"gdp\"] - main_data[\"family\"] - main_data[\"health\"] - main_data[\"freedom\"] - main_data[\"corruption\"] - main_data[\"generosity\"]\n",
    "\n"
   ]
  },
  {
   "cell_type": "code",
   "execution_count": 25,
   "metadata": {},
   "outputs": [
    {
     "data": {
      "text/html": [
       "<div>\n",
       "<style scoped>\n",
       "    .dataframe tbody tr th:only-of-type {\n",
       "        vertical-align: middle;\n",
       "    }\n",
       "\n",
       "    .dataframe tbody tr th {\n",
       "        vertical-align: top;\n",
       "    }\n",
       "\n",
       "    .dataframe thead th {\n",
       "        text-align: right;\n",
       "    }\n",
       "</style>\n",
       "<table border=\"1\" class=\"dataframe\">\n",
       "  <thead>\n",
       "    <tr style=\"text-align: right;\">\n",
       "      <th></th>\n",
       "      <th>country</th>\n",
       "      <th>rank</th>\n",
       "      <th>score</th>\n",
       "      <th>gdp</th>\n",
       "      <th>family</th>\n",
       "      <th>health</th>\n",
       "      <th>freedom</th>\n",
       "      <th>corruption</th>\n",
       "      <th>generosity</th>\n",
       "      <th>dystopia</th>\n",
       "      <th>year</th>\n",
       "    </tr>\n",
       "  </thead>\n",
       "  <tbody>\n",
       "    <tr>\n",
       "      <th>291</th>\n",
       "      <td>Gabon</td>\n",
       "      <td>134</td>\n",
       "      <td>4.121</td>\n",
       "      <td>1.158510</td>\n",
       "      <td>0.723680</td>\n",
       "      <td>0.349400</td>\n",
       "      <td>0.280980</td>\n",
       "      <td>0.093140</td>\n",
       "      <td>0.062440</td>\n",
       "      <td>1.453320</td>\n",
       "      <td>2016</td>\n",
       "    </tr>\n",
       "    <tr>\n",
       "      <th>360</th>\n",
       "      <td>Poland</td>\n",
       "      <td>46</td>\n",
       "      <td>5.973</td>\n",
       "      <td>1.291788</td>\n",
       "      <td>1.445712</td>\n",
       "      <td>0.699475</td>\n",
       "      <td>0.520342</td>\n",
       "      <td>0.059308</td>\n",
       "      <td>0.158466</td>\n",
       "      <td>1.797723</td>\n",
       "      <td>2017</td>\n",
       "    </tr>\n",
       "    <tr>\n",
       "      <th>272</th>\n",
       "      <td>Ethiopia</td>\n",
       "      <td>115</td>\n",
       "      <td>4.508</td>\n",
       "      <td>0.292830</td>\n",
       "      <td>0.379320</td>\n",
       "      <td>0.345780</td>\n",
       "      <td>0.367030</td>\n",
       "      <td>0.171700</td>\n",
       "      <td>0.295220</td>\n",
       "      <td>2.656140</td>\n",
       "      <td>2016</td>\n",
       "    </tr>\n",
       "    <tr>\n",
       "      <th>82</th>\n",
       "      <td>Montenegro</td>\n",
       "      <td>82</td>\n",
       "      <td>5.192</td>\n",
       "      <td>0.974380</td>\n",
       "      <td>0.905570</td>\n",
       "      <td>0.725210</td>\n",
       "      <td>0.182600</td>\n",
       "      <td>0.142960</td>\n",
       "      <td>0.161400</td>\n",
       "      <td>2.100170</td>\n",
       "      <td>2015</td>\n",
       "    </tr>\n",
       "    <tr>\n",
       "      <th>428</th>\n",
       "      <td>Myanmar</td>\n",
       "      <td>114</td>\n",
       "      <td>4.545</td>\n",
       "      <td>0.367111</td>\n",
       "      <td>1.123236</td>\n",
       "      <td>0.397523</td>\n",
       "      <td>0.514492</td>\n",
       "      <td>0.188816</td>\n",
       "      <td>0.838075</td>\n",
       "      <td>1.115290</td>\n",
       "      <td>2017</td>\n",
       "    </tr>\n",
       "  </tbody>\n",
       "</table>\n",
       "</div>"
      ],
      "text/plain": [
       "        country  rank  score       gdp    family    health   freedom  \\\n",
       "291       Gabon   134  4.121  1.158510  0.723680  0.349400  0.280980   \n",
       "360      Poland    46  5.973  1.291788  1.445712  0.699475  0.520342   \n",
       "272    Ethiopia   115  4.508  0.292830  0.379320  0.345780  0.367030   \n",
       "82   Montenegro    82  5.192  0.974380  0.905570  0.725210  0.182600   \n",
       "428     Myanmar   114  4.545  0.367111  1.123236  0.397523  0.514492   \n",
       "\n",
       "     corruption  generosity  dystopia  year  \n",
       "291    0.093140    0.062440  1.453320  2016  \n",
       "360    0.059308    0.158466  1.797723  2017  \n",
       "272    0.171700    0.295220  2.656140  2016  \n",
       "82     0.142960    0.161400  2.100170  2015  \n",
       "428    0.188816    0.838075  1.115290  2017  "
      ]
     },
     "execution_count": 25,
     "metadata": {},
     "output_type": "execute_result"
    }
   ],
   "source": [
    "dim_main_data = pd.concat([df_2015, df_2016, df_2017]).reset_index(drop=True)\n",
    "dim_main_data.sample(5)"
   ]
  },
  {
   "cell_type": "code",
   "execution_count": 26,
   "metadata": {},
   "outputs": [
    {
     "data": {
      "text/plain": [
       "country       0\n",
       "rank          0\n",
       "score         0\n",
       "gdp           0\n",
       "family        0\n",
       "health        0\n",
       "freedom       0\n",
       "corruption    1\n",
       "generosity    0\n",
       "dystopia      0\n",
       "year          0\n",
       "dtype: int64"
      ]
     },
     "execution_count": 26,
     "metadata": {},
     "output_type": "execute_result"
    }
   ],
   "source": [
    "main_data.country = main_data.country.str.lower().str.replace(\" \", \"_\")\n",
    "\n",
    "main_data.isna().sum()"
   ]
  },
  {
   "cell_type": "code",
   "execution_count": 27,
   "metadata": {},
   "outputs": [
    {
     "data": {
      "text/html": [
       "<div>\n",
       "<style scoped>\n",
       "    .dataframe tbody tr th:only-of-type {\n",
       "        vertical-align: middle;\n",
       "    }\n",
       "\n",
       "    .dataframe tbody tr th {\n",
       "        vertical-align: top;\n",
       "    }\n",
       "\n",
       "    .dataframe thead th {\n",
       "        text-align: right;\n",
       "    }\n",
       "</style>\n",
       "<table border=\"1\" class=\"dataframe\">\n",
       "  <thead>\n",
       "    <tr style=\"text-align: right;\">\n",
       "      <th></th>\n",
       "      <th>country</th>\n",
       "      <th>rank</th>\n",
       "      <th>score</th>\n",
       "      <th>gdp</th>\n",
       "      <th>family</th>\n",
       "      <th>health</th>\n",
       "      <th>freedom</th>\n",
       "      <th>corruption</th>\n",
       "      <th>generosity</th>\n",
       "      <th>dystopia</th>\n",
       "      <th>year</th>\n",
       "    </tr>\n",
       "  </thead>\n",
       "  <tbody>\n",
       "    <tr>\n",
       "      <th>489</th>\n",
       "      <td>united_arab_emirates</td>\n",
       "      <td>20</td>\n",
       "      <td>6.774</td>\n",
       "      <td>2.096</td>\n",
       "      <td>0.776</td>\n",
       "      <td>0.67</td>\n",
       "      <td>0.284</td>\n",
       "      <td>NaN</td>\n",
       "      <td>0.186</td>\n",
       "      <td>2.24705</td>\n",
       "      <td>2018</td>\n",
       "    </tr>\n",
       "  </tbody>\n",
       "</table>\n",
       "</div>"
      ],
      "text/plain": [
       "                  country  rank  score    gdp  family  health  freedom  \\\n",
       "489  united_arab_emirates    20  6.774  2.096   0.776    0.67    0.284   \n",
       "\n",
       "     corruption  generosity  dystopia  year  \n",
       "489         NaN       0.186   2.24705  2018  "
      ]
     },
     "execution_count": 27,
     "metadata": {},
     "output_type": "execute_result"
    }
   ],
   "source": [
    "main_data[main_data.isna().values]"
   ]
  },
  {
   "cell_type": "code",
   "execution_count": 28,
   "metadata": {},
   "outputs": [
    {
     "data": {
      "text/html": [
       "<div>\n",
       "<style scoped>\n",
       "    .dataframe tbody tr th:only-of-type {\n",
       "        vertical-align: middle;\n",
       "    }\n",
       "\n",
       "    .dataframe tbody tr th {\n",
       "        vertical-align: top;\n",
       "    }\n",
       "\n",
       "    .dataframe thead th {\n",
       "        text-align: right;\n",
       "    }\n",
       "</style>\n",
       "<table border=\"1\" class=\"dataframe\">\n",
       "  <thead>\n",
       "    <tr style=\"text-align: right;\">\n",
       "      <th></th>\n",
       "      <th>country</th>\n",
       "      <th>rank</th>\n",
       "      <th>score</th>\n",
       "      <th>gdp</th>\n",
       "      <th>family</th>\n",
       "      <th>health</th>\n",
       "      <th>freedom</th>\n",
       "      <th>corruption</th>\n",
       "      <th>generosity</th>\n",
       "      <th>dystopia</th>\n",
       "      <th>year</th>\n",
       "    </tr>\n",
       "  </thead>\n",
       "  <tbody>\n",
       "    <tr>\n",
       "      <th>19</th>\n",
       "      <td>united_arab_emirates</td>\n",
       "      <td>20</td>\n",
       "      <td>6.901</td>\n",
       "      <td>1.427270</td>\n",
       "      <td>1.12575</td>\n",
       "      <td>0.809250</td>\n",
       "      <td>0.641570</td>\n",
       "      <td>0.38583</td>\n",
       "      <td>0.264280</td>\n",
       "      <td>2.247430</td>\n",
       "      <td>2015</td>\n",
       "    </tr>\n",
       "    <tr>\n",
       "      <th>185</th>\n",
       "      <td>united_arab_emirates</td>\n",
       "      <td>28</td>\n",
       "      <td>6.573</td>\n",
       "      <td>1.573520</td>\n",
       "      <td>0.87114</td>\n",
       "      <td>0.729930</td>\n",
       "      <td>0.562150</td>\n",
       "      <td>0.35561</td>\n",
       "      <td>0.265910</td>\n",
       "      <td>2.215070</td>\n",
       "      <td>2016</td>\n",
       "    </tr>\n",
       "    <tr>\n",
       "      <th>335</th>\n",
       "      <td>united_arab_emirates</td>\n",
       "      <td>21</td>\n",
       "      <td>6.648</td>\n",
       "      <td>1.626343</td>\n",
       "      <td>1.26641</td>\n",
       "      <td>0.726798</td>\n",
       "      <td>0.608345</td>\n",
       "      <td>0.32449</td>\n",
       "      <td>0.360942</td>\n",
       "      <td>1.734704</td>\n",
       "      <td>2017</td>\n",
       "    </tr>\n",
       "    <tr>\n",
       "      <th>489</th>\n",
       "      <td>united_arab_emirates</td>\n",
       "      <td>20</td>\n",
       "      <td>6.774</td>\n",
       "      <td>2.096000</td>\n",
       "      <td>0.77600</td>\n",
       "      <td>0.670000</td>\n",
       "      <td>0.284000</td>\n",
       "      <td>NaN</td>\n",
       "      <td>0.186000</td>\n",
       "      <td>2.247050</td>\n",
       "      <td>2018</td>\n",
       "    </tr>\n",
       "    <tr>\n",
       "      <th>646</th>\n",
       "      <td>united_arab_emirates</td>\n",
       "      <td>21</td>\n",
       "      <td>6.825</td>\n",
       "      <td>1.503000</td>\n",
       "      <td>1.31000</td>\n",
       "      <td>0.825000</td>\n",
       "      <td>0.598000</td>\n",
       "      <td>0.18200</td>\n",
       "      <td>0.262000</td>\n",
       "      <td>1.969680</td>\n",
       "      <td>2019</td>\n",
       "    </tr>\n",
       "  </tbody>\n",
       "</table>\n",
       "</div>"
      ],
      "text/plain": [
       "                  country  rank  score       gdp   family    health   freedom  \\\n",
       "19   united_arab_emirates    20  6.901  1.427270  1.12575  0.809250  0.641570   \n",
       "185  united_arab_emirates    28  6.573  1.573520  0.87114  0.729930  0.562150   \n",
       "335  united_arab_emirates    21  6.648  1.626343  1.26641  0.726798  0.608345   \n",
       "489  united_arab_emirates    20  6.774  2.096000  0.77600  0.670000  0.284000   \n",
       "646  united_arab_emirates    21  6.825  1.503000  1.31000  0.825000  0.598000   \n",
       "\n",
       "     corruption  generosity  dystopia  year  \n",
       "19      0.38583    0.264280  2.247430  2015  \n",
       "185     0.35561    0.265910  2.215070  2016  \n",
       "335     0.32449    0.360942  1.734704  2017  \n",
       "489         NaN    0.186000  2.247050  2018  \n",
       "646     0.18200    0.262000  1.969680  2019  "
      ]
     },
     "execution_count": 28,
     "metadata": {},
     "output_type": "execute_result"
    }
   ],
   "source": [
    "main_data.loc[main_data.country == \"united_arab_emirates\"]"
   ]
  },
  {
   "cell_type": "code",
   "execution_count": 29,
   "metadata": {},
   "outputs": [],
   "source": [
    "avg_corruption = main_data.loc[main_data.country == \"united_arab_emirates\", \"corruption\"].mean()\n",
    "main_data.corruption.fillna(avg_corruption, inplace=True)\n"
   ]
  },
  {
   "cell_type": "code",
   "execution_count": 30,
   "metadata": {},
   "outputs": [
    {
     "data": {
      "text/plain": [
       "False"
      ]
     },
     "execution_count": 30,
     "metadata": {},
     "output_type": "execute_result"
    }
   ],
   "source": [
    "main_data.isna().sum().any()"
   ]
  },
  {
   "cell_type": "code",
   "execution_count": 31,
   "metadata": {},
   "outputs": [
    {
     "data": {
      "text/html": [
       "<div>\n",
       "<style scoped>\n",
       "    .dataframe tbody tr th:only-of-type {\n",
       "        vertical-align: middle;\n",
       "    }\n",
       "\n",
       "    .dataframe tbody tr th {\n",
       "        vertical-align: top;\n",
       "    }\n",
       "\n",
       "    .dataframe thead th {\n",
       "        text-align: right;\n",
       "    }\n",
       "</style>\n",
       "<table border=\"1\" class=\"dataframe\">\n",
       "  <thead>\n",
       "    <tr style=\"text-align: right;\">\n",
       "      <th></th>\n",
       "      <th>country</th>\n",
       "      <th>rank</th>\n",
       "      <th>score</th>\n",
       "      <th>gdp</th>\n",
       "      <th>family</th>\n",
       "      <th>health</th>\n",
       "      <th>freedom</th>\n",
       "      <th>corruption</th>\n",
       "      <th>generosity</th>\n",
       "      <th>dystopia</th>\n",
       "      <th>year</th>\n",
       "    </tr>\n",
       "  </thead>\n",
       "  <tbody>\n",
       "    <tr>\n",
       "      <th>714</th>\n",
       "      <td>morocco</td>\n",
       "      <td>89</td>\n",
       "      <td>5.208</td>\n",
       "      <td>0.801000</td>\n",
       "      <td>0.782000</td>\n",
       "      <td>0.782000</td>\n",
       "      <td>0.418000</td>\n",
       "      <td>0.076000</td>\n",
       "      <td>0.036000</td>\n",
       "      <td>1.622600</td>\n",
       "      <td>2019</td>\n",
       "    </tr>\n",
       "    <tr>\n",
       "      <th>728</th>\n",
       "      <td>congo_(brazzaville)</td>\n",
       "      <td>103</td>\n",
       "      <td>4.812</td>\n",
       "      <td>0.673000</td>\n",
       "      <td>0.799000</td>\n",
       "      <td>0.508000</td>\n",
       "      <td>0.372000</td>\n",
       "      <td>0.093000</td>\n",
       "      <td>0.105000</td>\n",
       "      <td>1.570360</td>\n",
       "      <td>2019</td>\n",
       "    </tr>\n",
       "    <tr>\n",
       "      <th>397</th>\n",
       "      <td>montenegro</td>\n",
       "      <td>83</td>\n",
       "      <td>5.237</td>\n",
       "      <td>1.121129</td>\n",
       "      <td>1.238376</td>\n",
       "      <td>0.667465</td>\n",
       "      <td>0.194989</td>\n",
       "      <td>0.088174</td>\n",
       "      <td>0.197911</td>\n",
       "      <td>1.729192</td>\n",
       "      <td>2017</td>\n",
       "    </tr>\n",
       "    <tr>\n",
       "      <th>114</th>\n",
       "      <td>zimbabwe</td>\n",
       "      <td>115</td>\n",
       "      <td>4.610</td>\n",
       "      <td>0.271000</td>\n",
       "      <td>1.032760</td>\n",
       "      <td>0.334750</td>\n",
       "      <td>0.258610</td>\n",
       "      <td>0.080790</td>\n",
       "      <td>0.189870</td>\n",
       "      <td>2.441910</td>\n",
       "      <td>2015</td>\n",
       "    </tr>\n",
       "    <tr>\n",
       "      <th>696</th>\n",
       "      <td>moldova</td>\n",
       "      <td>71</td>\n",
       "      <td>5.529</td>\n",
       "      <td>0.685000</td>\n",
       "      <td>1.328000</td>\n",
       "      <td>0.739000</td>\n",
       "      <td>0.245000</td>\n",
       "      <td>0.000000</td>\n",
       "      <td>0.181000</td>\n",
       "      <td>1.761370</td>\n",
       "      <td>2019</td>\n",
       "    </tr>\n",
       "  </tbody>\n",
       "</table>\n",
       "</div>"
      ],
      "text/plain": [
       "                 country  rank  score       gdp    family    health   freedom  \\\n",
       "714              morocco    89  5.208  0.801000  0.782000  0.782000  0.418000   \n",
       "728  congo_(brazzaville)   103  4.812  0.673000  0.799000  0.508000  0.372000   \n",
       "397           montenegro    83  5.237  1.121129  1.238376  0.667465  0.194989   \n",
       "114             zimbabwe   115  4.610  0.271000  1.032760  0.334750  0.258610   \n",
       "696              moldova    71  5.529  0.685000  1.328000  0.739000  0.245000   \n",
       "\n",
       "     corruption  generosity  dystopia  year  \n",
       "714    0.076000    0.036000  1.622600  2019  \n",
       "728    0.093000    0.105000  1.570360  2019  \n",
       "397    0.088174    0.197911  1.729192  2017  \n",
       "114    0.080790    0.189870  2.441910  2015  \n",
       "696    0.000000    0.181000  1.761370  2019  "
      ]
     },
     "execution_count": 31,
     "metadata": {},
     "output_type": "execute_result"
    }
   ],
   "source": [
    "main_data.sample(5)"
   ]
  },
  {
   "cell_type": "code",
   "execution_count": 32,
   "metadata": {},
   "outputs": [
    {
     "data": {
      "image/png": "[encoded data removed]",
      "text/plain": [
       "<Figure size 864x720 with 2 Axes>"
      ]
     },
     "metadata": {
      "needs_background": "light"
     },
     "output_type": "display_data"
    },
    {
     "data": {
      "text/plain": [
       "<Figure size 432x288 with 0 Axes>"
      ]
     },
     "metadata": {},
     "output_type": "display_data"
    }
   ],
   "source": [
    "#correlation map  2015-2019\n",
    "\n",
    "categories = [\"score\", \"gdp\", \"generosity\", \"freedom\", \"corruption\", \"health\", \"family\"]\n",
    "fig, ax = plt.subplots(figsize= (12, 10))\n",
    "sn.heatmap(main_data[categories].corr(), annot=True, cmap=\"Blues\", linewidths=.5, fmt=\".1f\", ax=ax)\n",
    "plt.show()\n",
    "\n",
    "plt.savefig('Graphs/heatmap_main_data.png')\n",
    "\n",
    "#the happiness score has a strong linear relationship with GDP and Family (Social Support, and health (healthy life expectancy\n",
    "#the happiness score is least correlated with generosity"
   ]
  },
  {
   "cell_type": "code",
   "execution_count": 33,
   "metadata": {},
   "outputs": [
    {
     "data": {
      "image/png": "[encoded data removed]",
      "text/plain": [
       "<Figure size 864x720 with 2 Axes>"
      ]
     },
     "metadata": {
      "needs_background": "light"
     },
     "output_type": "display_data"
    }
   ],
   "source": [
    "categories = [\"score\", \"gdp\", \"generosity\", \"freedom\", \"corruption\", \"health\", \"family\"]\n",
    "fig, ax = plt.subplots(figsize= (12, 10))\n",
    "sn.heatmap(dim_main_data[categories].corr(), annot=True, cmap=\"Blues\", linewidths=.5, fmt=\".1f\", ax=ax)\n",
    "plt.show()\n",
    "\n"
   ]
  },
  {
   "cell_type": "code",
   "execution_count": 50,
   "metadata": {},
   "outputs": [
    {
     "data": {
      "image/png": "[encoded data removed]",
      "text/plain": [
       "<Figure size 432x288 with 1 Axes>"
      ]
     },
     "metadata": {
      "needs_background": "light"
     },
     "output_type": "display_data"
    },
    {
     "data": {
      "text/plain": [
       "<Figure size 432x288 with 0 Axes>"
      ]
     },
     "metadata": {},
     "output_type": "display_data"
    }
   ],
   "source": [
    "#since GDP seems to have the greatest correlation with the happiness score, lets look at a linear regresion of the two\n",
    "linear_regression = LinearRegression()\n",
    "\n",
    "x = main_data.score.values.reshape(-1, 1)\n",
    "y = main_data[\"gdp\"].values.reshape(-1,1)\n",
    "\n",
    "\n",
    "\n",
    "linear_regression.fit(x,y)\n",
    "\n",
    "plt.scatter(main_data[\"score\"], main_data[\"gdp\"])\n",
    "y_head = linear_regression.predict(x)\n",
    "plt.plot(x, y_head, color = \"red\")\n",
    "plt.xlabel(\"Happiness Score\")\n",
    "plt.ylabel(\"GDP Score\")\n",
    "\n",
    "plt.show()\n",
    "\n",
    "plt.savefig('Graphs/gdp_score_lineregression.png')\n"
   ]
  },
  {
   "cell_type": "code",
   "execution_count": 49,
   "metadata": {},
   "outputs": [
    {
     "data": {
      "image/png": "[encoded data removed]",
      "text/plain": [
       "<Figure size 432x288 with 1 Axes>"
      ]
     },
     "metadata": {
      "needs_background": "light"
     },
     "output_type": "display_data"
    },
    {
     "data": {
      "text/plain": [
       "<Figure size 432x288 with 0 Axes>"
      ]
     },
     "metadata": {},
     "output_type": "display_data"
    }
   ],
   "source": [
    "linear_regression = LinearRegression()\n",
    "\n",
    "x = main_data.score.values.reshape(-1, 1)\n",
    "y = main_data[\"generosity\"].values.reshape(-1,1)\n",
    "\n",
    "linear_regression.fit(x,y)\n",
    "\n",
    "plt.scatter(main_data[\"score\"], main_data[\"generosity\"])\n",
    "y_head = linear_regression.predict(x)\n",
    "plt.plot(x, y_head, color = \"red\")\n",
    "plt.xlabel(\"Happiness Score\")\n",
    "plt.ylabel(\"Generosity\")\n",
    "\n",
    "plt.show()\n",
    "\n",
    "plt.savefig('Graphs/final_generosity_score_lineregression.png')"
   ]
  },
  {
   "cell_type": "code",
   "execution_count": 47,
   "metadata": {},
   "outputs": [
    {
     "data": {
      "image/png": "[encoded data removed]",
      "text/plain": [
       "<Figure size 432x288 with 1 Axes>"
      ]
     },
     "metadata": {
      "needs_background": "light"
     },
     "output_type": "display_data"
    },
    {
     "data": {
      "text/plain": [
       "<Figure size 432x288 with 0 Axes>"
      ]
     },
     "metadata": {},
     "output_type": "display_data"
    }
   ],
   "source": [
    "linear_regression = LinearRegression()\n",
    "\n",
    "x = main_data.score.values.reshape(-1, 1)\n",
    "y = main_data[\"family\"].values.reshape(-1,1)\n",
    "\n",
    "linear_regression.fit(x,y)\n",
    "\n",
    "plt.scatter(main_data[\"score\"], main_data[\"family\"])\n",
    "y_head = linear_regression.predict(x)\n",
    "plt.plot(x, y_head, color = \"red\")\n",
    "plt.xlabel(\"Happiness Score\")\n",
    "plt.ylabel(\"Family\")\n",
    "\n",
    "plt.show()\n",
    "\n",
    "plt.savefig('Graphs/family_score_lineregression.png')"
   ]
  },
  {
   "cell_type": "code",
   "execution_count": 51,
   "metadata": {},
   "outputs": [
    {
     "data": {
      "image/png": "[encoded data removed]",
      "text/plain": [
       "<Figure size 432x288 with 1 Axes>"
      ]
     },
     "metadata": {
      "needs_background": "light"
     },
     "output_type": "display_data"
    },
    {
     "data": {
      "text/plain": [
       "<Figure size 432x288 with 0 Axes>"
      ]
     },
     "metadata": {},
     "output_type": "display_data"
    }
   ],
   "source": [
    "linear_regression = LinearRegression()\n",
    "\n",
    "x = main_data.score.values.reshape(-1, 1)\n",
    "y = main_data[\"health\"].values.reshape(-1,1)\n",
    "\n",
    "linear_regression.fit(x,y)\n",
    "\n",
    "plt.scatter(main_data[\"score\"], main_data[\"health\"])\n",
    "y_head = linear_regression.predict(x)\n",
    "plt.plot(x, y_head, color = \"red\")\n",
    "plt.xlabel(\"Happiness Score\")\n",
    "plt.ylabel(\"Health\")\n",
    "\n",
    "plt.show()\n",
    "\n",
    "plt.savefig('Graphs/health_score_lineregression.png')"
   ]
  },
  {
   "cell_type": "code",
   "execution_count": null,
   "metadata": {},
   "outputs": [],
   "source": [
    "#correlation coefficient computation\n",
    "\n",
    "score = main_data.iloc[:, 2]\n",
    "gdp = main_data.iloc[:, 3]\n",
    "correlation = st.pearsonr(score, gdp)\n",
    "print(f\"The correlation between both factors is {round(correlation[0],2)}\")\n",
    "\n",
    "plt.show()"
   ]
  },
  {
   "cell_type": "code",
   "execution_count": null,
   "metadata": {},
   "outputs": [],
   "source": [
    "#main_data = np.random.normal(loc = 20, scale = 5, size=100)   \n",
    "st.probplot(main_data, dist=\"norm\", plot=pylab)\n",
    "pylab.show()\n",
    "\n"
   ]
  },
  {
   "cell_type": "code",
   "execution_count": null,
   "metadata": {},
   "outputs": [],
   "source": []
  },
  {
   "cell_type": "code",
   "execution_count": null,
   "metadata": {},
   "outputs": [],
   "source": []
  }
 ],
 "metadata": {
  "kernelspec": {
   "display_name": "Python [conda env:PythonData] *",
   "language": "python",
   "name": "conda-env-PythonData-py"
  },
  "language_info": {
   "codemirror_mode": {
    "name": "ipython",
    "version": 3
   },
   "file_extension": ".py",
   "mimetype": "text/x-python",
   "name": "python",
   "nbconvert_exporter": "python",
   "pygments_lexer": "ipython3",
   "version": "3.6.10"
  }
 },
 "nbformat": 4,
 "nbformat_minor": 4
}
