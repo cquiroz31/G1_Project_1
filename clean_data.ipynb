{
 "cells": [
  {
   "cell_type": "code",
   "execution_count": 1,
   "metadata": {},
   "outputs": [],
   "source": [
    "import matplotlib.pyplot as plt\n",
    "import pandas as pd\n",
    "import numpy as np\n",
    "from scipy.stats import linregress\n",
    "import seaborn as sn\n",
    "from collections import Counter \n",
    "from sklearn.linear_model import LinearRegression\n",
    "import scipy.stats as st\n",
    "from sklearn.ensemble import RandomForestRegressor\n",
    "import pylab\n",
    "\n",
    "import statsmodels.api as sm\n",
    "\n",
    "from sklearn.preprocessing import PolynomialFeatures\n"
   ]
  },
  {
   "cell_type": "code",
   "execution_count": 2,
   "metadata": {},
   "outputs": [],
   "source": [
    "#These are the 5 sets of raw data that we have.\n",
    "\n",
    "file = \"csv_data/2015.csv\"\n",
    "file1 = \"csv_data/2016.csv\"\n",
    "file2 = \"csv_data/2017.csv\"\n",
    "file3 = \"csv_data/2018.csv\"\n",
    "file4 = \"csv_data/2019.csv\""
   ]
  },
  {
   "cell_type": "code",
   "execution_count": 3,
   "metadata": {},
   "outputs": [],
   "source": [
    "# Dataframes by year.\n",
    "\n",
    "df_2015 = pd.read_csv(file)\n",
    "df_2016 = pd.read_csv(file1)\n",
    "df_2017 = pd.read_csv(file2)\n",
    "df_2018 = pd.read_csv(file3)\n",
    "df_2019 = pd.read_csv(file4)"
   ]
  },
  {
   "cell_type": "code",
   "execution_count": 4,
   "metadata": {},
   "outputs": [
    {
     "name": "stdout",
     "output_type": "stream",
     "text": [
      "2015:  (158, 12)\n",
      "2016:  (157, 13)\n",
      "2017:  (155, 12)\n",
      "2018:  (156, 9)\n",
      "2019:  (156, 9)\n"
     ]
    }
   ],
   "source": [
    "# Here we started the process of checking what our csvs looked like.\n",
    "#We were interested in the # of rows and columns in each csv file. \n",
    "\n",
    "print(\"2015: \", df_2015.shape)\n",
    "print(\"2016: \", df_2016.shape)\n",
    "print(\"2017: \", df_2017.shape)\n",
    "print(\"2018: \", df_2018.shape)\n",
    "print(\"2019: \", df_2019.shape)"
   ]
  },
  {
   "cell_type": "code",
   "execution_count": 5,
   "metadata": {},
   "outputs": [
    {
     "data": {
      "text/plain": [
       "Country                          0\n",
       "Region                           0\n",
       "Happiness Rank                   0\n",
       "Happiness Score                  0\n",
       "Standard Error                   0\n",
       "Economy (GDP per Capita)         0\n",
       "Family                           0\n",
       "Health (Life Expectancy)         0\n",
       "Freedom                          0\n",
       "Trust (Government Corruption)    0\n",
       "Generosity                       0\n",
       "Dystopia Residual                0\n",
       "dtype: int64"
      ]
     },
     "execution_count": 5,
     "metadata": {},
     "output_type": "execute_result"
    }
   ],
   "source": [
    "# Next, we checked for any empty values in each individual year. Here we can see that 2015 did not have any empty values. \n",
    "df_2015.isna().sum()"
   ]
  },
  {
   "cell_type": "code",
   "execution_count": 6,
   "metadata": {},
   "outputs": [
    {
     "data": {
      "text/plain": [
       "Index(['country', 'region', 'rank', 'score', 'standard error', 'gdp', 'family',\n",
       "       'health', 'freedom', 'corruption', 'generosity', 'dystopia'],\n",
       "      dtype='object')"
      ]
     },
     "execution_count": 6,
     "metadata": {},
     "output_type": "execute_result"
    }
   ],
   "source": [
    "# After looking at the components of each year, we noticed the column names varied, so we decided to rename and drop columns\n",
    "# so that all the years matched. \n",
    "df_2015.rename(columns={'Happiness Rank':'rank', 'Happiness Score':'score', 'Economy (GDP per Capita)': 'gdp',\n",
    "                      'Health (Life Expectancy)': 'health', 'Trust (Government Corruption)': 'corruption',\n",
    "                      \"Dystopia Residual\": \"dystopia\"},\n",
    "                        inplace = True)\n",
    "df_2015.columns = df_2015.columns.str.lower()\n",
    "df_2015.columns"
   ]
  },
  {
   "cell_type": "code",
   "execution_count": 7,
   "metadata": {},
   "outputs": [
    {
     "data": {
      "text/html": [
       "<div>\n",
       "<style scoped>\n",
       "    .dataframe tbody tr th:only-of-type {\n",
       "        vertical-align: middle;\n",
       "    }\n",
       "\n",
       "    .dataframe tbody tr th {\n",
       "        vertical-align: top;\n",
       "    }\n",
       "\n",
       "    .dataframe thead th {\n",
       "        text-align: right;\n",
       "    }\n",
       "</style>\n",
       "<table border=\"1\" class=\"dataframe\">\n",
       "  <thead>\n",
       "    <tr style=\"text-align: right;\">\n",
       "      <th></th>\n",
       "      <th>country</th>\n",
       "      <th>rank</th>\n",
       "      <th>score</th>\n",
       "      <th>gdp</th>\n",
       "      <th>family</th>\n",
       "      <th>health</th>\n",
       "      <th>freedom</th>\n",
       "      <th>corruption</th>\n",
       "      <th>generosity</th>\n",
       "      <th>dystopia</th>\n",
       "    </tr>\n",
       "  </thead>\n",
       "  <tbody>\n",
       "    <tr>\n",
       "      <th>57</th>\n",
       "      <td>Peru</td>\n",
       "      <td>58</td>\n",
       "      <td>5.824</td>\n",
       "      <td>0.90019</td>\n",
       "      <td>0.97459</td>\n",
       "      <td>0.73017</td>\n",
       "      <td>0.41496</td>\n",
       "      <td>0.05989</td>\n",
       "      <td>0.14982</td>\n",
       "      <td>2.59450</td>\n",
       "    </tr>\n",
       "    <tr>\n",
       "      <th>40</th>\n",
       "      <td>Trinidad and Tobago</td>\n",
       "      <td>41</td>\n",
       "      <td>6.168</td>\n",
       "      <td>1.21183</td>\n",
       "      <td>1.18354</td>\n",
       "      <td>0.61483</td>\n",
       "      <td>0.55884</td>\n",
       "      <td>0.01140</td>\n",
       "      <td>0.31844</td>\n",
       "      <td>2.26882</td>\n",
       "    </tr>\n",
       "    <tr>\n",
       "      <th>76</th>\n",
       "      <td>Kyrgyzstan</td>\n",
       "      <td>77</td>\n",
       "      <td>5.286</td>\n",
       "      <td>0.47428</td>\n",
       "      <td>1.15115</td>\n",
       "      <td>0.65088</td>\n",
       "      <td>0.43477</td>\n",
       "      <td>0.04232</td>\n",
       "      <td>0.30030</td>\n",
       "      <td>2.23270</td>\n",
       "    </tr>\n",
       "    <tr>\n",
       "      <th>4</th>\n",
       "      <td>Canada</td>\n",
       "      <td>5</td>\n",
       "      <td>7.427</td>\n",
       "      <td>1.32629</td>\n",
       "      <td>1.32261</td>\n",
       "      <td>0.90563</td>\n",
       "      <td>0.63297</td>\n",
       "      <td>0.32957</td>\n",
       "      <td>0.45811</td>\n",
       "      <td>2.45176</td>\n",
       "    </tr>\n",
       "    <tr>\n",
       "      <th>46</th>\n",
       "      <td>South Korea</td>\n",
       "      <td>47</td>\n",
       "      <td>5.984</td>\n",
       "      <td>1.24461</td>\n",
       "      <td>0.95774</td>\n",
       "      <td>0.96538</td>\n",
       "      <td>0.33208</td>\n",
       "      <td>0.07857</td>\n",
       "      <td>0.18557</td>\n",
       "      <td>2.21978</td>\n",
       "    </tr>\n",
       "  </tbody>\n",
       "</table>\n",
       "</div>"
      ],
      "text/plain": [
       "                country  rank  score      gdp   family   health  freedom  \\\n",
       "57                 Peru    58  5.824  0.90019  0.97459  0.73017  0.41496   \n",
       "40  Trinidad and Tobago    41  6.168  1.21183  1.18354  0.61483  0.55884   \n",
       "76           Kyrgyzstan    77  5.286  0.47428  1.15115  0.65088  0.43477   \n",
       "4                Canada     5  7.427  1.32629  1.32261  0.90563  0.63297   \n",
       "46          South Korea    47  5.984  1.24461  0.95774  0.96538  0.33208   \n",
       "\n",
       "    corruption  generosity  dystopia  \n",
       "57     0.05989     0.14982   2.59450  \n",
       "40     0.01140     0.31844   2.26882  \n",
       "76     0.04232     0.30030   2.23270  \n",
       "4      0.32957     0.45811   2.45176  \n",
       "46     0.07857     0.18557   2.21978  "
      ]
     },
     "execution_count": 7,
     "metadata": {},
     "output_type": "execute_result"
    }
   ],
   "source": [
    "df_2015.drop(columns = ['region', 'standard error'], inplace = True)\n",
    "df_2015.sample(5)"
   ]
  },
  {
   "cell_type": "code",
   "execution_count": 8,
   "metadata": {},
   "outputs": [
    {
     "data": {
      "text/plain": [
       "Country                          0\n",
       "Region                           0\n",
       "Happiness Rank                   0\n",
       "Happiness Score                  0\n",
       "Lower Confidence Interval        0\n",
       "Upper Confidence Interval        0\n",
       "Economy (GDP per Capita)         0\n",
       "Family                           0\n",
       "Health (Life Expectancy)         0\n",
       "Freedom                          0\n",
       "Trust (Government Corruption)    0\n",
       "Generosity                       0\n",
       "Dystopia Residual                0\n",
       "dtype: int64"
      ]
     },
     "execution_count": 8,
     "metadata": {},
     "output_type": "execute_result"
    }
   ],
   "source": [
    "df_2016.isna().sum()"
   ]
  },
  {
   "cell_type": "code",
   "execution_count": 9,
   "metadata": {},
   "outputs": [
    {
     "data": {
      "text/plain": [
       "Index(['country', 'region', 'rank', 'score', 'lower confidence interval',\n",
       "       'upper confidence interval', 'gdp', 'family', 'health', 'freedom',\n",
       "       'corruption', 'generosity', 'dystopia'],\n",
       "      dtype='object')"
      ]
     },
     "execution_count": 9,
     "metadata": {},
     "output_type": "execute_result"
    }
   ],
   "source": [
    "df_2016.columns = df_2016.columns.str.lower()\n",
    "df_2016.rename(columns={'happiness rank':'rank', 'happiness score':'score', 'economy (gdp per capita)': 'gdp',\n",
    "                      'health (life expectancy)':'health', 'trust (government corruption)': 'corruption',\n",
    "                      \"dystopia residual\": \"dystopia\"},\n",
    "                       inplace = True)\n",
    "df_2016.columns"
   ]
  },
  {
   "cell_type": "code",
   "execution_count": 10,
   "metadata": {},
   "outputs": [
    {
     "data": {
      "text/html": [
       "<div>\n",
       "<style scoped>\n",
       "    .dataframe tbody tr th:only-of-type {\n",
       "        vertical-align: middle;\n",
       "    }\n",
       "\n",
       "    .dataframe tbody tr th {\n",
       "        vertical-align: top;\n",
       "    }\n",
       "\n",
       "    .dataframe thead th {\n",
       "        text-align: right;\n",
       "    }\n",
       "</style>\n",
       "<table border=\"1\" class=\"dataframe\">\n",
       "  <thead>\n",
       "    <tr style=\"text-align: right;\">\n",
       "      <th></th>\n",
       "      <th>country</th>\n",
       "      <th>rank</th>\n",
       "      <th>score</th>\n",
       "      <th>gdp</th>\n",
       "      <th>family</th>\n",
       "      <th>health</th>\n",
       "      <th>freedom</th>\n",
       "      <th>corruption</th>\n",
       "      <th>generosity</th>\n",
       "      <th>dystopia</th>\n",
       "    </tr>\n",
       "  </thead>\n",
       "  <tbody>\n",
       "    <tr>\n",
       "      <th>18</th>\n",
       "      <td>Ireland</td>\n",
       "      <td>19</td>\n",
       "      <td>6.907</td>\n",
       "      <td>1.48341</td>\n",
       "      <td>1.16157</td>\n",
       "      <td>0.81455</td>\n",
       "      <td>0.54008</td>\n",
       "      <td>0.29754</td>\n",
       "      <td>0.44963</td>\n",
       "      <td>2.15988</td>\n",
       "    </tr>\n",
       "    <tr>\n",
       "      <th>136</th>\n",
       "      <td>Botswana</td>\n",
       "      <td>137</td>\n",
       "      <td>3.974</td>\n",
       "      <td>1.09426</td>\n",
       "      <td>0.89186</td>\n",
       "      <td>0.34752</td>\n",
       "      <td>0.44089</td>\n",
       "      <td>0.10769</td>\n",
       "      <td>0.12425</td>\n",
       "      <td>0.96741</td>\n",
       "    </tr>\n",
       "    <tr>\n",
       "      <th>74</th>\n",
       "      <td>Hong Kong</td>\n",
       "      <td>75</td>\n",
       "      <td>5.458</td>\n",
       "      <td>1.51070</td>\n",
       "      <td>0.87021</td>\n",
       "      <td>0.95277</td>\n",
       "      <td>0.48079</td>\n",
       "      <td>0.31647</td>\n",
       "      <td>0.40097</td>\n",
       "      <td>0.92614</td>\n",
       "    </tr>\n",
       "    <tr>\n",
       "      <th>144</th>\n",
       "      <td>Burkina Faso</td>\n",
       "      <td>145</td>\n",
       "      <td>3.739</td>\n",
       "      <td>0.31995</td>\n",
       "      <td>0.63054</td>\n",
       "      <td>0.21297</td>\n",
       "      <td>0.33370</td>\n",
       "      <td>0.12533</td>\n",
       "      <td>0.24353</td>\n",
       "      <td>1.87319</td>\n",
       "    </tr>\n",
       "    <tr>\n",
       "      <th>29</th>\n",
       "      <td>Malta</td>\n",
       "      <td>30</td>\n",
       "      <td>6.488</td>\n",
       "      <td>1.30782</td>\n",
       "      <td>1.09879</td>\n",
       "      <td>0.80315</td>\n",
       "      <td>0.54994</td>\n",
       "      <td>0.17554</td>\n",
       "      <td>0.56237</td>\n",
       "      <td>1.99032</td>\n",
       "    </tr>\n",
       "  </tbody>\n",
       "</table>\n",
       "</div>"
      ],
      "text/plain": [
       "          country  rank  score      gdp   family   health  freedom  \\\n",
       "18        Ireland    19  6.907  1.48341  1.16157  0.81455  0.54008   \n",
       "136      Botswana   137  3.974  1.09426  0.89186  0.34752  0.44089   \n",
       "74      Hong Kong    75  5.458  1.51070  0.87021  0.95277  0.48079   \n",
       "144  Burkina Faso   145  3.739  0.31995  0.63054  0.21297  0.33370   \n",
       "29          Malta    30  6.488  1.30782  1.09879  0.80315  0.54994   \n",
       "\n",
       "     corruption  generosity  dystopia  \n",
       "18      0.29754     0.44963   2.15988  \n",
       "136     0.10769     0.12425   0.96741  \n",
       "74      0.31647     0.40097   0.92614  \n",
       "144     0.12533     0.24353   1.87319  \n",
       "29      0.17554     0.56237   1.99032  "
      ]
     },
     "execution_count": 10,
     "metadata": {},
     "output_type": "execute_result"
    }
   ],
   "source": [
    "df_2016.drop(columns = ['lower confidence interval','upper confidence interval',\n",
    "                      'region'],\n",
    "           inplace = True)\n",
    "df_2016.sample(5)"
   ]
  },
  {
   "cell_type": "code",
   "execution_count": 11,
   "metadata": {},
   "outputs": [
    {
     "data": {
      "text/plain": [
       "Country                          0\n",
       "Happiness.Rank                   0\n",
       "Happiness.Score                  0\n",
       "Whisker.high                     0\n",
       "Whisker.low                      0\n",
       "Economy..GDP.per.Capita.         0\n",
       "Family                           0\n",
       "Health..Life.Expectancy.         0\n",
       "Freedom                          0\n",
       "Generosity                       0\n",
       "Trust..Government.Corruption.    0\n",
       "Dystopia.Residual                0\n",
       "dtype: int64"
      ]
     },
     "execution_count": 11,
     "metadata": {},
     "output_type": "execute_result"
    }
   ],
   "source": [
    "df_2017.isna().sum()"
   ]
  },
  {
   "cell_type": "code",
   "execution_count": 12,
   "metadata": {},
   "outputs": [
    {
     "data": {
      "text/plain": [
       "Index(['country', 'rank', 'score', 'whiskerhigh', 'whiskerlow', 'gdp',\n",
       "       'family', 'health', 'freedom', 'generosity', 'corruption', 'dystopia'],\n",
       "      dtype='object')"
      ]
     },
     "execution_count": 12,
     "metadata": {},
     "output_type": "execute_result"
    }
   ],
   "source": [
    "# This particular year had column names with periods instead of spaces, so we got rid of the periods\n",
    "# and substituted spaces. \n",
    "\n",
    "df_2017.columns = df_2017.columns.str.replace(\".\", \"\")\n",
    "\n",
    "# let's convert into lower case\n",
    "df_2017.columns = df_2017.columns.str.lower()\n",
    "df_2017.rename(columns = {\"happinessrank\": \"rank\", \"happinessscore\": \"score\", \"healthlifeexpectancy\": \"health\",\n",
    "                        \"economygdppercapita\": \"gdp\", \"trustgovernmentcorruption\": \"corruption\",\n",
    "                        \"dystopiaresidual\": \"dystopia\"}, inplace = True)\n",
    "df_2017.columns"
   ]
  },
  {
   "cell_type": "code",
   "execution_count": 13,
   "metadata": {},
   "outputs": [
    {
     "data": {
      "text/html": [
       "<div>\n",
       "<style scoped>\n",
       "    .dataframe tbody tr th:only-of-type {\n",
       "        vertical-align: middle;\n",
       "    }\n",
       "\n",
       "    .dataframe tbody tr th {\n",
       "        vertical-align: top;\n",
       "    }\n",
       "\n",
       "    .dataframe thead th {\n",
       "        text-align: right;\n",
       "    }\n",
       "</style>\n",
       "<table border=\"1\" class=\"dataframe\">\n",
       "  <thead>\n",
       "    <tr style=\"text-align: right;\">\n",
       "      <th></th>\n",
       "      <th>country</th>\n",
       "      <th>rank</th>\n",
       "      <th>score</th>\n",
       "      <th>gdp</th>\n",
       "      <th>family</th>\n",
       "      <th>health</th>\n",
       "      <th>freedom</th>\n",
       "      <th>generosity</th>\n",
       "      <th>corruption</th>\n",
       "      <th>dystopia</th>\n",
       "    </tr>\n",
       "  </thead>\n",
       "  <tbody>\n",
       "    <tr>\n",
       "      <th>117</th>\n",
       "      <td>Gabon</td>\n",
       "      <td>118</td>\n",
       "      <td>4.465</td>\n",
       "      <td>1.198210</td>\n",
       "      <td>1.155620</td>\n",
       "      <td>0.356579</td>\n",
       "      <td>0.312329</td>\n",
       "      <td>0.043785</td>\n",
       "      <td>0.076047</td>\n",
       "      <td>1.322916</td>\n",
       "    </tr>\n",
       "    <tr>\n",
       "      <th>27</th>\n",
       "      <td>Uruguay</td>\n",
       "      <td>28</td>\n",
       "      <td>6.454</td>\n",
       "      <td>1.217560</td>\n",
       "      <td>1.412228</td>\n",
       "      <td>0.719217</td>\n",
       "      <td>0.579392</td>\n",
       "      <td>0.175097</td>\n",
       "      <td>0.178062</td>\n",
       "      <td>2.172410</td>\n",
       "    </tr>\n",
       "    <tr>\n",
       "      <th>134</th>\n",
       "      <td>Niger</td>\n",
       "      <td>135</td>\n",
       "      <td>4.028</td>\n",
       "      <td>0.161925</td>\n",
       "      <td>0.993025</td>\n",
       "      <td>0.268505</td>\n",
       "      <td>0.363659</td>\n",
       "      <td>0.228674</td>\n",
       "      <td>0.138573</td>\n",
       "      <td>1.873983</td>\n",
       "    </tr>\n",
       "    <tr>\n",
       "      <th>49</th>\n",
       "      <td>Belize</td>\n",
       "      <td>50</td>\n",
       "      <td>5.956</td>\n",
       "      <td>0.907975</td>\n",
       "      <td>1.081418</td>\n",
       "      <td>0.450192</td>\n",
       "      <td>0.547509</td>\n",
       "      <td>0.240016</td>\n",
       "      <td>0.096581</td>\n",
       "      <td>2.631956</td>\n",
       "    </tr>\n",
       "    <tr>\n",
       "      <th>153</th>\n",
       "      <td>Burundi</td>\n",
       "      <td>154</td>\n",
       "      <td>2.905</td>\n",
       "      <td>0.091623</td>\n",
       "      <td>0.629794</td>\n",
       "      <td>0.151611</td>\n",
       "      <td>0.059901</td>\n",
       "      <td>0.204435</td>\n",
       "      <td>0.084148</td>\n",
       "      <td>1.683024</td>\n",
       "    </tr>\n",
       "  </tbody>\n",
       "</table>\n",
       "</div>"
      ],
      "text/plain": [
       "     country  rank  score       gdp    family    health   freedom  generosity  \\\n",
       "117    Gabon   118  4.465  1.198210  1.155620  0.356579  0.312329    0.043785   \n",
       "27   Uruguay    28  6.454  1.217560  1.412228  0.719217  0.579392    0.175097   \n",
       "134    Niger   135  4.028  0.161925  0.993025  0.268505  0.363659    0.228674   \n",
       "49    Belize    50  5.956  0.907975  1.081418  0.450192  0.547509    0.240016   \n",
       "153  Burundi   154  2.905  0.091623  0.629794  0.151611  0.059901    0.204435   \n",
       "\n",
       "     corruption  dystopia  \n",
       "117    0.076047  1.322916  \n",
       "27     0.178062  2.172410  \n",
       "134    0.138573  1.873983  \n",
       "49     0.096581  2.631956  \n",
       "153    0.084148  1.683024  "
      ]
     },
     "execution_count": 13,
     "metadata": {},
     "output_type": "execute_result"
    }
   ],
   "source": [
    "df_2017.drop(columns = ['whiskerhigh', 'whiskerlow'], inplace = True)\n",
    "df_2017.sample(5)"
   ]
  },
  {
   "cell_type": "code",
   "execution_count": 14,
   "metadata": {},
   "outputs": [
    {
     "data": {
      "text/plain": [
       "Overall rank                    0\n",
       "Country or region               0\n",
       "Score                           0\n",
       "GDP per capita                  0\n",
       "Social support                  0\n",
       "Healthy life expectancy         0\n",
       "Freedom to make life choices    0\n",
       "Generosity                      0\n",
       "Perceptions of corruption       1\n",
       "dtype: int64"
      ]
     },
     "execution_count": 14,
     "metadata": {},
     "output_type": "execute_result"
    }
   ],
   "source": [
    "# Here we found out we have one empty value in the corruptions column. We will\n",
    "# need locate and clean up that empty value.\n",
    "df_2018.isna().sum()"
   ]
  },
  {
   "cell_type": "code",
   "execution_count": 15,
   "metadata": {},
   "outputs": [
    {
     "data": {
      "text/plain": [
       "Index(['rank', 'country', 'score', 'gdp', 'family', 'health', 'freedom',\n",
       "       'generosity', 'corruption'],\n",
       "      dtype='object')"
      ]
     },
     "execution_count": 15,
     "metadata": {},
     "output_type": "execute_result"
    }
   ],
   "source": [
    "df_2018.columns = df_2018.columns.str.lower()\n",
    "df_2018.rename(columns = {\"overall rank\": \"rank\", \"country or region\": \"country\",\n",
    "                         \"freedom to make life choices\": \"freedom\", \"perceptions of corruption\": \"corruption\",\n",
    "                        \"gdp per capita\": \"gdp\", \"healthy life expectancy\": \"health\",\n",
    "                        \"social support\": \"family\"}, inplace=True)\n",
    "df_2018.columns = df_2018.columns.str.replace(\" \", \"_\")\n",
    "df_2018.columns"
   ]
  },
  {
   "cell_type": "code",
   "execution_count": 16,
   "metadata": {},
   "outputs": [
    {
     "data": {
      "text/plain": [
       "Index(['rank', 'country', 'score', 'gdp', 'family', 'health', 'freedom',\n",
       "       'generosity', 'corruption'],\n",
       "      dtype='object')"
      ]
     },
     "execution_count": 16,
     "metadata": {},
     "output_type": "execute_result"
    }
   ],
   "source": [
    "df_2019.columns = df_2019.columns.str.lower()\n",
    "df_2019.rename(columns = {\"overall rank\": \"rank\", \"country or region\": \"country\",\n",
    "                         \"freedom to make life choices\": \"freedom\", \"perceptions of corruption\": \"corruption\",\n",
    "                        \"gdp per capita\": \"gdp\", \"healthy life expectancy\": \"health\",\n",
    "                        \"social support\": \"family\"}, inplace=True)\n",
    "df_2019.columns = df_2019.columns.str.replace(\" \", \"_\")\n",
    "df_2019.columns"
   ]
  },
  {
   "cell_type": "code",
   "execution_count": 17,
   "metadata": {},
   "outputs": [
    {
     "data": {
      "text/plain": [
       "rank          0\n",
       "country       0\n",
       "score         0\n",
       "gdp           0\n",
       "family        0\n",
       "health        0\n",
       "freedom       0\n",
       "generosity    0\n",
       "corruption    0\n",
       "dtype: int64"
      ]
     },
     "execution_count": 17,
     "metadata": {},
     "output_type": "execute_result"
    }
   ],
   "source": [
    "df_2019.isna().sum()"
   ]
  },
  {
   "cell_type": "code",
   "execution_count": 18,
   "metadata": {},
   "outputs": [
    {
     "name": "stdout",
     "output_type": "stream",
     "text": [
      "2015:\n",
      " ['country', 'rank', 'score', 'gdp', 'family', 'health', 'freedom', 'corruption', 'generosity', 'dystopia']\n",
      "\n",
      "2016:\n",
      " ['country', 'rank', 'score', 'gdp', 'family', 'health', 'freedom', 'corruption', 'generosity', 'dystopia']\n",
      "\n",
      "2017:\n",
      " ['country', 'rank', 'score', 'gdp', 'family', 'health', 'freedom', 'generosity', 'corruption', 'dystopia']\n",
      "\n",
      "2018:\n",
      " ['rank', 'country', 'score', 'gdp', 'family', 'health', 'freedom', 'generosity', 'corruption']\n",
      "\n",
      "2019:\n",
      " ['rank', 'country', 'score', 'gdp', 'family', 'health', 'freedom', 'generosity', 'corruption']\n"
     ]
    }
   ],
   "source": [
    "# We printed out all the columns to compare them and make sure they are \n",
    "# named the same.\n",
    "\n",
    "def print_all_dataframe_columns():\n",
    "    print(\"2015:\\n\", df_2015.columns.to_list())\n",
    "    print(\"\\n2016:\\n\", df_2016.columns.to_list())\n",
    "    print(\"\\n2017:\\n\", df_2017.columns.to_list())\n",
    "    print(\"\\n2018:\\n\", df_2018.columns.to_list())\n",
    "    print(\"\\n2019:\\n\", df_2019.columns.to_list())\n",
    "    \n",
    "print_all_dataframe_columns()"
   ]
  },
  {
   "cell_type": "code",
   "execution_count": 19,
   "metadata": {
    "scrolled": false
   },
   "outputs": [
    {
     "data": {
      "text/plain": [
       "Index(['country', 'rank', 'score', 'gdp', 'family', 'health', 'freedom',\n",
       "       'generosity', 'corruption', 'dystopia', 'year'],\n",
       "      dtype='object')"
      ]
     },
     "execution_count": 19,
     "metadata": {},
     "output_type": "execute_result"
    }
   ],
   "source": [
    "# Our goal is to stack all of the csv files, but we still want to distinguish\n",
    "# which year each row of info came from, so we are adding a column with each year.\n",
    "\n",
    "df_2015['year'] = '2015'\n",
    "df_2016['year'] = '2016'\n",
    "df_2017['year'] = '2017'\n",
    "df_2018['year'] = '2018'\n",
    "df_2019['year'] = '2019'\n",
    "\n",
    "df_2017.columns\n"
   ]
  },
  {
   "cell_type": "code",
   "execution_count": 20,
   "metadata": {},
   "outputs": [
    {
     "data": {
      "text/html": [
       "<div>\n",
       "<style scoped>\n",
       "    .dataframe tbody tr th:only-of-type {\n",
       "        vertical-align: middle;\n",
       "    }\n",
       "\n",
       "    .dataframe tbody tr th {\n",
       "        vertical-align: top;\n",
       "    }\n",
       "\n",
       "    .dataframe thead th {\n",
       "        text-align: right;\n",
       "    }\n",
       "</style>\n",
       "<table border=\"1\" class=\"dataframe\">\n",
       "  <thead>\n",
       "    <tr style=\"text-align: right;\">\n",
       "      <th></th>\n",
       "      <th>country</th>\n",
       "      <th>rank</th>\n",
       "      <th>score</th>\n",
       "      <th>gdp</th>\n",
       "      <th>family</th>\n",
       "      <th>health</th>\n",
       "      <th>freedom</th>\n",
       "      <th>corruption</th>\n",
       "      <th>generosity</th>\n",
       "      <th>dystopia</th>\n",
       "      <th>year</th>\n",
       "    </tr>\n",
       "  </thead>\n",
       "  <tbody>\n",
       "    <tr>\n",
       "      <th>684</th>\n",
       "      <td>Honduras</td>\n",
       "      <td>59</td>\n",
       "      <td>5.860</td>\n",
       "      <td>0.642000</td>\n",
       "      <td>1.236000</td>\n",
       "      <td>0.828000</td>\n",
       "      <td>0.507000</td>\n",
       "      <td>0.07800</td>\n",
       "      <td>0.246000</td>\n",
       "      <td>NaN</td>\n",
       "      <td>2019</td>\n",
       "    </tr>\n",
       "    <tr>\n",
       "      <th>213</th>\n",
       "      <td>Russia</td>\n",
       "      <td>56</td>\n",
       "      <td>5.856</td>\n",
       "      <td>1.232280</td>\n",
       "      <td>1.052610</td>\n",
       "      <td>0.589910</td>\n",
       "      <td>0.326820</td>\n",
       "      <td>0.03586</td>\n",
       "      <td>0.027360</td>\n",
       "      <td>2.591150</td>\n",
       "      <td>2016</td>\n",
       "    </tr>\n",
       "    <tr>\n",
       "      <th>598</th>\n",
       "      <td>Armenia</td>\n",
       "      <td>129</td>\n",
       "      <td>4.321</td>\n",
       "      <td>0.816000</td>\n",
       "      <td>0.990000</td>\n",
       "      <td>0.666000</td>\n",
       "      <td>0.260000</td>\n",
       "      <td>0.02800</td>\n",
       "      <td>0.077000</td>\n",
       "      <td>NaN</td>\n",
       "      <td>2018</td>\n",
       "    </tr>\n",
       "    <tr>\n",
       "      <th>621</th>\n",
       "      <td>Yemen</td>\n",
       "      <td>152</td>\n",
       "      <td>3.355</td>\n",
       "      <td>0.442000</td>\n",
       "      <td>1.073000</td>\n",
       "      <td>0.343000</td>\n",
       "      <td>0.244000</td>\n",
       "      <td>0.06400</td>\n",
       "      <td>0.083000</td>\n",
       "      <td>NaN</td>\n",
       "      <td>2018</td>\n",
       "    </tr>\n",
       "    <tr>\n",
       "      <th>382</th>\n",
       "      <td>Libya</td>\n",
       "      <td>68</td>\n",
       "      <td>5.525</td>\n",
       "      <td>1.101803</td>\n",
       "      <td>1.357564</td>\n",
       "      <td>0.520169</td>\n",
       "      <td>0.465733</td>\n",
       "      <td>0.09261</td>\n",
       "      <td>0.152074</td>\n",
       "      <td>1.835011</td>\n",
       "      <td>2017</td>\n",
       "    </tr>\n",
       "  </tbody>\n",
       "</table>\n",
       "</div>"
      ],
      "text/plain": [
       "      country  rank  score       gdp    family    health   freedom  \\\n",
       "684  Honduras    59  5.860  0.642000  1.236000  0.828000  0.507000   \n",
       "213    Russia    56  5.856  1.232280  1.052610  0.589910  0.326820   \n",
       "598   Armenia   129  4.321  0.816000  0.990000  0.666000  0.260000   \n",
       "621     Yemen   152  3.355  0.442000  1.073000  0.343000  0.244000   \n",
       "382     Libya    68  5.525  1.101803  1.357564  0.520169  0.465733   \n",
       "\n",
       "     corruption  generosity  dystopia  year  \n",
       "684     0.07800    0.246000       NaN  2019  \n",
       "213     0.03586    0.027360  2.591150  2016  \n",
       "598     0.02800    0.077000       NaN  2018  \n",
       "621     0.06400    0.083000       NaN  2018  \n",
       "382     0.09261    0.152074  1.835011  2017  "
      ]
     },
     "execution_count": 20,
     "metadata": {},
     "output_type": "execute_result"
    }
   ],
   "source": [
    "main_data = pd.concat([df_2015, df_2016, df_2017, df_2018, df_2019]).reset_index(drop=True)\n",
    "main_data.shape\n",
    "main_data.sample(5)"
   ]
  },
  {
   "cell_type": "code",
   "execution_count": 21,
   "metadata": {},
   "outputs": [],
   "source": [
    "# We noticed that for the years 2018 and 2019 the dystopia value is missing \n",
    "\n",
    "\n",
    "df_2018[\"dystopia\"] = main_data[\"score\"] - main_data[\"gdp\"] - main_data[\"family\"] - main_data[\"health\"] - main_data[\"freedom\"] - main_data[\"corruption\"] - main_data[\"generosity\"]\n",
    "\n",
    "df_2019[\"dystopia\"] = main_data[\"score\"] - main_data[\"gdp\"] - main_data[\"family\"] - main_data[\"health\"] - main_data[\"freedom\"] - main_data[\"corruption\"] - main_data[\"generosity\"]\n",
    "\n"
   ]
  },
  {
   "cell_type": "code",
   "execution_count": 22,
   "metadata": {},
   "outputs": [
    {
     "data": {
      "text/html": [
       "<div>\n",
       "<style scoped>\n",
       "    .dataframe tbody tr th:only-of-type {\n",
       "        vertical-align: middle;\n",
       "    }\n",
       "\n",
       "    .dataframe tbody tr th {\n",
       "        vertical-align: top;\n",
       "    }\n",
       "\n",
       "    .dataframe thead th {\n",
       "        text-align: right;\n",
       "    }\n",
       "</style>\n",
       "<table border=\"1\" class=\"dataframe\">\n",
       "  <thead>\n",
       "    <tr style=\"text-align: right;\">\n",
       "      <th></th>\n",
       "      <th>country</th>\n",
       "      <th>rank</th>\n",
       "      <th>score</th>\n",
       "      <th>gdp</th>\n",
       "      <th>family</th>\n",
       "      <th>health</th>\n",
       "      <th>freedom</th>\n",
       "      <th>corruption</th>\n",
       "      <th>generosity</th>\n",
       "      <th>dystopia</th>\n",
       "      <th>year</th>\n",
       "    </tr>\n",
       "  </thead>\n",
       "  <tbody>\n",
       "    <tr>\n",
       "      <th>279</th>\n",
       "      <td>Kenya</td>\n",
       "      <td>122</td>\n",
       "      <td>4.356</td>\n",
       "      <td>0.522670</td>\n",
       "      <td>0.762400</td>\n",
       "      <td>0.301470</td>\n",
       "      <td>0.405760</td>\n",
       "      <td>0.066860</td>\n",
       "      <td>0.413280</td>\n",
       "      <td>1.883260</td>\n",
       "      <td>2016</td>\n",
       "    </tr>\n",
       "    <tr>\n",
       "      <th>266</th>\n",
       "      <td>Albania</td>\n",
       "      <td>109</td>\n",
       "      <td>4.655</td>\n",
       "      <td>0.955300</td>\n",
       "      <td>0.501630</td>\n",
       "      <td>0.730070</td>\n",
       "      <td>0.318660</td>\n",
       "      <td>0.053010</td>\n",
       "      <td>0.168400</td>\n",
       "      <td>1.928160</td>\n",
       "      <td>2016</td>\n",
       "    </tr>\n",
       "    <tr>\n",
       "      <th>408</th>\n",
       "      <td>Vietnam</td>\n",
       "      <td>94</td>\n",
       "      <td>5.074</td>\n",
       "      <td>0.788548</td>\n",
       "      <td>1.277491</td>\n",
       "      <td>0.652169</td>\n",
       "      <td>0.571056</td>\n",
       "      <td>0.087633</td>\n",
       "      <td>0.234968</td>\n",
       "      <td>1.462319</td>\n",
       "      <td>2017</td>\n",
       "    </tr>\n",
       "    <tr>\n",
       "      <th>49</th>\n",
       "      <td>Italy</td>\n",
       "      <td>50</td>\n",
       "      <td>5.948</td>\n",
       "      <td>1.251140</td>\n",
       "      <td>1.197770</td>\n",
       "      <td>0.954460</td>\n",
       "      <td>0.262360</td>\n",
       "      <td>0.029010</td>\n",
       "      <td>0.228230</td>\n",
       "      <td>2.025180</td>\n",
       "      <td>2015</td>\n",
       "    </tr>\n",
       "    <tr>\n",
       "      <th>21</th>\n",
       "      <td>Oman</td>\n",
       "      <td>22</td>\n",
       "      <td>6.853</td>\n",
       "      <td>1.360110</td>\n",
       "      <td>1.081820</td>\n",
       "      <td>0.762760</td>\n",
       "      <td>0.632740</td>\n",
       "      <td>0.325240</td>\n",
       "      <td>0.215420</td>\n",
       "      <td>2.474890</td>\n",
       "      <td>2015</td>\n",
       "    </tr>\n",
       "  </tbody>\n",
       "</table>\n",
       "</div>"
      ],
      "text/plain": [
       "     country  rank  score       gdp    family    health   freedom  corruption  \\\n",
       "279    Kenya   122  4.356  0.522670  0.762400  0.301470  0.405760    0.066860   \n",
       "266  Albania   109  4.655  0.955300  0.501630  0.730070  0.318660    0.053010   \n",
       "408  Vietnam    94  5.074  0.788548  1.277491  0.652169  0.571056    0.087633   \n",
       "49     Italy    50  5.948  1.251140  1.197770  0.954460  0.262360    0.029010   \n",
       "21      Oman    22  6.853  1.360110  1.081820  0.762760  0.632740    0.325240   \n",
       "\n",
       "     generosity  dystopia  year  \n",
       "279    0.413280  1.883260  2016  \n",
       "266    0.168400  1.928160  2016  \n",
       "408    0.234968  1.462319  2017  \n",
       "49     0.228230  2.025180  2015  \n",
       "21     0.215420  2.474890  2015  "
      ]
     },
     "execution_count": 22,
     "metadata": {},
     "output_type": "execute_result"
    }
   ],
   "source": [
    "dim_main_data = pd.concat([df_2015, df_2016, df_2017]).reset_index(drop=True)\n",
    "dim_main_data.sample(5)"
   ]
  },
  {
   "cell_type": "code",
   "execution_count": 23,
   "metadata": {},
   "outputs": [
    {
     "data": {
      "text/plain": [
       "country         0\n",
       "rank            0\n",
       "score           0\n",
       "gdp             0\n",
       "family          0\n",
       "health          0\n",
       "freedom         0\n",
       "corruption      1\n",
       "generosity      0\n",
       "dystopia      312\n",
       "year            0\n",
       "dtype: int64"
      ]
     },
     "execution_count": 23,
     "metadata": {},
     "output_type": "execute_result"
    }
   ],
   "source": [
    "main_data.country = main_data.country.str.lower().str.replace(\" \", \"_\")\n",
    "\n",
    "main_data.isna().sum()"
   ]
  },
  {
   "cell_type": "code",
   "execution_count": 24,
   "metadata": {},
   "outputs": [
    {
     "data": {
      "text/html": [
       "<div>\n",
       "<style scoped>\n",
       "    .dataframe tbody tr th:only-of-type {\n",
       "        vertical-align: middle;\n",
       "    }\n",
       "\n",
       "    .dataframe tbody tr th {\n",
       "        vertical-align: top;\n",
       "    }\n",
       "\n",
       "    .dataframe thead th {\n",
       "        text-align: right;\n",
       "    }\n",
       "</style>\n",
       "<table border=\"1\" class=\"dataframe\">\n",
       "  <thead>\n",
       "    <tr style=\"text-align: right;\">\n",
       "      <th></th>\n",
       "      <th>country</th>\n",
       "      <th>rank</th>\n",
       "      <th>score</th>\n",
       "      <th>gdp</th>\n",
       "      <th>family</th>\n",
       "      <th>health</th>\n",
       "      <th>freedom</th>\n",
       "      <th>corruption</th>\n",
       "      <th>generosity</th>\n",
       "      <th>dystopia</th>\n",
       "      <th>year</th>\n",
       "    </tr>\n",
       "  </thead>\n",
       "  <tbody>\n",
       "    <tr>\n",
       "      <th>470</th>\n",
       "      <td>finland</td>\n",
       "      <td>1</td>\n",
       "      <td>7.632</td>\n",
       "      <td>1.305</td>\n",
       "      <td>1.592</td>\n",
       "      <td>0.874</td>\n",
       "      <td>0.681</td>\n",
       "      <td>0.393</td>\n",
       "      <td>0.202</td>\n",
       "      <td>NaN</td>\n",
       "      <td>2018</td>\n",
       "    </tr>\n",
       "    <tr>\n",
       "      <th>471</th>\n",
       "      <td>norway</td>\n",
       "      <td>2</td>\n",
       "      <td>7.594</td>\n",
       "      <td>1.456</td>\n",
       "      <td>1.582</td>\n",
       "      <td>0.861</td>\n",
       "      <td>0.686</td>\n",
       "      <td>0.340</td>\n",
       "      <td>0.286</td>\n",
       "      <td>NaN</td>\n",
       "      <td>2018</td>\n",
       "    </tr>\n",
       "    <tr>\n",
       "      <th>472</th>\n",
       "      <td>denmark</td>\n",
       "      <td>3</td>\n",
       "      <td>7.555</td>\n",
       "      <td>1.351</td>\n",
       "      <td>1.590</td>\n",
       "      <td>0.868</td>\n",
       "      <td>0.683</td>\n",
       "      <td>0.408</td>\n",
       "      <td>0.284</td>\n",
       "      <td>NaN</td>\n",
       "      <td>2018</td>\n",
       "    </tr>\n",
       "    <tr>\n",
       "      <th>473</th>\n",
       "      <td>iceland</td>\n",
       "      <td>4</td>\n",
       "      <td>7.495</td>\n",
       "      <td>1.343</td>\n",
       "      <td>1.644</td>\n",
       "      <td>0.914</td>\n",
       "      <td>0.677</td>\n",
       "      <td>0.138</td>\n",
       "      <td>0.353</td>\n",
       "      <td>NaN</td>\n",
       "      <td>2018</td>\n",
       "    </tr>\n",
       "    <tr>\n",
       "      <th>474</th>\n",
       "      <td>switzerland</td>\n",
       "      <td>5</td>\n",
       "      <td>7.487</td>\n",
       "      <td>1.420</td>\n",
       "      <td>1.549</td>\n",
       "      <td>0.927</td>\n",
       "      <td>0.660</td>\n",
       "      <td>0.357</td>\n",
       "      <td>0.256</td>\n",
       "      <td>NaN</td>\n",
       "      <td>2018</td>\n",
       "    </tr>\n",
       "    <tr>\n",
       "      <th>...</th>\n",
       "      <td>...</td>\n",
       "      <td>...</td>\n",
       "      <td>...</td>\n",
       "      <td>...</td>\n",
       "      <td>...</td>\n",
       "      <td>...</td>\n",
       "      <td>...</td>\n",
       "      <td>...</td>\n",
       "      <td>...</td>\n",
       "      <td>...</td>\n",
       "      <td>...</td>\n",
       "    </tr>\n",
       "    <tr>\n",
       "      <th>777</th>\n",
       "      <td>rwanda</td>\n",
       "      <td>152</td>\n",
       "      <td>3.334</td>\n",
       "      <td>0.359</td>\n",
       "      <td>0.711</td>\n",
       "      <td>0.614</td>\n",
       "      <td>0.555</td>\n",
       "      <td>0.411</td>\n",
       "      <td>0.217</td>\n",
       "      <td>NaN</td>\n",
       "      <td>2019</td>\n",
       "    </tr>\n",
       "    <tr>\n",
       "      <th>778</th>\n",
       "      <td>tanzania</td>\n",
       "      <td>153</td>\n",
       "      <td>3.231</td>\n",
       "      <td>0.476</td>\n",
       "      <td>0.885</td>\n",
       "      <td>0.499</td>\n",
       "      <td>0.417</td>\n",
       "      <td>0.147</td>\n",
       "      <td>0.276</td>\n",
       "      <td>NaN</td>\n",
       "      <td>2019</td>\n",
       "    </tr>\n",
       "    <tr>\n",
       "      <th>779</th>\n",
       "      <td>afghanistan</td>\n",
       "      <td>154</td>\n",
       "      <td>3.203</td>\n",
       "      <td>0.350</td>\n",
       "      <td>0.517</td>\n",
       "      <td>0.361</td>\n",
       "      <td>0.000</td>\n",
       "      <td>0.025</td>\n",
       "      <td>0.158</td>\n",
       "      <td>NaN</td>\n",
       "      <td>2019</td>\n",
       "    </tr>\n",
       "    <tr>\n",
       "      <th>780</th>\n",
       "      <td>central_african_republic</td>\n",
       "      <td>155</td>\n",
       "      <td>3.083</td>\n",
       "      <td>0.026</td>\n",
       "      <td>0.000</td>\n",
       "      <td>0.105</td>\n",
       "      <td>0.225</td>\n",
       "      <td>0.035</td>\n",
       "      <td>0.235</td>\n",
       "      <td>NaN</td>\n",
       "      <td>2019</td>\n",
       "    </tr>\n",
       "    <tr>\n",
       "      <th>781</th>\n",
       "      <td>south_sudan</td>\n",
       "      <td>156</td>\n",
       "      <td>2.853</td>\n",
       "      <td>0.306</td>\n",
       "      <td>0.575</td>\n",
       "      <td>0.295</td>\n",
       "      <td>0.010</td>\n",
       "      <td>0.091</td>\n",
       "      <td>0.202</td>\n",
       "      <td>NaN</td>\n",
       "      <td>2019</td>\n",
       "    </tr>\n",
       "  </tbody>\n",
       "</table>\n",
       "<p>313 rows × 11 columns</p>\n",
       "</div>"
      ],
      "text/plain": [
       "                      country  rank  score    gdp  family  health  freedom  \\\n",
       "470                   finland     1  7.632  1.305   1.592   0.874    0.681   \n",
       "471                    norway     2  7.594  1.456   1.582   0.861    0.686   \n",
       "472                   denmark     3  7.555  1.351   1.590   0.868    0.683   \n",
       "473                   iceland     4  7.495  1.343   1.644   0.914    0.677   \n",
       "474               switzerland     5  7.487  1.420   1.549   0.927    0.660   \n",
       "..                        ...   ...    ...    ...     ...     ...      ...   \n",
       "777                    rwanda   152  3.334  0.359   0.711   0.614    0.555   \n",
       "778                  tanzania   153  3.231  0.476   0.885   0.499    0.417   \n",
       "779               afghanistan   154  3.203  0.350   0.517   0.361    0.000   \n",
       "780  central_african_republic   155  3.083  0.026   0.000   0.105    0.225   \n",
       "781               south_sudan   156  2.853  0.306   0.575   0.295    0.010   \n",
       "\n",
       "     corruption  generosity  dystopia  year  \n",
       "470       0.393       0.202       NaN  2018  \n",
       "471       0.340       0.286       NaN  2018  \n",
       "472       0.408       0.284       NaN  2018  \n",
       "473       0.138       0.353       NaN  2018  \n",
       "474       0.357       0.256       NaN  2018  \n",
       "..          ...         ...       ...   ...  \n",
       "777       0.411       0.217       NaN  2019  \n",
       "778       0.147       0.276       NaN  2019  \n",
       "779       0.025       0.158       NaN  2019  \n",
       "780       0.035       0.235       NaN  2019  \n",
       "781       0.091       0.202       NaN  2019  \n",
       "\n",
       "[313 rows x 11 columns]"
      ]
     },
     "execution_count": 24,
     "metadata": {},
     "output_type": "execute_result"
    }
   ],
   "source": [
    "main_data[main_data.isna().values]"
   ]
  },
  {
   "cell_type": "code",
   "execution_count": 25,
   "metadata": {},
   "outputs": [
    {
     "data": {
      "text/html": [
       "<div>\n",
       "<style scoped>\n",
       "    .dataframe tbody tr th:only-of-type {\n",
       "        vertical-align: middle;\n",
       "    }\n",
       "\n",
       "    .dataframe tbody tr th {\n",
       "        vertical-align: top;\n",
       "    }\n",
       "\n",
       "    .dataframe thead th {\n",
       "        text-align: right;\n",
       "    }\n",
       "</style>\n",
       "<table border=\"1\" class=\"dataframe\">\n",
       "  <thead>\n",
       "    <tr style=\"text-align: right;\">\n",
       "      <th></th>\n",
       "      <th>country</th>\n",
       "      <th>rank</th>\n",
       "      <th>score</th>\n",
       "      <th>gdp</th>\n",
       "      <th>family</th>\n",
       "      <th>health</th>\n",
       "      <th>freedom</th>\n",
       "      <th>corruption</th>\n",
       "      <th>generosity</th>\n",
       "      <th>dystopia</th>\n",
       "      <th>year</th>\n",
       "    </tr>\n",
       "  </thead>\n",
       "  <tbody>\n",
       "    <tr>\n",
       "      <th>19</th>\n",
       "      <td>united_arab_emirates</td>\n",
       "      <td>20</td>\n",
       "      <td>6.901</td>\n",
       "      <td>1.427270</td>\n",
       "      <td>1.12575</td>\n",
       "      <td>0.809250</td>\n",
       "      <td>0.641570</td>\n",
       "      <td>0.38583</td>\n",
       "      <td>0.264280</td>\n",
       "      <td>2.247430</td>\n",
       "      <td>2015</td>\n",
       "    </tr>\n",
       "    <tr>\n",
       "      <th>185</th>\n",
       "      <td>united_arab_emirates</td>\n",
       "      <td>28</td>\n",
       "      <td>6.573</td>\n",
       "      <td>1.573520</td>\n",
       "      <td>0.87114</td>\n",
       "      <td>0.729930</td>\n",
       "      <td>0.562150</td>\n",
       "      <td>0.35561</td>\n",
       "      <td>0.265910</td>\n",
       "      <td>2.215070</td>\n",
       "      <td>2016</td>\n",
       "    </tr>\n",
       "    <tr>\n",
       "      <th>335</th>\n",
       "      <td>united_arab_emirates</td>\n",
       "      <td>21</td>\n",
       "      <td>6.648</td>\n",
       "      <td>1.626343</td>\n",
       "      <td>1.26641</td>\n",
       "      <td>0.726798</td>\n",
       "      <td>0.608345</td>\n",
       "      <td>0.32449</td>\n",
       "      <td>0.360942</td>\n",
       "      <td>1.734704</td>\n",
       "      <td>2017</td>\n",
       "    </tr>\n",
       "    <tr>\n",
       "      <th>489</th>\n",
       "      <td>united_arab_emirates</td>\n",
       "      <td>20</td>\n",
       "      <td>6.774</td>\n",
       "      <td>2.096000</td>\n",
       "      <td>0.77600</td>\n",
       "      <td>0.670000</td>\n",
       "      <td>0.284000</td>\n",
       "      <td>NaN</td>\n",
       "      <td>0.186000</td>\n",
       "      <td>NaN</td>\n",
       "      <td>2018</td>\n",
       "    </tr>\n",
       "    <tr>\n",
       "      <th>646</th>\n",
       "      <td>united_arab_emirates</td>\n",
       "      <td>21</td>\n",
       "      <td>6.825</td>\n",
       "      <td>1.503000</td>\n",
       "      <td>1.31000</td>\n",
       "      <td>0.825000</td>\n",
       "      <td>0.598000</td>\n",
       "      <td>0.18200</td>\n",
       "      <td>0.262000</td>\n",
       "      <td>NaN</td>\n",
       "      <td>2019</td>\n",
       "    </tr>\n",
       "  </tbody>\n",
       "</table>\n",
       "</div>"
      ],
      "text/plain": [
       "                  country  rank  score       gdp   family    health   freedom  \\\n",
       "19   united_arab_emirates    20  6.901  1.427270  1.12575  0.809250  0.641570   \n",
       "185  united_arab_emirates    28  6.573  1.573520  0.87114  0.729930  0.562150   \n",
       "335  united_arab_emirates    21  6.648  1.626343  1.26641  0.726798  0.608345   \n",
       "489  united_arab_emirates    20  6.774  2.096000  0.77600  0.670000  0.284000   \n",
       "646  united_arab_emirates    21  6.825  1.503000  1.31000  0.825000  0.598000   \n",
       "\n",
       "     corruption  generosity  dystopia  year  \n",
       "19      0.38583    0.264280  2.247430  2015  \n",
       "185     0.35561    0.265910  2.215070  2016  \n",
       "335     0.32449    0.360942  1.734704  2017  \n",
       "489         NaN    0.186000       NaN  2018  \n",
       "646     0.18200    0.262000       NaN  2019  "
      ]
     },
     "execution_count": 25,
     "metadata": {},
     "output_type": "execute_result"
    }
   ],
   "source": [
    "main_data.loc[main_data.country == \"united_arab_emirates\"]"
   ]
  },
  {
   "cell_type": "code",
   "execution_count": 26,
   "metadata": {},
   "outputs": [],
   "source": [
    "avg_corruption = main_data.loc[main_data.country == \"united_arab_emirates\", \"corruption\"].mean()\n",
    "main_data.corruption.fillna(avg_corruption, inplace=True)\n"
   ]
  },
  {
   "cell_type": "code",
   "execution_count": 27,
   "metadata": {},
   "outputs": [
    {
     "data": {
      "text/plain": [
       "True"
      ]
     },
     "execution_count": 27,
     "metadata": {},
     "output_type": "execute_result"
    }
   ],
   "source": [
    "main_data.isna().sum().any()"
   ]
  },
  {
   "cell_type": "code",
   "execution_count": 28,
   "metadata": {},
   "outputs": [
    {
     "data": {
      "text/html": [
       "<div>\n",
       "<style scoped>\n",
       "    .dataframe tbody tr th:only-of-type {\n",
       "        vertical-align: middle;\n",
       "    }\n",
       "\n",
       "    .dataframe tbody tr th {\n",
       "        vertical-align: top;\n",
       "    }\n",
       "\n",
       "    .dataframe thead th {\n",
       "        text-align: right;\n",
       "    }\n",
       "</style>\n",
       "<table border=\"1\" class=\"dataframe\">\n",
       "  <thead>\n",
       "    <tr style=\"text-align: right;\">\n",
       "      <th></th>\n",
       "      <th>country</th>\n",
       "      <th>rank</th>\n",
       "      <th>score</th>\n",
       "      <th>gdp</th>\n",
       "      <th>family</th>\n",
       "      <th>health</th>\n",
       "      <th>freedom</th>\n",
       "      <th>corruption</th>\n",
       "      <th>generosity</th>\n",
       "      <th>dystopia</th>\n",
       "      <th>year</th>\n",
       "    </tr>\n",
       "  </thead>\n",
       "  <tbody>\n",
       "    <tr>\n",
       "      <th>664</th>\n",
       "      <td>trinidad_&amp;_tobago</td>\n",
       "      <td>39</td>\n",
       "      <td>6.192</td>\n",
       "      <td>1.231000</td>\n",
       "      <td>1.477000</td>\n",
       "      <td>0.713000</td>\n",
       "      <td>0.489000</td>\n",
       "      <td>0.016000</td>\n",
       "      <td>0.185000</td>\n",
       "      <td>NaN</td>\n",
       "      <td>2019</td>\n",
       "    </tr>\n",
       "    <tr>\n",
       "      <th>180</th>\n",
       "      <td>united_kingdom</td>\n",
       "      <td>23</td>\n",
       "      <td>6.725</td>\n",
       "      <td>1.402830</td>\n",
       "      <td>1.086720</td>\n",
       "      <td>0.809910</td>\n",
       "      <td>0.500360</td>\n",
       "      <td>0.273990</td>\n",
       "      <td>0.501560</td>\n",
       "      <td>2.14999</td>\n",
       "      <td>2016</td>\n",
       "    </tr>\n",
       "    <tr>\n",
       "      <th>121</th>\n",
       "      <td>ethiopia</td>\n",
       "      <td>122</td>\n",
       "      <td>4.512</td>\n",
       "      <td>0.190730</td>\n",
       "      <td>0.604060</td>\n",
       "      <td>0.440550</td>\n",
       "      <td>0.434500</td>\n",
       "      <td>0.150480</td>\n",
       "      <td>0.243250</td>\n",
       "      <td>2.44876</td>\n",
       "      <td>2015</td>\n",
       "    </tr>\n",
       "    <tr>\n",
       "      <th>428</th>\n",
       "      <td>myanmar</td>\n",
       "      <td>114</td>\n",
       "      <td>4.545</td>\n",
       "      <td>0.367111</td>\n",
       "      <td>1.123236</td>\n",
       "      <td>0.397523</td>\n",
       "      <td>0.514492</td>\n",
       "      <td>0.188816</td>\n",
       "      <td>0.838075</td>\n",
       "      <td>1.11529</td>\n",
       "      <td>2017</td>\n",
       "    </tr>\n",
       "    <tr>\n",
       "      <th>78</th>\n",
       "      <td>bhutan</td>\n",
       "      <td>79</td>\n",
       "      <td>5.253</td>\n",
       "      <td>0.770420</td>\n",
       "      <td>1.103950</td>\n",
       "      <td>0.574070</td>\n",
       "      <td>0.532060</td>\n",
       "      <td>0.154450</td>\n",
       "      <td>0.479980</td>\n",
       "      <td>1.63794</td>\n",
       "      <td>2015</td>\n",
       "    </tr>\n",
       "  </tbody>\n",
       "</table>\n",
       "</div>"
      ],
      "text/plain": [
       "               country  rank  score       gdp    family    health   freedom  \\\n",
       "664  trinidad_&_tobago    39  6.192  1.231000  1.477000  0.713000  0.489000   \n",
       "180     united_kingdom    23  6.725  1.402830  1.086720  0.809910  0.500360   \n",
       "121           ethiopia   122  4.512  0.190730  0.604060  0.440550  0.434500   \n",
       "428            myanmar   114  4.545  0.367111  1.123236  0.397523  0.514492   \n",
       "78              bhutan    79  5.253  0.770420  1.103950  0.574070  0.532060   \n",
       "\n",
       "     corruption  generosity  dystopia  year  \n",
       "664    0.016000    0.185000       NaN  2019  \n",
       "180    0.273990    0.501560   2.14999  2016  \n",
       "121    0.150480    0.243250   2.44876  2015  \n",
       "428    0.188816    0.838075   1.11529  2017  \n",
       "78     0.154450    0.479980   1.63794  2015  "
      ]
     },
     "execution_count": 28,
     "metadata": {},
     "output_type": "execute_result"
    }
   ],
   "source": [
    "main_data.sample(5)"
   ]
  },
  {
   "cell_type": "code",
   "execution_count": 29,
   "metadata": {},
   "outputs": [
    {
     "data": {
      "image/png": "[encoded data removed]",
      "text/plain": [
       "<Figure size 864x720 with 2 Axes>"
      ]
     },
     "metadata": {
      "needs_background": "light"
     },
     "output_type": "display_data"
    },
    {
     "data": {
      "text/plain": [
       "<Figure size 432x288 with 0 Axes>"
      ]
     },
     "metadata": {},
     "output_type": "display_data"
    }
   ],
   "source": [
    "#correlation map  2015-2019\n",
    "\n",
    "categories = [\"score\", \"gdp\", \"generosity\", \"freedom\", \"corruption\", \"health\", \"family\"]\n",
    "fig, ax = plt.subplots(figsize= (12, 10))\n",
    "sn.heatmap(main_data[categories].corr(), annot=True, cmap=\"Blues\", linewidths=.5, fmt=\".1f\", ax=ax)\n",
    "plt.show()\n",
    "\n",
    "plt.savefig('Graphs/heatmap_main_data.png')\n",
    "\n",
    "#the happiness score has a strong linear relationship with GDP and Family (Social Support, and health (healthy life expectancy\n",
    "#the happiness score is least correlated with generosity"
   ]
  },
  {
   "cell_type": "code",
   "execution_count": 30,
   "metadata": {},
   "outputs": [
    {
     "data": {
      "image/png": "[encoded data removed]",
      "text/plain": [
       "<Figure size 864x720 with 2 Axes>"
      ]
     },
     "metadata": {
      "needs_background": "light"
     },
     "output_type": "display_data"
    }
   ],
   "source": [
    "categories = [\"score\", \"gdp\", \"generosity\", \"freedom\", \"corruption\", \"health\", \"family\"]\n",
    "fig, ax = plt.subplots(figsize= (12, 10))\n",
    "sn.heatmap(dim_main_data[categories].corr(), annot=True, cmap=\"Blues\", linewidths=.5, fmt=\".1f\", ax=ax)\n",
    "plt.show()\n",
    "\n"
   ]
  },
  {
   "cell_type": "code",
   "execution_count": 31,
   "metadata": {},
   "outputs": [
    {
     "data": {
      "image/png": "[encoded data removed]",
      "text/plain": [
       "<Figure size 432x288 with 1 Axes>"
      ]
     },
     "metadata": {
      "needs_background": "light"
     },
     "output_type": "display_data"
    },
    {
     "data": {
      "text/plain": [
       "<Figure size 432x288 with 0 Axes>"
      ]
     },
     "metadata": {},
     "output_type": "display_data"
    }
   ],
   "source": [
    "#since GDP seems to have the greatest correlation with the happiness score, lets look at a linear regresion of the two\n",
    "linear_regression = LinearRegression()\n",
    "\n",
    "x = main_data.score.values.reshape(-1, 1)\n",
    "y = main_data[\"gdp\"].values.reshape(-1,1)\n",
    "\n",
    "\n",
    "\n",
    "linear_regression.fit(x,y)\n",
    "\n",
    "plt.scatter(main_data[\"score\"], main_data[\"gdp\"])\n",
    "y_head = linear_regression.predict(x)\n",
    "plt.plot(x, y_head, color = \"red\")\n",
    "plt.xlabel(\"Happiness Score\")\n",
    "plt.ylabel(\"GDP Score\")\n",
    "\n",
    "plt.show()\n",
    "\n",
    "\n",
    "\n",
    "\n",
    "plt.savefig('Graphs/gdp_score_lineregression.png')\n"
   ]
  },
  {
   "cell_type": "code",
   "execution_count": 34,
   "metadata": {},
   "outputs": [
    {
     "data": {
      "image/png": "[encoded data removed]",
      "text/plain": [
       "<Figure size 432x288 with 1 Axes>"
      ]
     },
     "metadata": {
      "needs_background": "light"
     },
     "output_type": "display_data"
    },
    {
     "data": {
      "text/plain": [
       "<Figure size 432x288 with 0 Axes>"
      ]
     },
     "metadata": {},
     "output_type": "display_data"
    }
   ],
   "source": [
    "linear_regression = LinearRegression()\n",
    "\n",
    "x = main_data.score.values.reshape(-1, 1)\n",
    "y = main_data[\"generosity\"].values.reshape(-1,1)\n",
    "\n",
    "linear_regression.fit(x,y)\n",
    "\n",
    "plt.scatter(main_data[\"score\"], main_data[\"generosity\"])\n",
    "y_head = linear_regression.predict(x)\n",
    "plt.plot(x, y_head, color = \"red\")\n",
    "plt.xlabel(\"Happiness Score\")\n",
    "plt.ylabel(\"Generosity\")\n",
    "\n",
    "plt.show()\n",
    "\n",
    "plt.savefig('Graphs/final_generosity_score_lineregression.png')\n",
    "\n"
   ]
  },
  {
   "cell_type": "code",
   "execution_count": 36,
   "metadata": {},
   "outputs": [
    {
     "data": {
      "image/png": "[encoded data removed]",
      "text/plain": [
       "<Figure size 432x288 with 1 Axes>"
      ]
     },
     "metadata": {
      "needs_background": "light"
     },
     "output_type": "display_data"
    },
    {
     "name": "stdout",
     "output_type": "stream",
     "text": [
      "r_square score:  0.14235428752054957\n"
     ]
    }
   ],
   "source": [
    "x=df_2019.score.values.reshape(-1,1)\n",
    "y=df_2019[\"generosity\"].values.reshape(-1,1)\n",
    "plt.scatter(df_2019[\"score\"],df_2019[\"generosity\"],color=\"yellow\")\n",
    "\n",
    "polynomial_regression=PolynomialFeatures(degree=15)\n",
    "x_polynomial=polynomial_regression.fit_transform(x)\n",
    "\n",
    "#%% fit\n",
    "linear_regression2=LinearRegression()\n",
    "linear_regression2.fit(x_polynomial,y)\n",
    "\n",
    "#%%\n",
    "y_head2=linear_regression2.predict(x_polynomial)\n",
    "\n",
    "plt.plot(x,y_head2,color=\"purple\",label=\"poly\")\n",
    "plt.legend()\n",
    "plt.show()\n",
    "\n",
    "from sklearn.metrics import r2_score\n",
    "print(\"r_square score: \",r2_score(y,y_head2))\n"
   ]
  },
  {
   "cell_type": "code",
   "execution_count": null,
   "metadata": {
    "scrolled": true
   },
   "outputs": [],
   "source": [
    "x=df_2019[\"generosity\"].values.reshape(-1,1)\n",
    "y=df_2019[\"score\"].values.reshape(-1,1).ravel()\n",
    "\n",
    "rf=RandomForestRegressor(n_estimators=100,random_state=42)\n",
    "rf.fit(x,y)\n",
    "\n",
    "y_head=rf.predict(x)\n",
    "\n",
    "#%% R-Square\n",
    "from sklearn.metrics import r2_score\n",
    "print(\"r_square: \",r2_score(y,y_head))\n",
    "\n",
    "x_=np.arange(min(x),max(x),0.01).reshape(-1,1)\n",
    "y_head=rf.predict(x_)\n",
    "\n",
    "#%% Visualize\n",
    "plt.scatter(x,y,color=\"red\")\n",
    "plt.plot(x_,y_head,color=\"green\")\n",
    "plt.xlabel(\"generosity\")\n",
    "plt.ylabel(\"score\")\n",
    "plt.show()"
   ]
  },
  {
   "cell_type": "code",
   "execution_count": null,
   "metadata": {},
   "outputs": [],
   "source": [
    "linear_regression = LinearRegression()\n",
    "\n",
    "x = main_data.score.values.reshape(-1, 1)\n",
    "y = main_data[\"family\"].values.reshape(-1,1)\n",
    "\n",
    "linear_regression.fit(x,y)\n",
    "\n",
    "plt.scatter(main_data[\"score\"], main_data[\"family\"])\n",
    "y_head = linear_regression.predict(x)\n",
    "plt.plot(x, y_head, color = \"red\")\n",
    "plt.xlabel(\"Happiness Score\")\n",
    "plt.ylabel(\"Family\")\n",
    "\n",
    "plt.show()\n",
    "\n",
    "plt.savefig('Graphs/family_score_lineregression.png')"
   ]
  },
  {
   "cell_type": "code",
   "execution_count": null,
   "metadata": {},
   "outputs": [],
   "source": [
    "linear_regression = LinearRegression()\n",
    "\n",
    "x = main_data.score.values.reshape(-1, 1)\n",
    "y = main_data[\"health\"].values.reshape(-1,1)\n",
    "\n",
    "linear_regression.fit(x,y)\n",
    "\n",
    "plt.scatter(main_data[\"score\"], main_data[\"health\"])\n",
    "y_head = linear_regression.predict(x)\n",
    "plt.plot(x, y_head, color = \"red\")\n",
    "plt.xlabel(\"Happiness Score\")\n",
    "plt.ylabel(\"Health\")\n",
    "\n",
    "plt.show()\n",
    "\n",
    "plt.savefig('Graphs/health_score_lineregression.png')"
   ]
  },
  {
   "cell_type": "code",
   "execution_count": null,
   "metadata": {},
   "outputs": [],
   "source": [
    "linear_regression = LinearRegression()\n",
    "x = main_data.score.values.reshape(-1, 1)\n",
    "y = main_data[\"freedom\"].values.reshape(-1,1)\n",
    "linear_regression.fit(x,y)\n",
    "plt.scatter(main_data[\"score\"], main_data[\"freedom\"])\n",
    "y_head = linear_regression.predict(x)\n",
    "plt.plot(x, y_head, color = \"red\")\n",
    "plt.xlabel(\"Happiness Score\")\n",
    "plt.ylabel(\"Freedom\")\n",
    "plt.show()\n",
    "plt.savefig('Graphs/freedom_score_lineregression.png')"
   ]
  },
  {
   "cell_type": "code",
   "execution_count": null,
   "metadata": {},
   "outputs": [],
   "source": [
    "#correlation coefficient computation\n",
    "\n",
    "score = main_data.iloc[:, 2]\n",
    "gdp = main_data.iloc[:, 3]\n",
    "correlation = st.pearsonr(score, gdp)\n",
    "print(f\"The correlation between both factors is {round(correlation[0],2)}\")\n",
    "\n",
    "plt.show()"
   ]
  },
  {
   "cell_type": "code",
   "execution_count": null,
   "metadata": {},
   "outputs": [],
   "source": []
  },
  {
   "cell_type": "code",
   "execution_count": null,
   "metadata": {},
   "outputs": [],
   "source": [
    "play_data = np.random.normal(loc = 20, scale = 5, size=100)   \n",
    "st.probplot(play_data, dist=\"norm\", plot=pylab)\n",
    "pylab.show()"
   ]
  },
  {
   "cell_type": "code",
   "execution_count": null,
   "metadata": {},
   "outputs": [],
   "source": []
  }
 ],
 "metadata": {
  "kernelspec": {
   "display_name": "Python [conda env:PythonData] *",
   "language": "python",
   "name": "conda-env-PythonData-py"
  },
  "language_info": {
   "codemirror_mode": {
    "name": "ipython",
    "version": 3
   },
   "file_extension": ".py",
   "mimetype": "text/x-python",
   "name": "python",
   "nbconvert_exporter": "python",
   "pygments_lexer": "ipython3",
   "version": "3.6.10"
  }
 },
 "nbformat": 4,
 "nbformat_minor": 4
}
