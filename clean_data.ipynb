{
 "cells": [
  {
   "cell_type": "code",
   "execution_count": 47,
   "metadata": {},
   "outputs": [],
   "source": [
    "import matplotlib.pyplot as plt\n",
    "import pandas as pd\n",
    "import numpy as np\n",
    "from scipy.stats import linregress\n",
    "import seaborn as sn\n",
    "from collections import Counter \n",
    "from sklearn.linear_model import LinearRegression\n",
    "import scipy.stats as st\n",
    "\n",
    "import pylab\n",
    "\n",
    "import statsmodels.api as sm\n"
   ]
  },
  {
   "cell_type": "code",
   "execution_count": 2,
   "metadata": {},
   "outputs": [],
   "source": [
    "#These are the 5 sets of raw data that we have.\n",
    "\n",
    "file = \"csv_data/2015.csv\"\n",
    "file1 = \"csv_data/2016.csv\"\n",
    "file2 = \"csv_data/2017.csv\"\n",
    "file3 = \"csv_data/2018.csv\"\n",
    "file4 = \"csv_data/2019.csv\""
   ]
  },
  {
   "cell_type": "code",
   "execution_count": 3,
   "metadata": {},
   "outputs": [],
   "source": [
    "# Dataframes by year.\n",
    "\n",
    "df_2015 = pd.read_csv(file)\n",
    "df_2016 = pd.read_csv(file1)\n",
    "df_2017 = pd.read_csv(file2)\n",
    "df_2018 = pd.read_csv(file3)\n",
    "df_2019 = pd.read_csv(file4)"
   ]
  },
  {
   "cell_type": "code",
   "execution_count": 4,
   "metadata": {},
   "outputs": [
    {
     "name": "stdout",
     "output_type": "stream",
     "text": [
      "2015:  (158, 12)\n",
      "2016:  (157, 13)\n",
      "2017:  (155, 12)\n",
      "2018:  (156, 9)\n",
      "2019:  (156, 9)\n"
     ]
    }
   ],
   "source": [
    "# Here we started the process of checking what our csvs looked like.\n",
    "#We were interested in the # of rows and columns in each csv file. \n",
    "\n",
    "print(\"2015: \", df_2015.shape)\n",
    "print(\"2016: \", df_2016.shape)\n",
    "print(\"2017: \", df_2017.shape)\n",
    "print(\"2018: \", df_2018.shape)\n",
    "print(\"2019: \", df_2019.shape)"
   ]
  },
  {
   "cell_type": "code",
   "execution_count": 5,
   "metadata": {},
   "outputs": [
    {
     "data": {
      "text/plain": [
       "Country                          0\n",
       "Region                           0\n",
       "Happiness Rank                   0\n",
       "Happiness Score                  0\n",
       "Standard Error                   0\n",
       "Economy (GDP per Capita)         0\n",
       "Family                           0\n",
       "Health (Life Expectancy)         0\n",
       "Freedom                          0\n",
       "Trust (Government Corruption)    0\n",
       "Generosity                       0\n",
       "Dystopia Residual                0\n",
       "dtype: int64"
      ]
     },
     "execution_count": 5,
     "metadata": {},
     "output_type": "execute_result"
    }
   ],
   "source": [
    "# Next, we checked for any empty values in each individual year. Here we can see that 2015 did not have any empty values. \n",
    "df_2015.isna().sum()"
   ]
  },
  {
   "cell_type": "code",
   "execution_count": 6,
   "metadata": {},
   "outputs": [
    {
     "data": {
      "text/plain": [
       "Index(['country', 'region', 'rank', 'score', 'standard error', 'gdp', 'family',\n",
       "       'health', 'freedom', 'corruption', 'generosity', 'dystopia'],\n",
       "      dtype='object')"
      ]
     },
     "execution_count": 6,
     "metadata": {},
     "output_type": "execute_result"
    }
   ],
   "source": [
    "# After looking at the components of each year, we noticed the column names varied, so we decided to rename and drop columns\n",
    "# so that all the years matched. \n",
    "df_2015.rename(columns={'Happiness Rank':'rank', 'Happiness Score':'score', 'Economy (GDP per Capita)': 'gdp',\n",
    "                      'Health (Life Expectancy)': 'health', 'Trust (Government Corruption)': 'corruption',\n",
    "                      \"Dystopia Residual\": \"dystopia\"},\n",
    "                        inplace = True)\n",
    "df_2015.columns = df_2015.columns.str.lower()\n",
    "df_2015.columns"
   ]
  },
  {
   "cell_type": "code",
   "execution_count": 7,
   "metadata": {},
   "outputs": [
    {
     "data": {
      "text/html": [
       "<div>\n",
       "<style scoped>\n",
       "    .dataframe tbody tr th:only-of-type {\n",
       "        vertical-align: middle;\n",
       "    }\n",
       "\n",
       "    .dataframe tbody tr th {\n",
       "        vertical-align: top;\n",
       "    }\n",
       "\n",
       "    .dataframe thead th {\n",
       "        text-align: right;\n",
       "    }\n",
       "</style>\n",
       "<table border=\"1\" class=\"dataframe\">\n",
       "  <thead>\n",
       "    <tr style=\"text-align: right;\">\n",
       "      <th></th>\n",
       "      <th>country</th>\n",
       "      <th>rank</th>\n",
       "      <th>score</th>\n",
       "      <th>gdp</th>\n",
       "      <th>family</th>\n",
       "      <th>health</th>\n",
       "      <th>freedom</th>\n",
       "      <th>corruption</th>\n",
       "      <th>generosity</th>\n",
       "      <th>dystopia</th>\n",
       "    </tr>\n",
       "  </thead>\n",
       "  <tbody>\n",
       "    <tr>\n",
       "      <th>79</th>\n",
       "      <td>Azerbaijan</td>\n",
       "      <td>80</td>\n",
       "      <td>5.212</td>\n",
       "      <td>1.02389</td>\n",
       "      <td>0.93793</td>\n",
       "      <td>0.64045</td>\n",
       "      <td>0.37030</td>\n",
       "      <td>0.16065</td>\n",
       "      <td>0.07799</td>\n",
       "      <td>2.00073</td>\n",
       "    </tr>\n",
       "    <tr>\n",
       "      <th>109</th>\n",
       "      <td>Iran</td>\n",
       "      <td>110</td>\n",
       "      <td>4.686</td>\n",
       "      <td>1.00880</td>\n",
       "      <td>0.54447</td>\n",
       "      <td>0.69805</td>\n",
       "      <td>0.30033</td>\n",
       "      <td>0.05863</td>\n",
       "      <td>0.38086</td>\n",
       "      <td>1.69440</td>\n",
       "    </tr>\n",
       "    <tr>\n",
       "      <th>85</th>\n",
       "      <td>Romania</td>\n",
       "      <td>86</td>\n",
       "      <td>5.124</td>\n",
       "      <td>1.04345</td>\n",
       "      <td>0.88588</td>\n",
       "      <td>0.76890</td>\n",
       "      <td>0.35068</td>\n",
       "      <td>0.00649</td>\n",
       "      <td>0.13748</td>\n",
       "      <td>1.93129</td>\n",
       "    </tr>\n",
       "    <tr>\n",
       "      <th>93</th>\n",
       "      <td>Mozambique</td>\n",
       "      <td>94</td>\n",
       "      <td>4.971</td>\n",
       "      <td>0.08308</td>\n",
       "      <td>1.02626</td>\n",
       "      <td>0.09131</td>\n",
       "      <td>0.34037</td>\n",
       "      <td>0.15603</td>\n",
       "      <td>0.22269</td>\n",
       "      <td>3.05137</td>\n",
       "    </tr>\n",
       "    <tr>\n",
       "      <th>122</th>\n",
       "      <td>Sierra Leone</td>\n",
       "      <td>123</td>\n",
       "      <td>4.507</td>\n",
       "      <td>0.33024</td>\n",
       "      <td>0.95571</td>\n",
       "      <td>0.00000</td>\n",
       "      <td>0.40840</td>\n",
       "      <td>0.08786</td>\n",
       "      <td>0.21488</td>\n",
       "      <td>2.51009</td>\n",
       "    </tr>\n",
       "  </tbody>\n",
       "</table>\n",
       "</div>"
      ],
      "text/plain": [
       "          country  rank  score      gdp   family   health  freedom  \\\n",
       "79     Azerbaijan    80  5.212  1.02389  0.93793  0.64045  0.37030   \n",
       "109          Iran   110  4.686  1.00880  0.54447  0.69805  0.30033   \n",
       "85        Romania    86  5.124  1.04345  0.88588  0.76890  0.35068   \n",
       "93     Mozambique    94  4.971  0.08308  1.02626  0.09131  0.34037   \n",
       "122  Sierra Leone   123  4.507  0.33024  0.95571  0.00000  0.40840   \n",
       "\n",
       "     corruption  generosity  dystopia  \n",
       "79      0.16065     0.07799   2.00073  \n",
       "109     0.05863     0.38086   1.69440  \n",
       "85      0.00649     0.13748   1.93129  \n",
       "93      0.15603     0.22269   3.05137  \n",
       "122     0.08786     0.21488   2.51009  "
      ]
     },
     "execution_count": 7,
     "metadata": {},
     "output_type": "execute_result"
    }
   ],
   "source": [
    "df_2015.drop(columns = ['region', 'standard error'], inplace = True)\n",
    "df_2015.sample(5)"
   ]
  },
  {
   "cell_type": "code",
   "execution_count": 8,
   "metadata": {},
   "outputs": [
    {
     "data": {
      "text/plain": [
       "Country                          0\n",
       "Region                           0\n",
       "Happiness Rank                   0\n",
       "Happiness Score                  0\n",
       "Lower Confidence Interval        0\n",
       "Upper Confidence Interval        0\n",
       "Economy (GDP per Capita)         0\n",
       "Family                           0\n",
       "Health (Life Expectancy)         0\n",
       "Freedom                          0\n",
       "Trust (Government Corruption)    0\n",
       "Generosity                       0\n",
       "Dystopia Residual                0\n",
       "dtype: int64"
      ]
     },
     "execution_count": 8,
     "metadata": {},
     "output_type": "execute_result"
    }
   ],
   "source": [
    "df_2016.isna().sum()"
   ]
  },
  {
   "cell_type": "code",
   "execution_count": 9,
   "metadata": {},
   "outputs": [
    {
     "data": {
      "text/plain": [
       "Index(['country', 'region', 'rank', 'score', 'lower confidence interval',\n",
       "       'upper confidence interval', 'gdp', 'family', 'health', 'freedom',\n",
       "       'corruption', 'generosity', 'dystopia'],\n",
       "      dtype='object')"
      ]
     },
     "execution_count": 9,
     "metadata": {},
     "output_type": "execute_result"
    }
   ],
   "source": [
    "df_2016.columns = df_2016.columns.str.lower()\n",
    "df_2016.rename(columns={'happiness rank':'rank', 'happiness score':'score', 'economy (gdp per capita)': 'gdp',\n",
    "                      'health (life expectancy)':'health', 'trust (government corruption)': 'corruption',\n",
    "                      \"dystopia residual\": \"dystopia\"},\n",
    "                       inplace = True)\n",
    "df_2016.columns"
   ]
  },
  {
   "cell_type": "code",
   "execution_count": 10,
   "metadata": {},
   "outputs": [
    {
     "data": {
      "text/html": [
       "<div>\n",
       "<style scoped>\n",
       "    .dataframe tbody tr th:only-of-type {\n",
       "        vertical-align: middle;\n",
       "    }\n",
       "\n",
       "    .dataframe tbody tr th {\n",
       "        vertical-align: top;\n",
       "    }\n",
       "\n",
       "    .dataframe thead th {\n",
       "        text-align: right;\n",
       "    }\n",
       "</style>\n",
       "<table border=\"1\" class=\"dataframe\">\n",
       "  <thead>\n",
       "    <tr style=\"text-align: right;\">\n",
       "      <th></th>\n",
       "      <th>country</th>\n",
       "      <th>rank</th>\n",
       "      <th>score</th>\n",
       "      <th>gdp</th>\n",
       "      <th>family</th>\n",
       "      <th>health</th>\n",
       "      <th>freedom</th>\n",
       "      <th>corruption</th>\n",
       "      <th>generosity</th>\n",
       "      <th>dystopia</th>\n",
       "    </tr>\n",
       "  </thead>\n",
       "  <tbody>\n",
       "    <tr>\n",
       "      <th>23</th>\n",
       "      <td>Chile</td>\n",
       "      <td>24</td>\n",
       "      <td>6.705</td>\n",
       "      <td>1.21670</td>\n",
       "      <td>0.90587</td>\n",
       "      <td>0.81883</td>\n",
       "      <td>0.37789</td>\n",
       "      <td>0.11451</td>\n",
       "      <td>0.31595</td>\n",
       "      <td>2.95505</td>\n",
       "    </tr>\n",
       "    <tr>\n",
       "      <th>7</th>\n",
       "      <td>New Zealand</td>\n",
       "      <td>8</td>\n",
       "      <td>7.334</td>\n",
       "      <td>1.36066</td>\n",
       "      <td>1.17278</td>\n",
       "      <td>0.83096</td>\n",
       "      <td>0.58147</td>\n",
       "      <td>0.41904</td>\n",
       "      <td>0.49401</td>\n",
       "      <td>2.47553</td>\n",
       "    </tr>\n",
       "    <tr>\n",
       "      <th>61</th>\n",
       "      <td>North Cyprus</td>\n",
       "      <td>62</td>\n",
       "      <td>5.771</td>\n",
       "      <td>1.31141</td>\n",
       "      <td>0.81826</td>\n",
       "      <td>0.84142</td>\n",
       "      <td>0.43596</td>\n",
       "      <td>0.16578</td>\n",
       "      <td>0.26322</td>\n",
       "      <td>1.93447</td>\n",
       "    </tr>\n",
       "    <tr>\n",
       "      <th>118</th>\n",
       "      <td>Myanmar</td>\n",
       "      <td>119</td>\n",
       "      <td>4.395</td>\n",
       "      <td>0.34112</td>\n",
       "      <td>0.69981</td>\n",
       "      <td>0.39880</td>\n",
       "      <td>0.42692</td>\n",
       "      <td>0.20243</td>\n",
       "      <td>0.81971</td>\n",
       "      <td>1.50655</td>\n",
       "    </tr>\n",
       "    <tr>\n",
       "      <th>0</th>\n",
       "      <td>Denmark</td>\n",
       "      <td>1</td>\n",
       "      <td>7.526</td>\n",
       "      <td>1.44178</td>\n",
       "      <td>1.16374</td>\n",
       "      <td>0.79504</td>\n",
       "      <td>0.57941</td>\n",
       "      <td>0.44453</td>\n",
       "      <td>0.36171</td>\n",
       "      <td>2.73939</td>\n",
       "    </tr>\n",
       "  </tbody>\n",
       "</table>\n",
       "</div>"
      ],
      "text/plain": [
       "          country  rank  score      gdp   family   health  freedom  \\\n",
       "23          Chile    24  6.705  1.21670  0.90587  0.81883  0.37789   \n",
       "7     New Zealand     8  7.334  1.36066  1.17278  0.83096  0.58147   \n",
       "61   North Cyprus    62  5.771  1.31141  0.81826  0.84142  0.43596   \n",
       "118       Myanmar   119  4.395  0.34112  0.69981  0.39880  0.42692   \n",
       "0         Denmark     1  7.526  1.44178  1.16374  0.79504  0.57941   \n",
       "\n",
       "     corruption  generosity  dystopia  \n",
       "23      0.11451     0.31595   2.95505  \n",
       "7       0.41904     0.49401   2.47553  \n",
       "61      0.16578     0.26322   1.93447  \n",
       "118     0.20243     0.81971   1.50655  \n",
       "0       0.44453     0.36171   2.73939  "
      ]
     },
     "execution_count": 10,
     "metadata": {},
     "output_type": "execute_result"
    }
   ],
   "source": [
    "df_2016.drop(columns = ['lower confidence interval','upper confidence interval',\n",
    "                      'region'],\n",
    "           inplace = True)\n",
    "df_2016.sample(5)"
   ]
  },
  {
   "cell_type": "code",
   "execution_count": 11,
   "metadata": {},
   "outputs": [
    {
     "data": {
      "text/plain": [
       "Country                          0\n",
       "Happiness.Rank                   0\n",
       "Happiness.Score                  0\n",
       "Whisker.high                     0\n",
       "Whisker.low                      0\n",
       "Economy..GDP.per.Capita.         0\n",
       "Family                           0\n",
       "Health..Life.Expectancy.         0\n",
       "Freedom                          0\n",
       "Generosity                       0\n",
       "Trust..Government.Corruption.    0\n",
       "Dystopia.Residual                0\n",
       "dtype: int64"
      ]
     },
     "execution_count": 11,
     "metadata": {},
     "output_type": "execute_result"
    }
   ],
   "source": [
    "df_2017.isna().sum()"
   ]
  },
  {
   "cell_type": "code",
   "execution_count": 12,
   "metadata": {},
   "outputs": [
    {
     "data": {
      "text/plain": [
       "Index(['country', 'rank', 'score', 'whiskerhigh', 'whiskerlow', 'gdp',\n",
       "       'family', 'health', 'freedom', 'generosity', 'corruption', 'dystopia'],\n",
       "      dtype='object')"
      ]
     },
     "execution_count": 12,
     "metadata": {},
     "output_type": "execute_result"
    }
   ],
   "source": [
    "# This particular year had column names with periods instead of spaces, so we got rid of the periods\n",
    "# and substituted spaces. \n",
    "\n",
    "df_2017.columns = df_2017.columns.str.replace(\".\", \"\")\n",
    "\n",
    "# let's convert into lower case\n",
    "df_2017.columns = df_2017.columns.str.lower()\n",
    "df_2017.rename(columns = {\"happinessrank\": \"rank\", \"happinessscore\": \"score\", \"healthlifeexpectancy\": \"health\",\n",
    "                        \"economygdppercapita\": \"gdp\", \"trustgovernmentcorruption\": \"corruption\",\n",
    "                        \"dystopiaresidual\": \"dystopia\"}, inplace = True)\n",
    "df_2017.columns"
   ]
  },
  {
   "cell_type": "code",
   "execution_count": 13,
   "metadata": {},
   "outputs": [
    {
     "data": {
      "text/html": [
       "<div>\n",
       "<style scoped>\n",
       "    .dataframe tbody tr th:only-of-type {\n",
       "        vertical-align: middle;\n",
       "    }\n",
       "\n",
       "    .dataframe tbody tr th {\n",
       "        vertical-align: top;\n",
       "    }\n",
       "\n",
       "    .dataframe thead th {\n",
       "        text-align: right;\n",
       "    }\n",
       "</style>\n",
       "<table border=\"1\" class=\"dataframe\">\n",
       "  <thead>\n",
       "    <tr style=\"text-align: right;\">\n",
       "      <th></th>\n",
       "      <th>country</th>\n",
       "      <th>rank</th>\n",
       "      <th>score</th>\n",
       "      <th>gdp</th>\n",
       "      <th>family</th>\n",
       "      <th>health</th>\n",
       "      <th>freedom</th>\n",
       "      <th>generosity</th>\n",
       "      <th>corruption</th>\n",
       "      <th>dystopia</th>\n",
       "    </tr>\n",
       "  </thead>\n",
       "  <tbody>\n",
       "    <tr>\n",
       "      <th>1</th>\n",
       "      <td>Denmark</td>\n",
       "      <td>2</td>\n",
       "      <td>7.522</td>\n",
       "      <td>1.482383</td>\n",
       "      <td>1.551122</td>\n",
       "      <td>0.792566</td>\n",
       "      <td>0.626007</td>\n",
       "      <td>0.355280</td>\n",
       "      <td>0.400770</td>\n",
       "      <td>2.313707</td>\n",
       "    </tr>\n",
       "    <tr>\n",
       "      <th>49</th>\n",
       "      <td>Belize</td>\n",
       "      <td>50</td>\n",
       "      <td>5.956</td>\n",
       "      <td>0.907975</td>\n",
       "      <td>1.081418</td>\n",
       "      <td>0.450192</td>\n",
       "      <td>0.547509</td>\n",
       "      <td>0.240016</td>\n",
       "      <td>0.096581</td>\n",
       "      <td>2.631956</td>\n",
       "    </tr>\n",
       "    <tr>\n",
       "      <th>38</th>\n",
       "      <td>Kuwait</td>\n",
       "      <td>39</td>\n",
       "      <td>6.105</td>\n",
       "      <td>1.632952</td>\n",
       "      <td>1.259699</td>\n",
       "      <td>0.632106</td>\n",
       "      <td>0.496338</td>\n",
       "      <td>0.228290</td>\n",
       "      <td>0.215160</td>\n",
       "      <td>1.640425</td>\n",
       "    </tr>\n",
       "    <tr>\n",
       "      <th>95</th>\n",
       "      <td>Tajikistan</td>\n",
       "      <td>96</td>\n",
       "      <td>5.041</td>\n",
       "      <td>0.524714</td>\n",
       "      <td>1.271463</td>\n",
       "      <td>0.529235</td>\n",
       "      <td>0.471567</td>\n",
       "      <td>0.248998</td>\n",
       "      <td>0.146377</td>\n",
       "      <td>1.849049</td>\n",
       "    </tr>\n",
       "    <tr>\n",
       "      <th>68</th>\n",
       "      <td>Turkey</td>\n",
       "      <td>69</td>\n",
       "      <td>5.500</td>\n",
       "      <td>1.198274</td>\n",
       "      <td>1.337753</td>\n",
       "      <td>0.637606</td>\n",
       "      <td>0.300741</td>\n",
       "      <td>0.046693</td>\n",
       "      <td>0.099672</td>\n",
       "      <td>1.879278</td>\n",
       "    </tr>\n",
       "  </tbody>\n",
       "</table>\n",
       "</div>"
      ],
      "text/plain": [
       "       country  rank  score       gdp    family    health   freedom  \\\n",
       "1      Denmark     2  7.522  1.482383  1.551122  0.792566  0.626007   \n",
       "49      Belize    50  5.956  0.907975  1.081418  0.450192  0.547509   \n",
       "38      Kuwait    39  6.105  1.632952  1.259699  0.632106  0.496338   \n",
       "95  Tajikistan    96  5.041  0.524714  1.271463  0.529235  0.471567   \n",
       "68      Turkey    69  5.500  1.198274  1.337753  0.637606  0.300741   \n",
       "\n",
       "    generosity  corruption  dystopia  \n",
       "1     0.355280    0.400770  2.313707  \n",
       "49    0.240016    0.096581  2.631956  \n",
       "38    0.228290    0.215160  1.640425  \n",
       "95    0.248998    0.146377  1.849049  \n",
       "68    0.046693    0.099672  1.879278  "
      ]
     },
     "execution_count": 13,
     "metadata": {},
     "output_type": "execute_result"
    }
   ],
   "source": [
    "df_2017.drop(columns = ['whiskerhigh', 'whiskerlow'], inplace = True)\n",
    "df_2017.sample(5)"
   ]
  },
  {
   "cell_type": "code",
   "execution_count": 14,
   "metadata": {},
   "outputs": [
    {
     "data": {
      "text/plain": [
       "Overall rank                    0\n",
       "Country or region               0\n",
       "Score                           0\n",
       "GDP per capita                  0\n",
       "Social support                  0\n",
       "Healthy life expectancy         0\n",
       "Freedom to make life choices    0\n",
       "Generosity                      0\n",
       "Perceptions of corruption       1\n",
       "dtype: int64"
      ]
     },
     "execution_count": 14,
     "metadata": {},
     "output_type": "execute_result"
    }
   ],
   "source": [
    "# Here we found out we have one empty value in the corruptions column. We will\n",
    "# need locate and clean up that empty value.\n",
    "df_2018.isna().sum()"
   ]
  },
  {
   "cell_type": "code",
   "execution_count": 15,
   "metadata": {},
   "outputs": [
    {
     "data": {
      "text/plain": [
       "Index(['rank', 'country', 'score', 'gdp', 'family', 'health', 'freedom',\n",
       "       'generosity', 'corruption'],\n",
       "      dtype='object')"
      ]
     },
     "execution_count": 15,
     "metadata": {},
     "output_type": "execute_result"
    }
   ],
   "source": [
    "df_2018.columns = df_2018.columns.str.lower()\n",
    "df_2018.rename(columns = {\"overall rank\": \"rank\", \"country or region\": \"country\",\n",
    "                         \"freedom to make life choices\": \"freedom\", \"perceptions of corruption\": \"corruption\",\n",
    "                        \"gdp per capita\": \"gdp\", \"healthy life expectancy\": \"health\",\n",
    "                        \"social support\": \"family\"}, inplace=True)\n",
    "df_2018.columns = df_2018.columns.str.replace(\" \", \"_\")\n",
    "df_2018.columns"
   ]
  },
  {
   "cell_type": "code",
   "execution_count": 16,
   "metadata": {},
   "outputs": [
    {
     "data": {
      "text/plain": [
       "Index(['rank', 'country', 'score', 'gdp', 'family', 'health', 'freedom',\n",
       "       'generosity', 'corruption'],\n",
       "      dtype='object')"
      ]
     },
     "execution_count": 16,
     "metadata": {},
     "output_type": "execute_result"
    }
   ],
   "source": [
    "df_2019.columns = df_2019.columns.str.lower()\n",
    "df_2019.rename(columns = {\"overall rank\": \"rank\", \"country or region\": \"country\",\n",
    "                         \"freedom to make life choices\": \"freedom\", \"perceptions of corruption\": \"corruption\",\n",
    "                        \"gdp per capita\": \"gdp\", \"healthy life expectancy\": \"health\",\n",
    "                        \"social support\": \"family\"}, inplace=True)\n",
    "df_2019.columns = df_2019.columns.str.replace(\" \", \"_\")\n",
    "df_2019.columns"
   ]
  },
  {
   "cell_type": "code",
   "execution_count": 17,
   "metadata": {},
   "outputs": [
    {
     "data": {
      "text/plain": [
       "rank          0\n",
       "country       0\n",
       "score         0\n",
       "gdp           0\n",
       "family        0\n",
       "health        0\n",
       "freedom       0\n",
       "generosity    0\n",
       "corruption    0\n",
       "dtype: int64"
      ]
     },
     "execution_count": 17,
     "metadata": {},
     "output_type": "execute_result"
    }
   ],
   "source": [
    "df_2019.isna().sum()"
   ]
  },
  {
   "cell_type": "code",
   "execution_count": 18,
   "metadata": {},
   "outputs": [
    {
     "name": "stdout",
     "output_type": "stream",
     "text": [
      "2015:\n",
      " ['country', 'rank', 'score', 'gdp', 'family', 'health', 'freedom', 'corruption', 'generosity', 'dystopia']\n",
      "\n",
      "2016:\n",
      " ['country', 'rank', 'score', 'gdp', 'family', 'health', 'freedom', 'corruption', 'generosity', 'dystopia']\n",
      "\n",
      "2017:\n",
      " ['country', 'rank', 'score', 'gdp', 'family', 'health', 'freedom', 'generosity', 'corruption', 'dystopia']\n",
      "\n",
      "2018:\n",
      " ['rank', 'country', 'score', 'gdp', 'family', 'health', 'freedom', 'generosity', 'corruption']\n",
      "\n",
      "2019:\n",
      " ['rank', 'country', 'score', 'gdp', 'family', 'health', 'freedom', 'generosity', 'corruption']\n"
     ]
    }
   ],
   "source": [
    "# We printed out all the columns to compare them and make sure they are \n",
    "# named the same.\n",
    "\n",
    "def print_all_dataframe_columns():\n",
    "    print(\"2015:\\n\", df_2015.columns.to_list())\n",
    "    print(\"\\n2016:\\n\", df_2016.columns.to_list())\n",
    "    print(\"\\n2017:\\n\", df_2017.columns.to_list())\n",
    "    print(\"\\n2018:\\n\", df_2018.columns.to_list())\n",
    "    print(\"\\n2019:\\n\", df_2019.columns.to_list())\n",
    "    \n",
    "print_all_dataframe_columns()"
   ]
  },
  {
   "cell_type": "code",
   "execution_count": 19,
   "metadata": {
    "scrolled": false
   },
   "outputs": [
    {
     "data": {
      "text/plain": [
       "Index(['country', 'rank', 'score', 'gdp', 'family', 'health', 'freedom',\n",
       "       'generosity', 'corruption', 'dystopia', 'year'],\n",
       "      dtype='object')"
      ]
     },
     "execution_count": 19,
     "metadata": {},
     "output_type": "execute_result"
    }
   ],
   "source": [
    "# Our goal is to stack all of the csv files, but we still want to distinguish\n",
    "# which year each row of info came from, so we are adding a column with each year.\n",
    "\n",
    "df_2015['year'] = '2015'\n",
    "df_2016['year'] = '2016'\n",
    "df_2017['year'] = '2017'\n",
    "df_2018['year'] = '2018'\n",
    "df_2019['year'] = '2019'\n",
    "\n",
    "df_2017.columns\n"
   ]
  },
  {
   "cell_type": "code",
   "execution_count": 20,
   "metadata": {},
   "outputs": [
    {
     "data": {
      "text/html": [
       "<div>\n",
       "<style scoped>\n",
       "    .dataframe tbody tr th:only-of-type {\n",
       "        vertical-align: middle;\n",
       "    }\n",
       "\n",
       "    .dataframe tbody tr th {\n",
       "        vertical-align: top;\n",
       "    }\n",
       "\n",
       "    .dataframe thead th {\n",
       "        text-align: right;\n",
       "    }\n",
       "</style>\n",
       "<table border=\"1\" class=\"dataframe\">\n",
       "  <thead>\n",
       "    <tr style=\"text-align: right;\">\n",
       "      <th></th>\n",
       "      <th>country</th>\n",
       "      <th>rank</th>\n",
       "      <th>score</th>\n",
       "      <th>gdp</th>\n",
       "      <th>family</th>\n",
       "      <th>health</th>\n",
       "      <th>freedom</th>\n",
       "      <th>corruption</th>\n",
       "      <th>generosity</th>\n",
       "      <th>dystopia</th>\n",
       "      <th>year</th>\n",
       "    </tr>\n",
       "  </thead>\n",
       "  <tbody>\n",
       "    <tr>\n",
       "      <th>573</th>\n",
       "      <td>Palestinian Territories</td>\n",
       "      <td>104</td>\n",
       "      <td>4.743</td>\n",
       "      <td>0.642000</td>\n",
       "      <td>1.217000</td>\n",
       "      <td>0.602000</td>\n",
       "      <td>0.266000</td>\n",
       "      <td>0.076000</td>\n",
       "      <td>0.086000</td>\n",
       "      <td>NaN</td>\n",
       "      <td>2018</td>\n",
       "    </tr>\n",
       "    <tr>\n",
       "      <th>718</th>\n",
       "      <td>China</td>\n",
       "      <td>93</td>\n",
       "      <td>5.191</td>\n",
       "      <td>1.029000</td>\n",
       "      <td>1.125000</td>\n",
       "      <td>0.893000</td>\n",
       "      <td>0.521000</td>\n",
       "      <td>0.100000</td>\n",
       "      <td>0.058000</td>\n",
       "      <td>NaN</td>\n",
       "      <td>2019</td>\n",
       "    </tr>\n",
       "    <tr>\n",
       "      <th>410</th>\n",
       "      <td>Tajikistan</td>\n",
       "      <td>96</td>\n",
       "      <td>5.041</td>\n",
       "      <td>0.524714</td>\n",
       "      <td>1.271463</td>\n",
       "      <td>0.529235</td>\n",
       "      <td>0.471567</td>\n",
       "      <td>0.146377</td>\n",
       "      <td>0.248998</td>\n",
       "      <td>1.849049</td>\n",
       "      <td>2017</td>\n",
       "    </tr>\n",
       "    <tr>\n",
       "      <th>691</th>\n",
       "      <td>Portugal</td>\n",
       "      <td>66</td>\n",
       "      <td>5.693</td>\n",
       "      <td>1.221000</td>\n",
       "      <td>1.431000</td>\n",
       "      <td>0.999000</td>\n",
       "      <td>0.508000</td>\n",
       "      <td>0.025000</td>\n",
       "      <td>0.047000</td>\n",
       "      <td>NaN</td>\n",
       "      <td>2019</td>\n",
       "    </tr>\n",
       "    <tr>\n",
       "      <th>216</th>\n",
       "      <td>Bolivia</td>\n",
       "      <td>59</td>\n",
       "      <td>5.822</td>\n",
       "      <td>0.794220</td>\n",
       "      <td>0.837790</td>\n",
       "      <td>0.469700</td>\n",
       "      <td>0.509610</td>\n",
       "      <td>0.077460</td>\n",
       "      <td>0.216980</td>\n",
       "      <td>2.916350</td>\n",
       "      <td>2016</td>\n",
       "    </tr>\n",
       "  </tbody>\n",
       "</table>\n",
       "</div>"
      ],
      "text/plain": [
       "                     country  rank  score       gdp    family    health  \\\n",
       "573  Palestinian Territories   104  4.743  0.642000  1.217000  0.602000   \n",
       "718                    China    93  5.191  1.029000  1.125000  0.893000   \n",
       "410               Tajikistan    96  5.041  0.524714  1.271463  0.529235   \n",
       "691                 Portugal    66  5.693  1.221000  1.431000  0.999000   \n",
       "216                  Bolivia    59  5.822  0.794220  0.837790  0.469700   \n",
       "\n",
       "      freedom  corruption  generosity  dystopia  year  \n",
       "573  0.266000    0.076000    0.086000       NaN  2018  \n",
       "718  0.521000    0.100000    0.058000       NaN  2019  \n",
       "410  0.471567    0.146377    0.248998  1.849049  2017  \n",
       "691  0.508000    0.025000    0.047000       NaN  2019  \n",
       "216  0.509610    0.077460    0.216980  2.916350  2016  "
      ]
     },
     "execution_count": 20,
     "metadata": {},
     "output_type": "execute_result"
    }
   ],
   "source": [
    "main_data = pd.concat([df_2015, df_2016, df_2017, df_2018, df_2019]).reset_index(drop=True)\n",
    "main_data.shape\n",
    "main_data.sample(5)"
   ]
  },
  {
   "cell_type": "code",
   "execution_count": 21,
   "metadata": {},
   "outputs": [],
   "source": [
    "# We noticed that for the years 2018 and 2019 the dystopia value is missing \n",
    "\n",
    "\n",
    "df_2018[\"dystopia\"] = main_data[\"score\"] - main_data[\"gdp\"] - main_data[\"family\"] - main_data[\"health\"] - main_data[\"freedom\"] - main_data[\"corruption\"] - main_data[\"generosity\"]\n",
    "\n",
    "df_2019[\"dystopia\"] = main_data[\"score\"] - main_data[\"gdp\"] - main_data[\"family\"] - main_data[\"health\"] - main_data[\"freedom\"] - main_data[\"corruption\"] - main_data[\"generosity\"]\n",
    "\n"
   ]
  },
  {
   "cell_type": "code",
   "execution_count": 22,
   "metadata": {},
   "outputs": [
    {
     "data": {
      "text/html": [
       "<div>\n",
       "<style scoped>\n",
       "    .dataframe tbody tr th:only-of-type {\n",
       "        vertical-align: middle;\n",
       "    }\n",
       "\n",
       "    .dataframe tbody tr th {\n",
       "        vertical-align: top;\n",
       "    }\n",
       "\n",
       "    .dataframe thead th {\n",
       "        text-align: right;\n",
       "    }\n",
       "</style>\n",
       "<table border=\"1\" class=\"dataframe\">\n",
       "  <thead>\n",
       "    <tr style=\"text-align: right;\">\n",
       "      <th></th>\n",
       "      <th>country</th>\n",
       "      <th>rank</th>\n",
       "      <th>score</th>\n",
       "      <th>gdp</th>\n",
       "      <th>family</th>\n",
       "      <th>health</th>\n",
       "      <th>freedom</th>\n",
       "      <th>corruption</th>\n",
       "      <th>generosity</th>\n",
       "      <th>dystopia</th>\n",
       "      <th>year</th>\n",
       "    </tr>\n",
       "  </thead>\n",
       "  <tbody>\n",
       "    <tr>\n",
       "      <th>328</th>\n",
       "      <td>United States</td>\n",
       "      <td>14</td>\n",
       "      <td>6.993</td>\n",
       "      <td>1.546259</td>\n",
       "      <td>1.419921</td>\n",
       "      <td>0.774287</td>\n",
       "      <td>0.505741</td>\n",
       "      <td>0.135639</td>\n",
       "      <td>0.392579</td>\n",
       "      <td>2.218113</td>\n",
       "      <td>2017</td>\n",
       "    </tr>\n",
       "    <tr>\n",
       "      <th>307</th>\n",
       "      <td>Liberia</td>\n",
       "      <td>150</td>\n",
       "      <td>3.622</td>\n",
       "      <td>0.107060</td>\n",
       "      <td>0.503530</td>\n",
       "      <td>0.231650</td>\n",
       "      <td>0.257480</td>\n",
       "      <td>0.048520</td>\n",
       "      <td>0.240630</td>\n",
       "      <td>2.232840</td>\n",
       "      <td>2016</td>\n",
       "    </tr>\n",
       "    <tr>\n",
       "      <th>429</th>\n",
       "      <td>Senegal</td>\n",
       "      <td>115</td>\n",
       "      <td>4.535</td>\n",
       "      <td>0.479309</td>\n",
       "      <td>1.179692</td>\n",
       "      <td>0.409363</td>\n",
       "      <td>0.377922</td>\n",
       "      <td>0.115460</td>\n",
       "      <td>0.183469</td>\n",
       "      <td>1.789646</td>\n",
       "      <td>2017</td>\n",
       "    </tr>\n",
       "    <tr>\n",
       "      <th>346</th>\n",
       "      <td>Thailand</td>\n",
       "      <td>32</td>\n",
       "      <td>6.424</td>\n",
       "      <td>1.127869</td>\n",
       "      <td>1.425792</td>\n",
       "      <td>0.647239</td>\n",
       "      <td>0.580201</td>\n",
       "      <td>0.031613</td>\n",
       "      <td>0.572123</td>\n",
       "      <td>2.039508</td>\n",
       "      <td>2017</td>\n",
       "    </tr>\n",
       "    <tr>\n",
       "      <th>201</th>\n",
       "      <td>Venezuela</td>\n",
       "      <td>44</td>\n",
       "      <td>6.084</td>\n",
       "      <td>1.133670</td>\n",
       "      <td>1.033020</td>\n",
       "      <td>0.619040</td>\n",
       "      <td>0.198470</td>\n",
       "      <td>0.083040</td>\n",
       "      <td>0.042500</td>\n",
       "      <td>2.974680</td>\n",
       "      <td>2016</td>\n",
       "    </tr>\n",
       "  </tbody>\n",
       "</table>\n",
       "</div>"
      ],
      "text/plain": [
       "           country  rank  score       gdp    family    health   freedom  \\\n",
       "328  United States    14  6.993  1.546259  1.419921  0.774287  0.505741   \n",
       "307        Liberia   150  3.622  0.107060  0.503530  0.231650  0.257480   \n",
       "429        Senegal   115  4.535  0.479309  1.179692  0.409363  0.377922   \n",
       "346       Thailand    32  6.424  1.127869  1.425792  0.647239  0.580201   \n",
       "201      Venezuela    44  6.084  1.133670  1.033020  0.619040  0.198470   \n",
       "\n",
       "     corruption  generosity  dystopia  year  \n",
       "328    0.135639    0.392579  2.218113  2017  \n",
       "307    0.048520    0.240630  2.232840  2016  \n",
       "429    0.115460    0.183469  1.789646  2017  \n",
       "346    0.031613    0.572123  2.039508  2017  \n",
       "201    0.083040    0.042500  2.974680  2016  "
      ]
     },
     "execution_count": 22,
     "metadata": {},
     "output_type": "execute_result"
    }
   ],
   "source": [
    "dim_main_data = pd.concat([df_2015, df_2016, df_2017]).reset_index(drop=True)\n",
    "dim_main_data.sample(5)"
   ]
  },
  {
   "cell_type": "code",
   "execution_count": 23,
   "metadata": {},
   "outputs": [
    {
     "data": {
      "text/plain": [
       "country         0\n",
       "rank            0\n",
       "score           0\n",
       "gdp             0\n",
       "family          0\n",
       "health          0\n",
       "freedom         0\n",
       "corruption      1\n",
       "generosity      0\n",
       "dystopia      312\n",
       "year            0\n",
       "dtype: int64"
      ]
     },
     "execution_count": 23,
     "metadata": {},
     "output_type": "execute_result"
    }
   ],
   "source": [
    "main_data.country = main_data.country.str.lower().str.replace(\" \", \"_\")\n",
    "\n",
    "main_data.isna().sum()"
   ]
  },
  {
   "cell_type": "code",
   "execution_count": 24,
   "metadata": {},
   "outputs": [
    {
     "data": {
      "text/html": [
       "<div>\n",
       "<style scoped>\n",
       "    .dataframe tbody tr th:only-of-type {\n",
       "        vertical-align: middle;\n",
       "    }\n",
       "\n",
       "    .dataframe tbody tr th {\n",
       "        vertical-align: top;\n",
       "    }\n",
       "\n",
       "    .dataframe thead th {\n",
       "        text-align: right;\n",
       "    }\n",
       "</style>\n",
       "<table border=\"1\" class=\"dataframe\">\n",
       "  <thead>\n",
       "    <tr style=\"text-align: right;\">\n",
       "      <th></th>\n",
       "      <th>country</th>\n",
       "      <th>rank</th>\n",
       "      <th>score</th>\n",
       "      <th>gdp</th>\n",
       "      <th>family</th>\n",
       "      <th>health</th>\n",
       "      <th>freedom</th>\n",
       "      <th>corruption</th>\n",
       "      <th>generosity</th>\n",
       "      <th>dystopia</th>\n",
       "      <th>year</th>\n",
       "    </tr>\n",
       "  </thead>\n",
       "  <tbody>\n",
       "    <tr>\n",
       "      <th>470</th>\n",
       "      <td>finland</td>\n",
       "      <td>1</td>\n",
       "      <td>7.632</td>\n",
       "      <td>1.305</td>\n",
       "      <td>1.592</td>\n",
       "      <td>0.874</td>\n",
       "      <td>0.681</td>\n",
       "      <td>0.393</td>\n",
       "      <td>0.202</td>\n",
       "      <td>NaN</td>\n",
       "      <td>2018</td>\n",
       "    </tr>\n",
       "    <tr>\n",
       "      <th>471</th>\n",
       "      <td>norway</td>\n",
       "      <td>2</td>\n",
       "      <td>7.594</td>\n",
       "      <td>1.456</td>\n",
       "      <td>1.582</td>\n",
       "      <td>0.861</td>\n",
       "      <td>0.686</td>\n",
       "      <td>0.340</td>\n",
       "      <td>0.286</td>\n",
       "      <td>NaN</td>\n",
       "      <td>2018</td>\n",
       "    </tr>\n",
       "    <tr>\n",
       "      <th>472</th>\n",
       "      <td>denmark</td>\n",
       "      <td>3</td>\n",
       "      <td>7.555</td>\n",
       "      <td>1.351</td>\n",
       "      <td>1.590</td>\n",
       "      <td>0.868</td>\n",
       "      <td>0.683</td>\n",
       "      <td>0.408</td>\n",
       "      <td>0.284</td>\n",
       "      <td>NaN</td>\n",
       "      <td>2018</td>\n",
       "    </tr>\n",
       "    <tr>\n",
       "      <th>473</th>\n",
       "      <td>iceland</td>\n",
       "      <td>4</td>\n",
       "      <td>7.495</td>\n",
       "      <td>1.343</td>\n",
       "      <td>1.644</td>\n",
       "      <td>0.914</td>\n",
       "      <td>0.677</td>\n",
       "      <td>0.138</td>\n",
       "      <td>0.353</td>\n",
       "      <td>NaN</td>\n",
       "      <td>2018</td>\n",
       "    </tr>\n",
       "    <tr>\n",
       "      <th>474</th>\n",
       "      <td>switzerland</td>\n",
       "      <td>5</td>\n",
       "      <td>7.487</td>\n",
       "      <td>1.420</td>\n",
       "      <td>1.549</td>\n",
       "      <td>0.927</td>\n",
       "      <td>0.660</td>\n",
       "      <td>0.357</td>\n",
       "      <td>0.256</td>\n",
       "      <td>NaN</td>\n",
       "      <td>2018</td>\n",
       "    </tr>\n",
       "    <tr>\n",
       "      <th>...</th>\n",
       "      <td>...</td>\n",
       "      <td>...</td>\n",
       "      <td>...</td>\n",
       "      <td>...</td>\n",
       "      <td>...</td>\n",
       "      <td>...</td>\n",
       "      <td>...</td>\n",
       "      <td>...</td>\n",
       "      <td>...</td>\n",
       "      <td>...</td>\n",
       "      <td>...</td>\n",
       "    </tr>\n",
       "    <tr>\n",
       "      <th>777</th>\n",
       "      <td>rwanda</td>\n",
       "      <td>152</td>\n",
       "      <td>3.334</td>\n",
       "      <td>0.359</td>\n",
       "      <td>0.711</td>\n",
       "      <td>0.614</td>\n",
       "      <td>0.555</td>\n",
       "      <td>0.411</td>\n",
       "      <td>0.217</td>\n",
       "      <td>NaN</td>\n",
       "      <td>2019</td>\n",
       "    </tr>\n",
       "    <tr>\n",
       "      <th>778</th>\n",
       "      <td>tanzania</td>\n",
       "      <td>153</td>\n",
       "      <td>3.231</td>\n",
       "      <td>0.476</td>\n",
       "      <td>0.885</td>\n",
       "      <td>0.499</td>\n",
       "      <td>0.417</td>\n",
       "      <td>0.147</td>\n",
       "      <td>0.276</td>\n",
       "      <td>NaN</td>\n",
       "      <td>2019</td>\n",
       "    </tr>\n",
       "    <tr>\n",
       "      <th>779</th>\n",
       "      <td>afghanistan</td>\n",
       "      <td>154</td>\n",
       "      <td>3.203</td>\n",
       "      <td>0.350</td>\n",
       "      <td>0.517</td>\n",
       "      <td>0.361</td>\n",
       "      <td>0.000</td>\n",
       "      <td>0.025</td>\n",
       "      <td>0.158</td>\n",
       "      <td>NaN</td>\n",
       "      <td>2019</td>\n",
       "    </tr>\n",
       "    <tr>\n",
       "      <th>780</th>\n",
       "      <td>central_african_republic</td>\n",
       "      <td>155</td>\n",
       "      <td>3.083</td>\n",
       "      <td>0.026</td>\n",
       "      <td>0.000</td>\n",
       "      <td>0.105</td>\n",
       "      <td>0.225</td>\n",
       "      <td>0.035</td>\n",
       "      <td>0.235</td>\n",
       "      <td>NaN</td>\n",
       "      <td>2019</td>\n",
       "    </tr>\n",
       "    <tr>\n",
       "      <th>781</th>\n",
       "      <td>south_sudan</td>\n",
       "      <td>156</td>\n",
       "      <td>2.853</td>\n",
       "      <td>0.306</td>\n",
       "      <td>0.575</td>\n",
       "      <td>0.295</td>\n",
       "      <td>0.010</td>\n",
       "      <td>0.091</td>\n",
       "      <td>0.202</td>\n",
       "      <td>NaN</td>\n",
       "      <td>2019</td>\n",
       "    </tr>\n",
       "  </tbody>\n",
       "</table>\n",
       "<p>313 rows × 11 columns</p>\n",
       "</div>"
      ],
      "text/plain": [
       "                      country  rank  score    gdp  family  health  freedom  \\\n",
       "470                   finland     1  7.632  1.305   1.592   0.874    0.681   \n",
       "471                    norway     2  7.594  1.456   1.582   0.861    0.686   \n",
       "472                   denmark     3  7.555  1.351   1.590   0.868    0.683   \n",
       "473                   iceland     4  7.495  1.343   1.644   0.914    0.677   \n",
       "474               switzerland     5  7.487  1.420   1.549   0.927    0.660   \n",
       "..                        ...   ...    ...    ...     ...     ...      ...   \n",
       "777                    rwanda   152  3.334  0.359   0.711   0.614    0.555   \n",
       "778                  tanzania   153  3.231  0.476   0.885   0.499    0.417   \n",
       "779               afghanistan   154  3.203  0.350   0.517   0.361    0.000   \n",
       "780  central_african_republic   155  3.083  0.026   0.000   0.105    0.225   \n",
       "781               south_sudan   156  2.853  0.306   0.575   0.295    0.010   \n",
       "\n",
       "     corruption  generosity  dystopia  year  \n",
       "470       0.393       0.202       NaN  2018  \n",
       "471       0.340       0.286       NaN  2018  \n",
       "472       0.408       0.284       NaN  2018  \n",
       "473       0.138       0.353       NaN  2018  \n",
       "474       0.357       0.256       NaN  2018  \n",
       "..          ...         ...       ...   ...  \n",
       "777       0.411       0.217       NaN  2019  \n",
       "778       0.147       0.276       NaN  2019  \n",
       "779       0.025       0.158       NaN  2019  \n",
       "780       0.035       0.235       NaN  2019  \n",
       "781       0.091       0.202       NaN  2019  \n",
       "\n",
       "[313 rows x 11 columns]"
      ]
     },
     "execution_count": 24,
     "metadata": {},
     "output_type": "execute_result"
    }
   ],
   "source": [
    "main_data[main_data.isna().values]"
   ]
  },
  {
   "cell_type": "code",
   "execution_count": 25,
   "metadata": {},
   "outputs": [
    {
     "data": {
      "text/html": [
       "<div>\n",
       "<style scoped>\n",
       "    .dataframe tbody tr th:only-of-type {\n",
       "        vertical-align: middle;\n",
       "    }\n",
       "\n",
       "    .dataframe tbody tr th {\n",
       "        vertical-align: top;\n",
       "    }\n",
       "\n",
       "    .dataframe thead th {\n",
       "        text-align: right;\n",
       "    }\n",
       "</style>\n",
       "<table border=\"1\" class=\"dataframe\">\n",
       "  <thead>\n",
       "    <tr style=\"text-align: right;\">\n",
       "      <th></th>\n",
       "      <th>country</th>\n",
       "      <th>rank</th>\n",
       "      <th>score</th>\n",
       "      <th>gdp</th>\n",
       "      <th>family</th>\n",
       "      <th>health</th>\n",
       "      <th>freedom</th>\n",
       "      <th>corruption</th>\n",
       "      <th>generosity</th>\n",
       "      <th>dystopia</th>\n",
       "      <th>year</th>\n",
       "    </tr>\n",
       "  </thead>\n",
       "  <tbody>\n",
       "    <tr>\n",
       "      <th>19</th>\n",
       "      <td>united_arab_emirates</td>\n",
       "      <td>20</td>\n",
       "      <td>6.901</td>\n",
       "      <td>1.427270</td>\n",
       "      <td>1.12575</td>\n",
       "      <td>0.809250</td>\n",
       "      <td>0.641570</td>\n",
       "      <td>0.38583</td>\n",
       "      <td>0.264280</td>\n",
       "      <td>2.247430</td>\n",
       "      <td>2015</td>\n",
       "    </tr>\n",
       "    <tr>\n",
       "      <th>185</th>\n",
       "      <td>united_arab_emirates</td>\n",
       "      <td>28</td>\n",
       "      <td>6.573</td>\n",
       "      <td>1.573520</td>\n",
       "      <td>0.87114</td>\n",
       "      <td>0.729930</td>\n",
       "      <td>0.562150</td>\n",
       "      <td>0.35561</td>\n",
       "      <td>0.265910</td>\n",
       "      <td>2.215070</td>\n",
       "      <td>2016</td>\n",
       "    </tr>\n",
       "    <tr>\n",
       "      <th>335</th>\n",
       "      <td>united_arab_emirates</td>\n",
       "      <td>21</td>\n",
       "      <td>6.648</td>\n",
       "      <td>1.626343</td>\n",
       "      <td>1.26641</td>\n",
       "      <td>0.726798</td>\n",
       "      <td>0.608345</td>\n",
       "      <td>0.32449</td>\n",
       "      <td>0.360942</td>\n",
       "      <td>1.734704</td>\n",
       "      <td>2017</td>\n",
       "    </tr>\n",
       "    <tr>\n",
       "      <th>489</th>\n",
       "      <td>united_arab_emirates</td>\n",
       "      <td>20</td>\n",
       "      <td>6.774</td>\n",
       "      <td>2.096000</td>\n",
       "      <td>0.77600</td>\n",
       "      <td>0.670000</td>\n",
       "      <td>0.284000</td>\n",
       "      <td>NaN</td>\n",
       "      <td>0.186000</td>\n",
       "      <td>NaN</td>\n",
       "      <td>2018</td>\n",
       "    </tr>\n",
       "    <tr>\n",
       "      <th>646</th>\n",
       "      <td>united_arab_emirates</td>\n",
       "      <td>21</td>\n",
       "      <td>6.825</td>\n",
       "      <td>1.503000</td>\n",
       "      <td>1.31000</td>\n",
       "      <td>0.825000</td>\n",
       "      <td>0.598000</td>\n",
       "      <td>0.18200</td>\n",
       "      <td>0.262000</td>\n",
       "      <td>NaN</td>\n",
       "      <td>2019</td>\n",
       "    </tr>\n",
       "  </tbody>\n",
       "</table>\n",
       "</div>"
      ],
      "text/plain": [
       "                  country  rank  score       gdp   family    health   freedom  \\\n",
       "19   united_arab_emirates    20  6.901  1.427270  1.12575  0.809250  0.641570   \n",
       "185  united_arab_emirates    28  6.573  1.573520  0.87114  0.729930  0.562150   \n",
       "335  united_arab_emirates    21  6.648  1.626343  1.26641  0.726798  0.608345   \n",
       "489  united_arab_emirates    20  6.774  2.096000  0.77600  0.670000  0.284000   \n",
       "646  united_arab_emirates    21  6.825  1.503000  1.31000  0.825000  0.598000   \n",
       "\n",
       "     corruption  generosity  dystopia  year  \n",
       "19      0.38583    0.264280  2.247430  2015  \n",
       "185     0.35561    0.265910  2.215070  2016  \n",
       "335     0.32449    0.360942  1.734704  2017  \n",
       "489         NaN    0.186000       NaN  2018  \n",
       "646     0.18200    0.262000       NaN  2019  "
      ]
     },
     "execution_count": 25,
     "metadata": {},
     "output_type": "execute_result"
    }
   ],
   "source": [
    "main_data.loc[main_data.country == \"united_arab_emirates\"]"
   ]
  },
  {
   "cell_type": "code",
   "execution_count": 26,
   "metadata": {},
   "outputs": [],
   "source": [
    "avg_corruption = main_data.loc[main_data.country == \"united_arab_emirates\", \"corruption\"].mean()\n",
    "main_data.corruption.fillna(avg_corruption, inplace=True)\n"
   ]
  },
  {
   "cell_type": "code",
   "execution_count": 27,
   "metadata": {},
   "outputs": [
    {
     "data": {
      "text/plain": [
       "True"
      ]
     },
     "execution_count": 27,
     "metadata": {},
     "output_type": "execute_result"
    }
   ],
   "source": [
    "main_data.isna().sum().any()"
   ]
  },
  {
   "cell_type": "code",
   "execution_count": 28,
   "metadata": {},
   "outputs": [
    {
     "data": {
      "text/html": [
       "<div>\n",
       "<style scoped>\n",
       "    .dataframe tbody tr th:only-of-type {\n",
       "        vertical-align: middle;\n",
       "    }\n",
       "\n",
       "    .dataframe tbody tr th {\n",
       "        vertical-align: top;\n",
       "    }\n",
       "\n",
       "    .dataframe thead th {\n",
       "        text-align: right;\n",
       "    }\n",
       "</style>\n",
       "<table border=\"1\" class=\"dataframe\">\n",
       "  <thead>\n",
       "    <tr style=\"text-align: right;\">\n",
       "      <th></th>\n",
       "      <th>country</th>\n",
       "      <th>rank</th>\n",
       "      <th>score</th>\n",
       "      <th>gdp</th>\n",
       "      <th>family</th>\n",
       "      <th>health</th>\n",
       "      <th>freedom</th>\n",
       "      <th>corruption</th>\n",
       "      <th>generosity</th>\n",
       "      <th>dystopia</th>\n",
       "      <th>year</th>\n",
       "    </tr>\n",
       "  </thead>\n",
       "  <tbody>\n",
       "    <tr>\n",
       "      <th>616</th>\n",
       "      <td>malawi</td>\n",
       "      <td>147</td>\n",
       "      <td>3.587</td>\n",
       "      <td>0.186000</td>\n",
       "      <td>0.541000</td>\n",
       "      <td>0.306000</td>\n",
       "      <td>0.531000</td>\n",
       "      <td>0.080000</td>\n",
       "      <td>0.210000</td>\n",
       "      <td>NaN</td>\n",
       "      <td>2018</td>\n",
       "    </tr>\n",
       "    <tr>\n",
       "      <th>307</th>\n",
       "      <td>liberia</td>\n",
       "      <td>150</td>\n",
       "      <td>3.622</td>\n",
       "      <td>0.107060</td>\n",
       "      <td>0.503530</td>\n",
       "      <td>0.231650</td>\n",
       "      <td>0.257480</td>\n",
       "      <td>0.048520</td>\n",
       "      <td>0.240630</td>\n",
       "      <td>2.232840</td>\n",
       "      <td>2016</td>\n",
       "    </tr>\n",
       "    <tr>\n",
       "      <th>362</th>\n",
       "      <td>italy</td>\n",
       "      <td>48</td>\n",
       "      <td>5.964</td>\n",
       "      <td>1.395067</td>\n",
       "      <td>1.444923</td>\n",
       "      <td>0.853144</td>\n",
       "      <td>0.256451</td>\n",
       "      <td>0.028028</td>\n",
       "      <td>0.172790</td>\n",
       "      <td>1.813312</td>\n",
       "      <td>2017</td>\n",
       "    </tr>\n",
       "    <tr>\n",
       "      <th>711</th>\n",
       "      <td>kyrgyzstan</td>\n",
       "      <td>86</td>\n",
       "      <td>5.261</td>\n",
       "      <td>0.551000</td>\n",
       "      <td>1.438000</td>\n",
       "      <td>0.723000</td>\n",
       "      <td>0.508000</td>\n",
       "      <td>0.023000</td>\n",
       "      <td>0.300000</td>\n",
       "      <td>NaN</td>\n",
       "      <td>2019</td>\n",
       "    </tr>\n",
       "    <tr>\n",
       "      <th>351</th>\n",
       "      <td>saudi_arabia</td>\n",
       "      <td>37</td>\n",
       "      <td>6.344</td>\n",
       "      <td>1.530624</td>\n",
       "      <td>1.286678</td>\n",
       "      <td>0.590148</td>\n",
       "      <td>0.449751</td>\n",
       "      <td>0.273432</td>\n",
       "      <td>0.147616</td>\n",
       "      <td>2.065430</td>\n",
       "      <td>2017</td>\n",
       "    </tr>\n",
       "  </tbody>\n",
       "</table>\n",
       "</div>"
      ],
      "text/plain": [
       "          country  rank  score       gdp    family    health   freedom  \\\n",
       "616        malawi   147  3.587  0.186000  0.541000  0.306000  0.531000   \n",
       "307       liberia   150  3.622  0.107060  0.503530  0.231650  0.257480   \n",
       "362         italy    48  5.964  1.395067  1.444923  0.853144  0.256451   \n",
       "711    kyrgyzstan    86  5.261  0.551000  1.438000  0.723000  0.508000   \n",
       "351  saudi_arabia    37  6.344  1.530624  1.286678  0.590148  0.449751   \n",
       "\n",
       "     corruption  generosity  dystopia  year  \n",
       "616    0.080000    0.210000       NaN  2018  \n",
       "307    0.048520    0.240630  2.232840  2016  \n",
       "362    0.028028    0.172790  1.813312  2017  \n",
       "711    0.023000    0.300000       NaN  2019  \n",
       "351    0.273432    0.147616  2.065430  2017  "
      ]
     },
     "execution_count": 28,
     "metadata": {},
     "output_type": "execute_result"
    }
   ],
   "source": [
    "main_data.sample(5)"
   ]
  },
  {
   "cell_type": "code",
   "execution_count": 29,
   "metadata": {},
   "outputs": [
    {
     "data": {
      "image/png": "[encoded data removed]",
      "text/plain": [
       "<Figure size 864x720 with 2 Axes>"
      ]
     },
     "metadata": {
      "needs_background": "light"
     },
     "output_type": "display_data"
    },
    {
     "data": {
      "text/plain": [
       "<Figure size 432x288 with 0 Axes>"
      ]
     },
     "metadata": {},
     "output_type": "display_data"
    }
   ],
   "source": [
    "#correlation map  2015-2019\n",
    "\n",
    "categories = [\"score\", \"gdp\", \"generosity\", \"freedom\", \"corruption\", \"health\", \"family\"]\n",
    "fig, ax = plt.subplots(figsize= (12, 10))\n",
    "sn.heatmap(main_data[categories].corr(), annot=True, cmap=\"Blues\", linewidths=.5, fmt=\".1f\", ax=ax)\n",
    "plt.show()\n",
    "\n",
    "plt.savefig('Graphs/heatmap_main_data.png')\n",
    "\n",
    "#the happiness score has a strong linear relationship with GDP and Family (Social Support, and health (healthy life expectancy\n",
    "#the happiness score is least correlated with generosity"
   ]
  },
  {
   "cell_type": "code",
   "execution_count": 30,
   "metadata": {},
   "outputs": [
    {
     "data": {
      "image/png": "[encoded data removed]",
      "text/plain": [
       "<Figure size 864x720 with 2 Axes>"
      ]
     },
     "metadata": {
      "needs_background": "light"
     },
     "output_type": "display_data"
    }
   ],
   "source": [
    "categories = [\"score\", \"gdp\", \"generosity\", \"freedom\", \"corruption\", \"health\", \"family\"]\n",
    "fig, ax = plt.subplots(figsize= (12, 10))\n",
    "sn.heatmap(dim_main_data[categories].corr(), annot=True, cmap=\"Blues\", linewidths=.5, fmt=\".1f\", ax=ax)\n",
    "plt.show()\n",
    "\n"
   ]
  },
  {
   "cell_type": "code",
   "execution_count": 31,
   "metadata": {},
   "outputs": [
    {
     "data": {
      "image/png": "[encoded data removed]",
      "text/plain": [
       "<Figure size 432x288 with 1 Axes>"
      ]
     },
     "metadata": {
      "needs_background": "light"
     },
     "output_type": "display_data"
    },
    {
     "data": {
      "text/plain": [
       "<Figure size 432x288 with 0 Axes>"
      ]
     },
     "metadata": {},
     "output_type": "display_data"
    }
   ],
   "source": [
    "#since GDP seems to have the greatest correlation with the happiness score, lets look at a linear regresion of the two\n",
    "linear_regression = LinearRegression()\n",
    "\n",
    "x = main_data.score.values.reshape(-1, 1)\n",
    "y = main_data[\"gdp\"].values.reshape(-1,1)\n",
    "\n",
    "\n",
    "\n",
    "linear_regression.fit(x,y)\n",
    "\n",
    "plt.scatter(main_data[\"score\"], main_data[\"gdp\"])\n",
    "y_head = linear_regression.predict(x)\n",
    "plt.plot(x, y_head, color = \"red\")\n",
    "plt.xlabel(\"Happiness Score\")\n",
    "plt.ylabel(\"GDP Score\")\n",
    "\n",
    "plt.show()\n",
    "\n",
    "plt.savefig('Graphs/gdp_score_lineregression.png')\n"
   ]
  },
  {
   "cell_type": "code",
   "execution_count": 32,
   "metadata": {},
   "outputs": [
    {
     "data": {
      "image/png": "[encoded data removed]",
      "text/plain": [
       "<Figure size 432x288 with 1 Axes>"
      ]
     },
     "metadata": {
      "needs_background": "light"
     },
     "output_type": "display_data"
    },
    {
     "data": {
      "text/plain": [
       "<Figure size 432x288 with 0 Axes>"
      ]
     },
     "metadata": {},
     "output_type": "display_data"
    }
   ],
   "source": [
    "linear_regression = LinearRegression()\n",
    "\n",
    "x = main_data.score.values.reshape(-1, 1)\n",
    "y = main_data[\"generosity\"].values.reshape(-1,1)\n",
    "\n",
    "linear_regression.fit(x,y)\n",
    "\n",
    "plt.scatter(main_data[\"score\"], main_data[\"generosity\"])\n",
    "y_head = linear_regression.predict(x)\n",
    "plt.plot(x, y_head, color = \"red\")\n",
    "plt.xlabel(\"Happiness Score\")\n",
    "plt.ylabel(\"Generosity\")\n",
    "\n",
    "plt.show()\n",
    "\n",
    "plt.savefig('Graphs/final_generosity_score_lineregression.png')"
   ]
  },
  {
   "cell_type": "code",
   "execution_count": 33,
   "metadata": {},
   "outputs": [
    {
     "data": {
      "image/png": "[encoded data removed]",
      "text/plain": [
       "<Figure size 432x288 with 1 Axes>"
      ]
     },
     "metadata": {
      "needs_background": "light"
     },
     "output_type": "display_data"
    },
    {
     "data": {
      "text/plain": [
       "<Figure size 432x288 with 0 Axes>"
      ]
     },
     "metadata": {},
     "output_type": "display_data"
    }
   ],
   "source": [
    "linear_regression = LinearRegression()\n",
    "\n",
    "x = main_data.score.values.reshape(-1, 1)\n",
    "y = main_data[\"family\"].values.reshape(-1,1)\n",
    "\n",
    "linear_regression.fit(x,y)\n",
    "\n",
    "plt.scatter(main_data[\"score\"], main_data[\"family\"])\n",
    "y_head = linear_regression.predict(x)\n",
    "plt.plot(x, y_head, color = \"red\")\n",
    "plt.xlabel(\"Happiness Score\")\n",
    "plt.ylabel(\"Family\")\n",
    "\n",
    "plt.show()\n",
    "\n",
    "plt.savefig('Graphs/family_score_lineregression.png')"
   ]
  },
  {
   "cell_type": "code",
   "execution_count": 54,
   "metadata": {},
   "outputs": [
    {
     "data": {
      "image/png": "[encoded data removed]",
      "text/plain": [
       "<Figure size 432x288 with 1 Axes>"
      ]
     },
     "metadata": {
      "needs_background": "light"
     },
     "output_type": "display_data"
    },
    {
     "data": {
      "text/plain": [
       "<Figure size 432x288 with 0 Axes>"
      ]
     },
     "metadata": {},
     "output_type": "display_data"
    }
   ],
   "source": [
    "linear_regression = LinearRegression()\n",
    "\n",
    "x = main_data.score.values.reshape(-1, 1)\n",
    "y = main_data[\"health\"].values.reshape(-1,1)\n",
    "\n",
    "linear_regression.fit(x,y)\n",
    "\n",
    "plt.scatter(main_data[\"score\"], main_data[\"health\"])\n",
    "y_head = linear_regression.predict(x)\n",
    "plt.plot(x, y_head, color = \"red\")\n",
    "plt.xlabel(\"Happiness Score\")\n",
    "plt.ylabel(\"Health\")\n",
    "\n",
    "plt.show()\n",
    "\n",
    "plt.savefig('Graphs/health_score_lineregression.png')"
   ]
  },
  {
   "cell_type": "code",
   "execution_count": 55,
   "metadata": {},
   "outputs": [
    {
     "name": "stdout",
     "output_type": "stream",
     "text": [
      "The correlation between both factors is 0.79\n"
     ]
    }
   ],
   "source": [
    "#correlation coefficient computation\n",
    "\n",
    "score = main_data.iloc[:, 2]\n",
    "gdp = main_data.iloc[:, 3]\n",
    "correlation = st.pearsonr(score, gdp)\n",
    "print(f\"The correlation between both factors is {round(correlation[0],2)}\")\n",
    "\n",
    "plt.show()"
   ]
  },
  {
   "cell_type": "code",
   "execution_count": 56,
   "metadata": {},
   "outputs": [
    {
     "ename": "TypeError",
     "evalue": "'<' not supported between instances of 'int' and 'str'",
     "output_type": "error",
     "traceback": [
      "\u001b[0;31m---------------------------------------------------------------------------\u001b[0m",
      "\u001b[0;31mTypeError\u001b[0m                                 Traceback (most recent call last)",
      "\u001b[0;32m<ipython-input-56-6f8bddbc503b>\u001b[0m in \u001b[0;36m<module>\u001b[0;34m\u001b[0m\n\u001b[0;32m----> 1\u001b[0;31m \u001b[0mfig\u001b[0m \u001b[0;34m=\u001b[0m \u001b[0msm\u001b[0m\u001b[0;34m.\u001b[0m\u001b[0mqqplot\u001b[0m\u001b[0;34m(\u001b[0m\u001b[0mmain_data\u001b[0m\u001b[0;34m,\u001b[0m \u001b[0mline\u001b[0m\u001b[0;34m=\u001b[0m\u001b[0;34m'45'\u001b[0m\u001b[0;34m)\u001b[0m\u001b[0;34m\u001b[0m\u001b[0;34m\u001b[0m\u001b[0m\n\u001b[0m\u001b[1;32m      2\u001b[0m \u001b[0mplt\u001b[0m\u001b[0;34m.\u001b[0m\u001b[0mshow\u001b[0m\u001b[0;34m(\u001b[0m\u001b[0;34m)\u001b[0m\u001b[0;34m\u001b[0m\u001b[0;34m\u001b[0m\u001b[0m\n",
      "\u001b[0;32m~/opt/anaconda3/envs/PythonData/lib/python3.6/site-packages/statsmodels/graphics/gofplots.py\u001b[0m in \u001b[0;36mqqplot\u001b[0;34m(data, dist, distargs, a, loc, scale, fit, line, ax, **plotkwargs)\u001b[0m\n\u001b[1;32m    685\u001b[0m         \u001b[0mdata\u001b[0m\u001b[0;34m,\u001b[0m \u001b[0mdist\u001b[0m\u001b[0;34m=\u001b[0m\u001b[0mdist\u001b[0m\u001b[0;34m,\u001b[0m \u001b[0mdistargs\u001b[0m\u001b[0;34m=\u001b[0m\u001b[0mdistargs\u001b[0m\u001b[0;34m,\u001b[0m \u001b[0mfit\u001b[0m\u001b[0;34m=\u001b[0m\u001b[0mfit\u001b[0m\u001b[0;34m,\u001b[0m \u001b[0ma\u001b[0m\u001b[0;34m=\u001b[0m\u001b[0ma\u001b[0m\u001b[0;34m,\u001b[0m \u001b[0mloc\u001b[0m\u001b[0;34m=\u001b[0m\u001b[0mloc\u001b[0m\u001b[0;34m,\u001b[0m \u001b[0mscale\u001b[0m\u001b[0;34m=\u001b[0m\u001b[0mscale\u001b[0m\u001b[0;34m\u001b[0m\u001b[0;34m\u001b[0m\u001b[0m\n\u001b[1;32m    686\u001b[0m     )\n\u001b[0;32m--> 687\u001b[0;31m     \u001b[0mfig\u001b[0m \u001b[0;34m=\u001b[0m \u001b[0mprobplot\u001b[0m\u001b[0;34m.\u001b[0m\u001b[0mqqplot\u001b[0m\u001b[0;34m(\u001b[0m\u001b[0max\u001b[0m\u001b[0;34m=\u001b[0m\u001b[0max\u001b[0m\u001b[0;34m,\u001b[0m \u001b[0mline\u001b[0m\u001b[0;34m=\u001b[0m\u001b[0mline\u001b[0m\u001b[0;34m,\u001b[0m \u001b[0;34m**\u001b[0m\u001b[0mplotkwargs\u001b[0m\u001b[0;34m)\u001b[0m\u001b[0;34m\u001b[0m\u001b[0;34m\u001b[0m\u001b[0m\n\u001b[0m\u001b[1;32m    688\u001b[0m     \u001b[0;32mreturn\u001b[0m \u001b[0mfig\u001b[0m\u001b[0;34m\u001b[0m\u001b[0;34m\u001b[0m\u001b[0m\n\u001b[1;32m    689\u001b[0m \u001b[0;34m\u001b[0m\u001b[0m\n",
      "\u001b[0;32m~/opt/anaconda3/envs/PythonData/lib/python3.6/site-packages/statsmodels/graphics/gofplots.py\u001b[0m in \u001b[0;36mqqplot\u001b[0;34m(self, xlabel, ylabel, line, other, ax, **plotkwargs)\u001b[0m\n\u001b[1;32m    473\u001b[0m             fig, ax = _do_plot(\n\u001b[1;32m    474\u001b[0m                 \u001b[0mself\u001b[0m\u001b[0;34m.\u001b[0m\u001b[0mtheoretical_quantiles\u001b[0m\u001b[0;34m,\u001b[0m\u001b[0;34m\u001b[0m\u001b[0;34m\u001b[0m\u001b[0m\n\u001b[0;32m--> 475\u001b[0;31m                 \u001b[0mself\u001b[0m\u001b[0;34m.\u001b[0m\u001b[0msample_quantiles\u001b[0m\u001b[0;34m,\u001b[0m\u001b[0;34m\u001b[0m\u001b[0;34m\u001b[0m\u001b[0m\n\u001b[0m\u001b[1;32m    476\u001b[0m                 \u001b[0mself\u001b[0m\u001b[0;34m.\u001b[0m\u001b[0mdist\u001b[0m\u001b[0;34m,\u001b[0m\u001b[0;34m\u001b[0m\u001b[0;34m\u001b[0m\u001b[0m\n\u001b[1;32m    477\u001b[0m                 \u001b[0max\u001b[0m\u001b[0;34m=\u001b[0m\u001b[0max\u001b[0m\u001b[0;34m,\u001b[0m\u001b[0;34m\u001b[0m\u001b[0;34m\u001b[0m\u001b[0m\n",
      "\u001b[0;32mpandas/_libs/properties.pyx\u001b[0m in \u001b[0;36mpandas._libs.properties.CachedProperty.__get__\u001b[0;34m()\u001b[0m\n",
      "\u001b[0;32m~/opt/anaconda3/envs/PythonData/lib/python3.6/site-packages/statsmodels/graphics/gofplots.py\u001b[0m in \u001b[0;36msample_quantiles\u001b[0;34m(self)\u001b[0m\n\u001b[1;32m    282\u001b[0m             \u001b[0;32mreturn\u001b[0m \u001b[0;34m(\u001b[0m\u001b[0mself\u001b[0m\u001b[0;34m.\u001b[0m\u001b[0msorted_data\u001b[0m \u001b[0;34m-\u001b[0m \u001b[0mself\u001b[0m\u001b[0;34m.\u001b[0m\u001b[0mloc\u001b[0m\u001b[0;34m)\u001b[0m \u001b[0;34m/\u001b[0m \u001b[0mself\u001b[0m\u001b[0;34m.\u001b[0m\u001b[0mscale\u001b[0m\u001b[0;34m\u001b[0m\u001b[0;34m\u001b[0m\u001b[0m\n\u001b[1;32m    283\u001b[0m         \u001b[0;32melse\u001b[0m\u001b[0;34m:\u001b[0m\u001b[0;34m\u001b[0m\u001b[0;34m\u001b[0m\u001b[0m\n\u001b[0;32m--> 284\u001b[0;31m             \u001b[0;32mreturn\u001b[0m \u001b[0mself\u001b[0m\u001b[0;34m.\u001b[0m\u001b[0msorted_data\u001b[0m\u001b[0;34m\u001b[0m\u001b[0;34m\u001b[0m\u001b[0m\n\u001b[0m\u001b[1;32m    285\u001b[0m \u001b[0;34m\u001b[0m\u001b[0m\n\u001b[1;32m    286\u001b[0m     \u001b[0;34m@\u001b[0m\u001b[0mcache_readonly\u001b[0m\u001b[0;34m\u001b[0m\u001b[0;34m\u001b[0m\u001b[0m\n",
      "\u001b[0;32mpandas/_libs/properties.pyx\u001b[0m in \u001b[0;36mpandas._libs.properties.CachedProperty.__get__\u001b[0;34m()\u001b[0m\n",
      "\u001b[0;32m~/opt/anaconda3/envs/PythonData/lib/python3.6/site-packages/statsmodels/graphics/gofplots.py\u001b[0m in \u001b[0;36msorted_data\u001b[0;34m(self)\u001b[0m\n\u001b[1;32m    273\u001b[0m         \u001b[0;34m\"\"\"sorted data\"\"\"\u001b[0m\u001b[0;34m\u001b[0m\u001b[0;34m\u001b[0m\u001b[0m\n\u001b[1;32m    274\u001b[0m         \u001b[0msorted_data\u001b[0m \u001b[0;34m=\u001b[0m \u001b[0mnp\u001b[0m\u001b[0;34m.\u001b[0m\u001b[0marray\u001b[0m\u001b[0;34m(\u001b[0m\u001b[0mself\u001b[0m\u001b[0;34m.\u001b[0m\u001b[0mdata\u001b[0m\u001b[0;34m,\u001b[0m \u001b[0mcopy\u001b[0m\u001b[0;34m=\u001b[0m\u001b[0;32mTrue\u001b[0m\u001b[0;34m)\u001b[0m\u001b[0;34m\u001b[0m\u001b[0;34m\u001b[0m\u001b[0m\n\u001b[0;32m--> 275\u001b[0;31m         \u001b[0msorted_data\u001b[0m\u001b[0;34m.\u001b[0m\u001b[0msort\u001b[0m\u001b[0;34m(\u001b[0m\u001b[0;34m)\u001b[0m\u001b[0;34m\u001b[0m\u001b[0;34m\u001b[0m\u001b[0m\n\u001b[0m\u001b[1;32m    276\u001b[0m         \u001b[0;32mreturn\u001b[0m \u001b[0msorted_data\u001b[0m\u001b[0;34m\u001b[0m\u001b[0;34m\u001b[0m\u001b[0m\n\u001b[1;32m    277\u001b[0m \u001b[0;34m\u001b[0m\u001b[0m\n",
      "\u001b[0;31mTypeError\u001b[0m: '<' not supported between instances of 'int' and 'str'"
     ]
    }
   ],
   "source": [
    "fig = sm.qqplot(main_data, line='45')\n",
    "plt.show()"
   ]
  },
  {
   "cell_type": "code",
   "execution_count": 43,
   "metadata": {},
   "outputs": [
    {
     "data": {
      "image/png": "[encoded data removed]",
      "text/plain": [
       "<Figure size 432x288 with 1 Axes>"
      ]
     },
     "metadata": {
      "needs_background": "light"
     },
     "output_type": "display_data"
    }
   ],
   "source": [
    "play_data = np.random.normal(loc = 20, scale = 5, size=100)   \n",
    "st.probplot(play_data, dist=\"norm\", plot=pylab)\n",
    "pylab.show()"
   ]
  },
  {
   "cell_type": "code",
   "execution_count": null,
   "metadata": {},
   "outputs": [],
   "source": []
  }
 ],
 "metadata": {
  "kernelspec": {
   "display_name": "Python [conda env:PythonData] *",
   "language": "python",
   "name": "conda-env-PythonData-py"
  },
  "language_info": {
   "codemirror_mode": {
    "name": "ipython",
    "version": 3
   },
   "file_extension": ".py",
   "mimetype": "text/x-python",
   "name": "python",
   "nbconvert_exporter": "python",
   "pygments_lexer": "ipython3",
   "version": "3.6.10"
  }
 },
 "nbformat": 4,
 "nbformat_minor": 4
}
